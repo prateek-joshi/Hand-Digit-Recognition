{
  "nbformat": 4,
  "nbformat_minor": 0,
  "metadata": {
    "colab": {
      "name": "Hand-digits.ipynb",
      "provenance": []
    },
    "kernelspec": {
      "name": "python3",
      "display_name": "Python 3"
    },
    "accelerator": "GPU"
  },
  "cells": [
    {
      "cell_type": "code",
      "metadata": {
        "id": "8qNGloWOoX1y"
      },
      "source": [
        "import numpy as np\n",
        "import matplotlib.pyplot as plt\n",
        "import random, os\n",
        "import tensorflow as tf\n",
        "from tensorflow.image import grayscale_to_rgb\n",
        "from sklearn.model_selection import train_test_split\n",
        "from keras.preprocessing.image import ImageDataGenerator\n",
        "from keras.applications.resnet50 import ResNet50, preprocess_input\n",
        "from keras.models import Sequential, Model, load_model\n",
        "from keras.layers import Dense, Flatten"
      ],
      "execution_count": 1,
      "outputs": []
    },
    {
      "cell_type": "code",
      "metadata": {
        "id": "tDsUKKYqoluu"
      },
      "source": [
        "data = np.load('/content/drive/MyDrive/Datasets/Sign-language-digits-dataset/X.npy')\n",
        "label = np.load('/content/drive/MyDrive/Datasets/Sign-language-digits-dataset/Y.npy')"
      ],
      "execution_count": 2,
      "outputs": []
    },
    {
      "cell_type": "code",
      "metadata": {
        "colab": {
          "base_uri": "https://localhost:8080/"
        },
        "id": "LsP6rkuYosYb",
        "outputId": "f0e1bf09-f786-4e1b-a0f6-c4634aa53f45"
      },
      "source": [
        "data.shape, label.shape"
      ],
      "execution_count": 3,
      "outputs": [
        {
          "output_type": "execute_result",
          "data": {
            "text/plain": [
              "((2062, 64, 64), (2062, 10))"
            ]
          },
          "metadata": {
            "tags": []
          },
          "execution_count": 3
        }
      ]
    },
    {
      "cell_type": "code",
      "metadata": {
        "id": "DXEb8HOhqiDf"
      },
      "source": [
        "data = np.concatenate((data[204:409,:],\n",
        "                  data[822:1028,:],\n",
        "                  data[1649:1855,:],\n",
        "                  data[1443:1649,:],\n",
        "                  data[1236:1443,:],\n",
        "                  data[1855:2062,:],\n",
        "                  data[615:822,:],\n",
        "                  data[409:615,:],\n",
        "                  data[1028:1236,:],\n",
        "                  data[0:204,:]),axis = 0)"
      ],
      "execution_count": 4,
      "outputs": []
    },
    {
      "cell_type": "code",
      "metadata": {
        "colab": {
          "base_uri": "https://localhost:8080/",
          "height": 300
        },
        "id": "kRWpr_8iqpmQ",
        "outputId": "ed12480c-04ce-4f3b-cb5c-4304295b9425"
      },
      "source": [
        "x = random.randint(0,data.shape[0])\n",
        "\n",
        "plt.imshow(data[x], cmap='gray')\n",
        "plt.title(np.argmax(label[x]))"
      ],
      "execution_count": 5,
      "outputs": [
        {
          "output_type": "execute_result",
          "data": {
            "text/plain": [
              "Text(0.5, 1.0, '0')"
            ]
          },
          "metadata": {
            "tags": []
          },
          "execution_count": 5
        },
        {
          "output_type": "display_data",
          "data": {
            "image/png": "[encoded data removed]",
            "text/plain": [
              "<Figure size 432x288 with 1 Axes>"
            ]
          },
          "metadata": {
            "tags": [],
            "needs_background": "light"
          }
        }
      ]
    },
    {
      "cell_type": "code",
      "metadata": {
        "id": "olkQ4XsNt0xW"
      },
      "source": [
        "X_4d = data.reshape(data.shape[0],data.shape[1],data.shape[2],1)\n",
        "# X = data\n",
        "# y = np.argmax(label, axis=1).reshape(label.shape[0], 1)\n",
        "y = label"
      ],
      "execution_count": 6,
      "outputs": []
    },
    {
      "cell_type": "code",
      "metadata": {
        "colab": {
          "base_uri": "https://localhost:8080/"
        },
        "id": "qRDgtkAoulJa",
        "outputId": "8cfcbf55-50e6-43b2-e539-2f5e3d2cf6b3"
      },
      "source": [
        "X_4d.shape, y.shape"
      ],
      "execution_count": 7,
      "outputs": [
        {
          "output_type": "execute_result",
          "data": {
            "text/plain": [
              "((2062, 64, 64, 1), (2062, 10))"
            ]
          },
          "metadata": {
            "tags": []
          },
          "execution_count": 7
        }
      ]
    },
    {
      "cell_type": "code",
      "metadata": {
        "id": "kuTBYLvzultC"
      },
      "source": [
        "X_train, X_test, y_train, y_test = train_test_split(\n",
        "    X_4d,y,random_state=10, \n",
        "    test_size=0.2\n",
        ")"
      ],
      "execution_count": 8,
      "outputs": []
    },
    {
      "cell_type": "code",
      "metadata": {
        "colab": {
          "base_uri": "https://localhost:8080/"
        },
        "id": "D7ayyM4KRyL4",
        "outputId": "30ecd998-e63d-422d-e18b-0bcd05283f6c"
      },
      "source": [
        "X_train.shape, X_test.shape"
      ],
      "execution_count": 9,
      "outputs": [
        {
          "output_type": "execute_result",
          "data": {
            "text/plain": [
              "((1649, 64, 64, 1), (413, 64, 64, 1))"
            ]
          },
          "metadata": {
            "tags": []
          },
          "execution_count": 9
        }
      ]
    },
    {
      "cell_type": "code",
      "metadata": {
        "colab": {
          "base_uri": "https://localhost:8080/"
        },
        "id": "6vzDevhVR03s",
        "outputId": "c4ff5abf-36fd-4d12-d341-9b789eb16db8"
      },
      "source": [
        "y_train.shape, y_test.shape"
      ],
      "execution_count": 10,
      "outputs": [
        {
          "output_type": "execute_result",
          "data": {
            "text/plain": [
              "((1649, 10), (413, 10))"
            ]
          },
          "metadata": {
            "tags": []
          },
          "execution_count": 10
        }
      ]
    },
    {
      "cell_type": "code",
      "metadata": {
        "colab": {
          "base_uri": "https://localhost:8080/",
          "height": 357
        },
        "id": "r33YWDRFSAM_",
        "outputId": "58ab9fad-390d-474f-8cdc-eb2d3c285a87"
      },
      "source": [
        "x = random.randint(0,X_train.shape[0])\n",
        "\n",
        "plt.imshow(X_train[x].reshape(64,64), cmap='gray')\n",
        "plt.title(y_train[x])"
      ],
      "execution_count": 11,
      "outputs": [
        {
          "output_type": "stream",
          "text": [
            "/usr/local/lib/python3.7/dist-packages/matplotlib/text.py:1165: FutureWarning: elementwise comparison failed; returning scalar instead, but in the future will perform elementwise comparison\n",
            "  if s != self._text:\n"
          ],
          "name": "stderr"
        },
        {
          "output_type": "execute_result",
          "data": {
            "text/plain": [
              "Text(0.5, 1.0, '[0. 0. 0. 0. 0. 0. 1. 0. 0. 0.]')"
            ]
          },
          "metadata": {
            "tags": []
          },
          "execution_count": 11
        },
        {
          "output_type": "display_data",
          "data": {
            "image/png": "[encoded data removed]",
            "text/plain": [
              "<Figure size 432x288 with 1 Axes>"
            ]
          },
          "metadata": {
            "tags": [],
            "needs_background": "light"
          }
        }
      ]
    },
    {
      "cell_type": "markdown",
      "metadata": {
        "id": "QSWlPxJoS6y1"
      },
      "source": [
        "Data Augmentation"
      ]
    },
    {
      "cell_type": "code",
      "metadata": {
        "id": "RJPWBrPcSJTY"
      },
      "source": [
        "datagen = ImageDataGenerator(\n",
        "    rotation_range=20,\n",
        "    width_shift_range=0.2,\n",
        "    height_shift_range=0.2,\n",
        "    horizontal_flip=True\n",
        ")"
      ],
      "execution_count": 12,
      "outputs": []
    },
    {
      "cell_type": "markdown",
      "metadata": {
        "id": "Zxq9YGSzTbpX"
      },
      "source": [
        "Model construction"
      ]
    },
    {
      "cell_type": "code",
      "metadata": {
        "id": "Tz4NGBB6TVKm"
      },
      "source": [
        "rgb_train = grayscale_to_rgb(tf.constant(X_train)).numpy()\n",
        "rgb_test = grayscale_to_rgb(tf.constant(X_test)).numpy()\n",
        "\n",
        "n,w,h,c = rgb_train.shape\n",
        "\n",
        "resnet = ResNet50(\n",
        "    input_shape=(w,h,c),\n",
        "    include_top=False,\n",
        "    weights='imagenet',\n",
        "    classes=10\n",
        ")\n",
        "\n",
        "# rgb_train.numpy().shape, rgb_test.numpy().shape"
      ],
      "execution_count": 36,
      "outputs": []
    },
    {
      "cell_type": "code",
      "metadata": {
        "colab": {
          "base_uri": "https://localhost:8080/",
          "height": 324
        },
        "id": "AxuMx72b2-Wa",
        "outputId": "39b96205-73e9-4097-bf3c-c3c0cea3353d"
      },
      "source": [
        "print(rgb_train.shape, rgb_test.shape, y_train.shape, y_test.shape)\n",
        "print(y_train[0])\n",
        "plt.imshow(rgb_train[0])"
      ],
      "execution_count": 37,
      "outputs": [
        {
          "output_type": "stream",
          "text": [
            "(1649, 64, 64, 3) (413, 64, 64, 3) (1649, 10) (413, 10)\n",
            "[0. 0. 0. 1. 0. 0. 0. 0. 0. 0.]\n"
          ],
          "name": "stdout"
        },
        {
          "output_type": "execute_result",
          "data": {
            "text/plain": [
              "<matplotlib.image.AxesImage at 0x7fc550f48910>"
            ]
          },
          "metadata": {
            "tags": []
          },
          "execution_count": 37
        },
        {
          "output_type": "display_data",
          "data": {
            "image/png": "[encoded data removed]",
            "text/plain": [
              "<Figure size 432x288 with 1 Axes>"
            ]
          },
          "metadata": {
            "tags": [],
            "needs_background": "light"
          }
        }
      ]
    },
    {
      "cell_type": "code",
      "metadata": {
        "colab": {
          "base_uri": "https://localhost:8080/"
        },
        "id": "E7rZMg3McMBX",
        "outputId": "c9ac5e0d-0a57-4e8b-8598-7fd88e650201"
      },
      "source": [
        "resnet.summary()"
      ],
      "execution_count": 38,
      "outputs": [
        {
          "output_type": "stream",
          "text": [
            "Model: \"resnet50\"\n",
            "__________________________________________________________________________________________________\n",
            "Layer (type)                    Output Shape         Param #     Connected to                     \n",
            "==================================================================================================\n",
            "input_2 (InputLayer)            [(None, 64, 64, 3)]  0                                            \n",
            "__________________________________________________________________________________________________\n",
            "conv1_pad (ZeroPadding2D)       (None, 70, 70, 3)    0           input_2[0][0]                    \n",
            "__________________________________________________________________________________________________\n",
            "conv1_conv (Conv2D)             (None, 32, 32, 64)   9472        conv1_pad[0][0]                  \n",
            "__________________________________________________________________________________________________\n",
            "conv1_bn (BatchNormalization)   (None, 32, 32, 64)   256         conv1_conv[0][0]                 \n",
            "__________________________________________________________________________________________________\n",
            "conv1_relu (Activation)         (None, 32, 32, 64)   0           conv1_bn[0][0]                   \n",
            "__________________________________________________________________________________________________\n",
            "pool1_pad (ZeroPadding2D)       (None, 34, 34, 64)   0           conv1_relu[0][0]                 \n",
            "__________________________________________________________________________________________________\n",
            "pool1_pool (MaxPooling2D)       (None, 16, 16, 64)   0           pool1_pad[0][0]                  \n",
            "__________________________________________________________________________________________________\n",
            "conv2_block1_1_conv (Conv2D)    (None, 16, 16, 64)   4160        pool1_pool[0][0]                 \n",
            "__________________________________________________________________________________________________\n",
            "conv2_block1_1_bn (BatchNormali (None, 16, 16, 64)   256         conv2_block1_1_conv[0][0]        \n",
            "__________________________________________________________________________________________________\n",
            "conv2_block1_1_relu (Activation (None, 16, 16, 64)   0           conv2_block1_1_bn[0][0]          \n",
            "__________________________________________________________________________________________________\n",
            "conv2_block1_2_conv (Conv2D)    (None, 16, 16, 64)   36928       conv2_block1_1_relu[0][0]        \n",
            "__________________________________________________________________________________________________\n",
            "conv2_block1_2_bn (BatchNormali (None, 16, 16, 64)   256         conv2_block1_2_conv[0][0]        \n",
            "__________________________________________________________________________________________________\n",
            "conv2_block1_2_relu (Activation (None, 16, 16, 64)   0           conv2_block1_2_bn[0][0]          \n",
            "__________________________________________________________________________________________________\n",
            "conv2_block1_0_conv (Conv2D)    (None, 16, 16, 256)  16640       pool1_pool[0][0]                 \n",
            "__________________________________________________________________________________________________\n",
            "conv2_block1_3_conv (Conv2D)    (None, 16, 16, 256)  16640       conv2_block1_2_relu[0][0]        \n",
            "__________________________________________________________________________________________________\n",
            "conv2_block1_0_bn (BatchNormali (None, 16, 16, 256)  1024        conv2_block1_0_conv[0][0]        \n",
            "__________________________________________________________________________________________________\n",
            "conv2_block1_3_bn (BatchNormali (None, 16, 16, 256)  1024        conv2_block1_3_conv[0][0]        \n",
            "__________________________________________________________________________________________________\n",
            "conv2_block1_add (Add)          (None, 16, 16, 256)  0           conv2_block1_0_bn[0][0]          \n",
            "                                                                 conv2_block1_3_bn[0][0]          \n",
            "__________________________________________________________________________________________________\n",
            "conv2_block1_out (Activation)   (None, 16, 16, 256)  0           conv2_block1_add[0][0]           \n",
            "__________________________________________________________________________________________________\n",
            "conv2_block2_1_conv (Conv2D)    (None, 16, 16, 64)   16448       conv2_block1_out[0][0]           \n",
            "__________________________________________________________________________________________________\n",
            "conv2_block2_1_bn (BatchNormali (None, 16, 16, 64)   256         conv2_block2_1_conv[0][0]        \n",
            "__________________________________________________________________________________________________\n",
            "conv2_block2_1_relu (Activation (None, 16, 16, 64)   0           conv2_block2_1_bn[0][0]          \n",
            "__________________________________________________________________________________________________\n",
            "conv2_block2_2_conv (Conv2D)    (None, 16, 16, 64)   36928       conv2_block2_1_relu[0][0]        \n",
            "__________________________________________________________________________________________________\n",
            "conv2_block2_2_bn (BatchNormali (None, 16, 16, 64)   256         conv2_block2_2_conv[0][0]        \n",
            "__________________________________________________________________________________________________\n",
            "conv2_block2_2_relu (Activation (None, 16, 16, 64)   0           conv2_block2_2_bn[0][0]          \n",
            "__________________________________________________________________________________________________\n",
            "conv2_block2_3_conv (Conv2D)    (None, 16, 16, 256)  16640       conv2_block2_2_relu[0][0]        \n",
            "__________________________________________________________________________________________________\n",
            "conv2_block2_3_bn (BatchNormali (None, 16, 16, 256)  1024        conv2_block2_3_conv[0][0]        \n",
            "__________________________________________________________________________________________________\n",
            "conv2_block2_add (Add)          (None, 16, 16, 256)  0           conv2_block1_out[0][0]           \n",
            "                                                                 conv2_block2_3_bn[0][0]          \n",
            "__________________________________________________________________________________________________\n",
            "conv2_block2_out (Activation)   (None, 16, 16, 256)  0           conv2_block2_add[0][0]           \n",
            "__________________________________________________________________________________________________\n",
            "conv2_block3_1_conv (Conv2D)    (None, 16, 16, 64)   16448       conv2_block2_out[0][0]           \n",
            "__________________________________________________________________________________________________\n",
            "conv2_block3_1_bn (BatchNormali (None, 16, 16, 64)   256         conv2_block3_1_conv[0][0]        \n",
            "__________________________________________________________________________________________________\n",
            "conv2_block3_1_relu (Activation (None, 16, 16, 64)   0           conv2_block3_1_bn[0][0]          \n",
            "__________________________________________________________________________________________________\n",
            "conv2_block3_2_conv (Conv2D)    (None, 16, 16, 64)   36928       conv2_block3_1_relu[0][0]        \n",
            "__________________________________________________________________________________________________\n",
            "conv2_block3_2_bn (BatchNormali (None, 16, 16, 64)   256         conv2_block3_2_conv[0][0]        \n",
            "__________________________________________________________________________________________________\n",
            "conv2_block3_2_relu (Activation (None, 16, 16, 64)   0           conv2_block3_2_bn[0][0]          \n",
            "__________________________________________________________________________________________________\n",
            "conv2_block3_3_conv (Conv2D)    (None, 16, 16, 256)  16640       conv2_block3_2_relu[0][0]        \n",
            "__________________________________________________________________________________________________\n",
            "conv2_block3_3_bn (BatchNormali (None, 16, 16, 256)  1024        conv2_block3_3_conv[0][0]        \n",
            "__________________________________________________________________________________________________\n",
            "conv2_block3_add (Add)          (None, 16, 16, 256)  0           conv2_block2_out[0][0]           \n",
            "                                                                 conv2_block3_3_bn[0][0]          \n",
            "__________________________________________________________________________________________________\n",
            "conv2_block3_out (Activation)   (None, 16, 16, 256)  0           conv2_block3_add[0][0]           \n",
            "__________________________________________________________________________________________________\n",
            "conv3_block1_1_conv (Conv2D)    (None, 8, 8, 128)    32896       conv2_block3_out[0][0]           \n",
            "__________________________________________________________________________________________________\n",
            "conv3_block1_1_bn (BatchNormali (None, 8, 8, 128)    512         conv3_block1_1_conv[0][0]        \n",
            "__________________________________________________________________________________________________\n",
            "conv3_block1_1_relu (Activation (None, 8, 8, 128)    0           conv3_block1_1_bn[0][0]          \n",
            "__________________________________________________________________________________________________\n",
            "conv3_block1_2_conv (Conv2D)    (None, 8, 8, 128)    147584      conv3_block1_1_relu[0][0]        \n",
            "__________________________________________________________________________________________________\n",
            "conv3_block1_2_bn (BatchNormali (None, 8, 8, 128)    512         conv3_block1_2_conv[0][0]        \n",
            "__________________________________________________________________________________________________\n",
            "conv3_block1_2_relu (Activation (None, 8, 8, 128)    0           conv3_block1_2_bn[0][0]          \n",
            "__________________________________________________________________________________________________\n",
            "conv3_block1_0_conv (Conv2D)    (None, 8, 8, 512)    131584      conv2_block3_out[0][0]           \n",
            "__________________________________________________________________________________________________\n",
            "conv3_block1_3_conv (Conv2D)    (None, 8, 8, 512)    66048       conv3_block1_2_relu[0][0]        \n",
            "__________________________________________________________________________________________________\n",
            "conv3_block1_0_bn (BatchNormali (None, 8, 8, 512)    2048        conv3_block1_0_conv[0][0]        \n",
            "__________________________________________________________________________________________________\n",
            "conv3_block1_3_bn (BatchNormali (None, 8, 8, 512)    2048        conv3_block1_3_conv[0][0]        \n",
            "__________________________________________________________________________________________________\n",
            "conv3_block1_add (Add)          (None, 8, 8, 512)    0           conv3_block1_0_bn[0][0]          \n",
            "                                                                 conv3_block1_3_bn[0][0]          \n",
            "__________________________________________________________________________________________________\n",
            "conv3_block1_out (Activation)   (None, 8, 8, 512)    0           conv3_block1_add[0][0]           \n",
            "__________________________________________________________________________________________________\n",
            "conv3_block2_1_conv (Conv2D)    (None, 8, 8, 128)    65664       conv3_block1_out[0][0]           \n",
            "__________________________________________________________________________________________________\n",
            "conv3_block2_1_bn (BatchNormali (None, 8, 8, 128)    512         conv3_block2_1_conv[0][0]        \n",
            "__________________________________________________________________________________________________\n",
            "conv3_block2_1_relu (Activation (None, 8, 8, 128)    0           conv3_block2_1_bn[0][0]          \n",
            "__________________________________________________________________________________________________\n",
            "conv3_block2_2_conv (Conv2D)    (None, 8, 8, 128)    147584      conv3_block2_1_relu[0][0]        \n",
            "__________________________________________________________________________________________________\n",
            "conv3_block2_2_bn (BatchNormali (None, 8, 8, 128)    512         conv3_block2_2_conv[0][0]        \n",
            "__________________________________________________________________________________________________\n",
            "conv3_block2_2_relu (Activation (None, 8, 8, 128)    0           conv3_block2_2_bn[0][0]          \n",
            "__________________________________________________________________________________________________\n",
            "conv3_block2_3_conv (Conv2D)    (None, 8, 8, 512)    66048       conv3_block2_2_relu[0][0]        \n",
            "__________________________________________________________________________________________________\n",
            "conv3_block2_3_bn (BatchNormali (None, 8, 8, 512)    2048        conv3_block2_3_conv[0][0]        \n",
            "__________________________________________________________________________________________________\n",
            "conv3_block2_add (Add)          (None, 8, 8, 512)    0           conv3_block1_out[0][0]           \n",
            "                                                                 conv3_block2_3_bn[0][0]          \n",
            "__________________________________________________________________________________________________\n",
            "conv3_block2_out (Activation)   (None, 8, 8, 512)    0           conv3_block2_add[0][0]           \n",
            "__________________________________________________________________________________________________\n",
            "conv3_block3_1_conv (Conv2D)    (None, 8, 8, 128)    65664       conv3_block2_out[0][0]           \n",
            "__________________________________________________________________________________________________\n",
            "conv3_block3_1_bn (BatchNormali (None, 8, 8, 128)    512         conv3_block3_1_conv[0][0]        \n",
            "__________________________________________________________________________________________________\n",
            "conv3_block3_1_relu (Activation (None, 8, 8, 128)    0           conv3_block3_1_bn[0][0]          \n",
            "__________________________________________________________________________________________________\n",
            "conv3_block3_2_conv (Conv2D)    (None, 8, 8, 128)    147584      conv3_block3_1_relu[0][0]        \n",
            "__________________________________________________________________________________________________\n",
            "conv3_block3_2_bn (BatchNormali (None, 8, 8, 128)    512         conv3_block3_2_conv[0][0]        \n",
            "__________________________________________________________________________________________________\n",
            "conv3_block3_2_relu (Activation (None, 8, 8, 128)    0           conv3_block3_2_bn[0][0]          \n",
            "__________________________________________________________________________________________________\n",
            "conv3_block3_3_conv (Conv2D)    (None, 8, 8, 512)    66048       conv3_block3_2_relu[0][0]        \n",
            "__________________________________________________________________________________________________\n",
            "conv3_block3_3_bn (BatchNormali (None, 8, 8, 512)    2048        conv3_block3_3_conv[0][0]        \n",
            "__________________________________________________________________________________________________\n",
            "conv3_block3_add (Add)          (None, 8, 8, 512)    0           conv3_block2_out[0][0]           \n",
            "                                                                 conv3_block3_3_bn[0][0]          \n",
            "__________________________________________________________________________________________________\n",
            "conv3_block3_out (Activation)   (None, 8, 8, 512)    0           conv3_block3_add[0][0]           \n",
            "__________________________________________________________________________________________________\n",
            "conv3_block4_1_conv (Conv2D)    (None, 8, 8, 128)    65664       conv3_block3_out[0][0]           \n",
            "__________________________________________________________________________________________________\n",
            "conv3_block4_1_bn (BatchNormali (None, 8, 8, 128)    512         conv3_block4_1_conv[0][0]        \n",
            "__________________________________________________________________________________________________\n",
            "conv3_block4_1_relu (Activation (None, 8, 8, 128)    0           conv3_block4_1_bn[0][0]          \n",
            "__________________________________________________________________________________________________\n",
            "conv3_block4_2_conv (Conv2D)    (None, 8, 8, 128)    147584      conv3_block4_1_relu[0][0]        \n",
            "__________________________________________________________________________________________________\n",
            "conv3_block4_2_bn (BatchNormali (None, 8, 8, 128)    512         conv3_block4_2_conv[0][0]        \n",
            "__________________________________________________________________________________________________\n",
            "conv3_block4_2_relu (Activation (None, 8, 8, 128)    0           conv3_block4_2_bn[0][0]          \n",
            "__________________________________________________________________________________________________\n",
            "conv3_block4_3_conv (Conv2D)    (None, 8, 8, 512)    66048       conv3_block4_2_relu[0][0]        \n",
            "__________________________________________________________________________________________________\n",
            "conv3_block4_3_bn (BatchNormali (None, 8, 8, 512)    2048        conv3_block4_3_conv[0][0]        \n",
            "__________________________________________________________________________________________________\n",
            "conv3_block4_add (Add)          (None, 8, 8, 512)    0           conv3_block3_out[0][0]           \n",
            "                                                                 conv3_block4_3_bn[0][0]          \n",
            "__________________________________________________________________________________________________\n",
            "conv3_block4_out (Activation)   (None, 8, 8, 512)    0           conv3_block4_add[0][0]           \n",
            "__________________________________________________________________________________________________\n",
            "conv4_block1_1_conv (Conv2D)    (None, 4, 4, 256)    131328      conv3_block4_out[0][0]           \n",
            "__________________________________________________________________________________________________\n",
            "conv4_block1_1_bn (BatchNormali (None, 4, 4, 256)    1024        conv4_block1_1_conv[0][0]        \n",
            "__________________________________________________________________________________________________\n",
            "conv4_block1_1_relu (Activation (None, 4, 4, 256)    0           conv4_block1_1_bn[0][0]          \n",
            "__________________________________________________________________________________________________\n",
            "conv4_block1_2_conv (Conv2D)    (None, 4, 4, 256)    590080      conv4_block1_1_relu[0][0]        \n",
            "__________________________________________________________________________________________________\n",
            "conv4_block1_2_bn (BatchNormali (None, 4, 4, 256)    1024        conv4_block1_2_conv[0][0]        \n",
            "__________________________________________________________________________________________________\n",
            "conv4_block1_2_relu (Activation (None, 4, 4, 256)    0           conv4_block1_2_bn[0][0]          \n",
            "__________________________________________________________________________________________________\n",
            "conv4_block1_0_conv (Conv2D)    (None, 4, 4, 1024)   525312      conv3_block4_out[0][0]           \n",
            "__________________________________________________________________________________________________\n",
            "conv4_block1_3_conv (Conv2D)    (None, 4, 4, 1024)   263168      conv4_block1_2_relu[0][0]        \n",
            "__________________________________________________________________________________________________\n",
            "conv4_block1_0_bn (BatchNormali (None, 4, 4, 1024)   4096        conv4_block1_0_conv[0][0]        \n",
            "__________________________________________________________________________________________________\n",
            "conv4_block1_3_bn (BatchNormali (None, 4, 4, 1024)   4096        conv4_block1_3_conv[0][0]        \n",
            "__________________________________________________________________________________________________\n",
            "conv4_block1_add (Add)          (None, 4, 4, 1024)   0           conv4_block1_0_bn[0][0]          \n",
            "                                                                 conv4_block1_3_bn[0][0]          \n",
            "__________________________________________________________________________________________________\n",
            "conv4_block1_out (Activation)   (None, 4, 4, 1024)   0           conv4_block1_add[0][0]           \n",
            "__________________________________________________________________________________________________\n",
            "conv4_block2_1_conv (Conv2D)    (None, 4, 4, 256)    262400      conv4_block1_out[0][0]           \n",
            "__________________________________________________________________________________________________\n",
            "conv4_block2_1_bn (BatchNormali (None, 4, 4, 256)    1024        conv4_block2_1_conv[0][0]        \n",
            "__________________________________________________________________________________________________\n",
            "conv4_block2_1_relu (Activation (None, 4, 4, 256)    0           conv4_block2_1_bn[0][0]          \n",
            "__________________________________________________________________________________________________\n",
            "conv4_block2_2_conv (Conv2D)    (None, 4, 4, 256)    590080      conv4_block2_1_relu[0][0]        \n",
            "__________________________________________________________________________________________________\n",
            "conv4_block2_2_bn (BatchNormali (None, 4, 4, 256)    1024        conv4_block2_2_conv[0][0]        \n",
            "__________________________________________________________________________________________________\n",
            "conv4_block2_2_relu (Activation (None, 4, 4, 256)    0           conv4_block2_2_bn[0][0]          \n",
            "__________________________________________________________________________________________________\n",
            "conv4_block2_3_conv (Conv2D)    (None, 4, 4, 1024)   263168      conv4_block2_2_relu[0][0]        \n",
            "__________________________________________________________________________________________________\n",
            "conv4_block2_3_bn (BatchNormali (None, 4, 4, 1024)   4096        conv4_block2_3_conv[0][0]        \n",
            "__________________________________________________________________________________________________\n",
            "conv4_block2_add (Add)          (None, 4, 4, 1024)   0           conv4_block1_out[0][0]           \n",
            "                                                                 conv4_block2_3_bn[0][0]          \n",
            "__________________________________________________________________________________________________\n",
            "conv4_block2_out (Activation)   (None, 4, 4, 1024)   0           conv4_block2_add[0][0]           \n",
            "__________________________________________________________________________________________________\n",
            "conv4_block3_1_conv (Conv2D)    (None, 4, 4, 256)    262400      conv4_block2_out[0][0]           \n",
            "__________________________________________________________________________________________________\n",
            "conv4_block3_1_bn (BatchNormali (None, 4, 4, 256)    1024        conv4_block3_1_conv[0][0]        \n",
            "__________________________________________________________________________________________________\n",
            "conv4_block3_1_relu (Activation (None, 4, 4, 256)    0           conv4_block3_1_bn[0][0]          \n",
            "__________________________________________________________________________________________________\n",
            "conv4_block3_2_conv (Conv2D)    (None, 4, 4, 256)    590080      conv4_block3_1_relu[0][0]        \n",
            "__________________________________________________________________________________________________\n",
            "conv4_block3_2_bn (BatchNormali (None, 4, 4, 256)    1024        conv4_block3_2_conv[0][0]        \n",
            "__________________________________________________________________________________________________\n",
            "conv4_block3_2_relu (Activation (None, 4, 4, 256)    0           conv4_block3_2_bn[0][0]          \n",
            "__________________________________________________________________________________________________\n",
            "conv4_block3_3_conv (Conv2D)    (None, 4, 4, 1024)   263168      conv4_block3_2_relu[0][0]        \n",
            "__________________________________________________________________________________________________\n",
            "conv4_block3_3_bn (BatchNormali (None, 4, 4, 1024)   4096        conv4_block3_3_conv[0][0]        \n",
            "__________________________________________________________________________________________________\n",
            "conv4_block3_add (Add)          (None, 4, 4, 1024)   0           conv4_block2_out[0][0]           \n",
            "                                                                 conv4_block3_3_bn[0][0]          \n",
            "__________________________________________________________________________________________________\n",
            "conv4_block3_out (Activation)   (None, 4, 4, 1024)   0           conv4_block3_add[0][0]           \n",
            "__________________________________________________________________________________________________\n",
            "conv4_block4_1_conv (Conv2D)    (None, 4, 4, 256)    262400      conv4_block3_out[0][0]           \n",
            "__________________________________________________________________________________________________\n",
            "conv4_block4_1_bn (BatchNormali (None, 4, 4, 256)    1024        conv4_block4_1_conv[0][0]        \n",
            "__________________________________________________________________________________________________\n",
            "conv4_block4_1_relu (Activation (None, 4, 4, 256)    0           conv4_block4_1_bn[0][0]          \n",
            "__________________________________________________________________________________________________\n",
            "conv4_block4_2_conv (Conv2D)    (None, 4, 4, 256)    590080      conv4_block4_1_relu[0][0]        \n",
            "__________________________________________________________________________________________________\n",
            "conv4_block4_2_bn (BatchNormali (None, 4, 4, 256)    1024        conv4_block4_2_conv[0][0]        \n",
            "__________________________________________________________________________________________________\n",
            "conv4_block4_2_relu (Activation (None, 4, 4, 256)    0           conv4_block4_2_bn[0][0]          \n",
            "__________________________________________________________________________________________________\n",
            "conv4_block4_3_conv (Conv2D)    (None, 4, 4, 1024)   263168      conv4_block4_2_relu[0][0]        \n",
            "__________________________________________________________________________________________________\n",
            "conv4_block4_3_bn (BatchNormali (None, 4, 4, 1024)   4096        conv4_block4_3_conv[0][0]        \n",
            "__________________________________________________________________________________________________\n",
            "conv4_block4_add (Add)          (None, 4, 4, 1024)   0           conv4_block3_out[0][0]           \n",
            "                                                                 conv4_block4_3_bn[0][0]          \n",
            "__________________________________________________________________________________________________\n",
            "conv4_block4_out (Activation)   (None, 4, 4, 1024)   0           conv4_block4_add[0][0]           \n",
            "__________________________________________________________________________________________________\n",
            "conv4_block5_1_conv (Conv2D)    (None, 4, 4, 256)    262400      conv4_block4_out[0][0]           \n",
            "__________________________________________________________________________________________________\n",
            "conv4_block5_1_bn (BatchNormali (None, 4, 4, 256)    1024        conv4_block5_1_conv[0][0]        \n",
            "__________________________________________________________________________________________________\n",
            "conv4_block5_1_relu (Activation (None, 4, 4, 256)    0           conv4_block5_1_bn[0][0]          \n",
            "__________________________________________________________________________________________________\n",
            "conv4_block5_2_conv (Conv2D)    (None, 4, 4, 256)    590080      conv4_block5_1_relu[0][0]        \n",
            "__________________________________________________________________________________________________\n",
            "conv4_block5_2_bn (BatchNormali (None, 4, 4, 256)    1024        conv4_block5_2_conv[0][0]        \n",
            "__________________________________________________________________________________________________\n",
            "conv4_block5_2_relu (Activation (None, 4, 4, 256)    0           conv4_block5_2_bn[0][0]          \n",
            "__________________________________________________________________________________________________\n",
            "conv4_block5_3_conv (Conv2D)    (None, 4, 4, 1024)   263168      conv4_block5_2_relu[0][0]        \n",
            "__________________________________________________________________________________________________\n",
            "conv4_block5_3_bn (BatchNormali (None, 4, 4, 1024)   4096        conv4_block5_3_conv[0][0]        \n",
            "__________________________________________________________________________________________________\n",
            "conv4_block5_add (Add)          (None, 4, 4, 1024)   0           conv4_block4_out[0][0]           \n",
            "                                                                 conv4_block5_3_bn[0][0]          \n",
            "__________________________________________________________________________________________________\n",
            "conv4_block5_out (Activation)   (None, 4, 4, 1024)   0           conv4_block5_add[0][0]           \n",
            "__________________________________________________________________________________________________\n",
            "conv4_block6_1_conv (Conv2D)    (None, 4, 4, 256)    262400      conv4_block5_out[0][0]           \n",
            "__________________________________________________________________________________________________\n",
            "conv4_block6_1_bn (BatchNormali (None, 4, 4, 256)    1024        conv4_block6_1_conv[0][0]        \n",
            "__________________________________________________________________________________________________\n",
            "conv4_block6_1_relu (Activation (None, 4, 4, 256)    0           conv4_block6_1_bn[0][0]          \n",
            "__________________________________________________________________________________________________\n",
            "conv4_block6_2_conv (Conv2D)    (None, 4, 4, 256)    590080      conv4_block6_1_relu[0][0]        \n",
            "__________________________________________________________________________________________________\n",
            "conv4_block6_2_bn (BatchNormali (None, 4, 4, 256)    1024        conv4_block6_2_conv[0][0]        \n",
            "__________________________________________________________________________________________________\n",
            "conv4_block6_2_relu (Activation (None, 4, 4, 256)    0           conv4_block6_2_bn[0][0]          \n",
            "__________________________________________________________________________________________________\n",
            "conv4_block6_3_conv (Conv2D)    (None, 4, 4, 1024)   263168      conv4_block6_2_relu[0][0]        \n",
            "__________________________________________________________________________________________________\n",
            "conv4_block6_3_bn (BatchNormali (None, 4, 4, 1024)   4096        conv4_block6_3_conv[0][0]        \n",
            "__________________________________________________________________________________________________\n",
            "conv4_block6_add (Add)          (None, 4, 4, 1024)   0           conv4_block5_out[0][0]           \n",
            "                                                                 conv4_block6_3_bn[0][0]          \n",
            "__________________________________________________________________________________________________\n",
            "conv4_block6_out (Activation)   (None, 4, 4, 1024)   0           conv4_block6_add[0][0]           \n",
            "__________________________________________________________________________________________________\n",
            "conv5_block1_1_conv (Conv2D)    (None, 2, 2, 512)    524800      conv4_block6_out[0][0]           \n",
            "__________________________________________________________________________________________________\n",
            "conv5_block1_1_bn (BatchNormali (None, 2, 2, 512)    2048        conv5_block1_1_conv[0][0]        \n",
            "__________________________________________________________________________________________________\n",
            "conv5_block1_1_relu (Activation (None, 2, 2, 512)    0           conv5_block1_1_bn[0][0]          \n",
            "__________________________________________________________________________________________________\n",
            "conv5_block1_2_conv (Conv2D)    (None, 2, 2, 512)    2359808     conv5_block1_1_relu[0][0]        \n",
            "__________________________________________________________________________________________________\n",
            "conv5_block1_2_bn (BatchNormali (None, 2, 2, 512)    2048        conv5_block1_2_conv[0][0]        \n",
            "__________________________________________________________________________________________________\n",
            "conv5_block1_2_relu (Activation (None, 2, 2, 512)    0           conv5_block1_2_bn[0][0]          \n",
            "__________________________________________________________________________________________________\n",
            "conv5_block1_0_conv (Conv2D)    (None, 2, 2, 2048)   2099200     conv4_block6_out[0][0]           \n",
            "__________________________________________________________________________________________________\n",
            "conv5_block1_3_conv (Conv2D)    (None, 2, 2, 2048)   1050624     conv5_block1_2_relu[0][0]        \n",
            "__________________________________________________________________________________________________\n",
            "conv5_block1_0_bn (BatchNormali (None, 2, 2, 2048)   8192        conv5_block1_0_conv[0][0]        \n",
            "__________________________________________________________________________________________________\n",
            "conv5_block1_3_bn (BatchNormali (None, 2, 2, 2048)   8192        conv5_block1_3_conv[0][0]        \n",
            "__________________________________________________________________________________________________\n",
            "conv5_block1_add (Add)          (None, 2, 2, 2048)   0           conv5_block1_0_bn[0][0]          \n",
            "                                                                 conv5_block1_3_bn[0][0]          \n",
            "__________________________________________________________________________________________________\n",
            "conv5_block1_out (Activation)   (None, 2, 2, 2048)   0           conv5_block1_add[0][0]           \n",
            "__________________________________________________________________________________________________\n",
            "conv5_block2_1_conv (Conv2D)    (None, 2, 2, 512)    1049088     conv5_block1_out[0][0]           \n",
            "__________________________________________________________________________________________________\n",
            "conv5_block2_1_bn (BatchNormali (None, 2, 2, 512)    2048        conv5_block2_1_conv[0][0]        \n",
            "__________________________________________________________________________________________________\n",
            "conv5_block2_1_relu (Activation (None, 2, 2, 512)    0           conv5_block2_1_bn[0][0]          \n",
            "__________________________________________________________________________________________________\n",
            "conv5_block2_2_conv (Conv2D)    (None, 2, 2, 512)    2359808     conv5_block2_1_relu[0][0]        \n",
            "__________________________________________________________________________________________________\n",
            "conv5_block2_2_bn (BatchNormali (None, 2, 2, 512)    2048        conv5_block2_2_conv[0][0]        \n",
            "__________________________________________________________________________________________________\n",
            "conv5_block2_2_relu (Activation (None, 2, 2, 512)    0           conv5_block2_2_bn[0][0]          \n",
            "__________________________________________________________________________________________________\n",
            "conv5_block2_3_conv (Conv2D)    (None, 2, 2, 2048)   1050624     conv5_block2_2_relu[0][0]        \n",
            "__________________________________________________________________________________________________\n",
            "conv5_block2_3_bn (BatchNormali (None, 2, 2, 2048)   8192        conv5_block2_3_conv[0][0]        \n",
            "__________________________________________________________________________________________________\n",
            "conv5_block2_add (Add)          (None, 2, 2, 2048)   0           conv5_block1_out[0][0]           \n",
            "                                                                 conv5_block2_3_bn[0][0]          \n",
            "__________________________________________________________________________________________________\n",
            "conv5_block2_out (Activation)   (None, 2, 2, 2048)   0           conv5_block2_add[0][0]           \n",
            "__________________________________________________________________________________________________\n",
            "conv5_block3_1_conv (Conv2D)    (None, 2, 2, 512)    1049088     conv5_block2_out[0][0]           \n",
            "__________________________________________________________________________________________________\n",
            "conv5_block3_1_bn (BatchNormali (None, 2, 2, 512)    2048        conv5_block3_1_conv[0][0]        \n",
            "__________________________________________________________________________________________________\n",
            "conv5_block3_1_relu (Activation (None, 2, 2, 512)    0           conv5_block3_1_bn[0][0]          \n",
            "__________________________________________________________________________________________________\n",
            "conv5_block3_2_conv (Conv2D)    (None, 2, 2, 512)    2359808     conv5_block3_1_relu[0][0]        \n",
            "__________________________________________________________________________________________________\n",
            "conv5_block3_2_bn (BatchNormali (None, 2, 2, 512)    2048        conv5_block3_2_conv[0][0]        \n",
            "__________________________________________________________________________________________________\n",
            "conv5_block3_2_relu (Activation (None, 2, 2, 512)    0           conv5_block3_2_bn[0][0]          \n",
            "__________________________________________________________________________________________________\n",
            "conv5_block3_3_conv (Conv2D)    (None, 2, 2, 2048)   1050624     conv5_block3_2_relu[0][0]        \n",
            "__________________________________________________________________________________________________\n",
            "conv5_block3_3_bn (BatchNormali (None, 2, 2, 2048)   8192        conv5_block3_3_conv[0][0]        \n",
            "__________________________________________________________________________________________________\n",
            "conv5_block3_add (Add)          (None, 2, 2, 2048)   0           conv5_block2_out[0][0]           \n",
            "                                                                 conv5_block3_3_bn[0][0]          \n",
            "__________________________________________________________________________________________________\n",
            "conv5_block3_out (Activation)   (None, 2, 2, 2048)   0           conv5_block3_add[0][0]           \n",
            "==================================================================================================\n",
            "Total params: 23,587,712\n",
            "Trainable params: 23,534,592\n",
            "Non-trainable params: 53,120\n",
            "__________________________________________________________________________________________________\n"
          ],
          "name": "stdout"
        }
      ]
    },
    {
      "cell_type": "code",
      "metadata": {
        "id": "ue8M-y5ogkCR"
      },
      "source": [
        "resnet.trainable = False"
      ],
      "execution_count": 39,
      "outputs": []
    },
    {
      "cell_type": "code",
      "metadata": {
        "colab": {
          "base_uri": "https://localhost:8080/"
        },
        "id": "VRcu4i9jgw5L",
        "outputId": "f85d5de5-f631-4f78-e473-87c539725867"
      },
      "source": [
        "resnet.summary()"
      ],
      "execution_count": 40,
      "outputs": [
        {
          "output_type": "stream",
          "text": [
            "Model: \"resnet50\"\n",
            "__________________________________________________________________________________________________\n",
            "Layer (type)                    Output Shape         Param #     Connected to                     \n",
            "==================================================================================================\n",
            "input_2 (InputLayer)            [(None, 64, 64, 3)]  0                                            \n",
            "__________________________________________________________________________________________________\n",
            "conv1_pad (ZeroPadding2D)       (None, 70, 70, 3)    0           input_2[0][0]                    \n",
            "__________________________________________________________________________________________________\n",
            "conv1_conv (Conv2D)             (None, 32, 32, 64)   9472        conv1_pad[0][0]                  \n",
            "__________________________________________________________________________________________________\n",
            "conv1_bn (BatchNormalization)   (None, 32, 32, 64)   256         conv1_conv[0][0]                 \n",
            "__________________________________________________________________________________________________\n",
            "conv1_relu (Activation)         (None, 32, 32, 64)   0           conv1_bn[0][0]                   \n",
            "__________________________________________________________________________________________________\n",
            "pool1_pad (ZeroPadding2D)       (None, 34, 34, 64)   0           conv1_relu[0][0]                 \n",
            "__________________________________________________________________________________________________\n",
            "pool1_pool (MaxPooling2D)       (None, 16, 16, 64)   0           pool1_pad[0][0]                  \n",
            "__________________________________________________________________________________________________\n",
            "conv2_block1_1_conv (Conv2D)    (None, 16, 16, 64)   4160        pool1_pool[0][0]                 \n",
            "__________________________________________________________________________________________________\n",
            "conv2_block1_1_bn (BatchNormali (None, 16, 16, 64)   256         conv2_block1_1_conv[0][0]        \n",
            "__________________________________________________________________________________________________\n",
            "conv2_block1_1_relu (Activation (None, 16, 16, 64)   0           conv2_block1_1_bn[0][0]          \n",
            "__________________________________________________________________________________________________\n",
            "conv2_block1_2_conv (Conv2D)    (None, 16, 16, 64)   36928       conv2_block1_1_relu[0][0]        \n",
            "__________________________________________________________________________________________________\n",
            "conv2_block1_2_bn (BatchNormali (None, 16, 16, 64)   256         conv2_block1_2_conv[0][0]        \n",
            "__________________________________________________________________________________________________\n",
            "conv2_block1_2_relu (Activation (None, 16, 16, 64)   0           conv2_block1_2_bn[0][0]          \n",
            "__________________________________________________________________________________________________\n",
            "conv2_block1_0_conv (Conv2D)    (None, 16, 16, 256)  16640       pool1_pool[0][0]                 \n",
            "__________________________________________________________________________________________________\n",
            "conv2_block1_3_conv (Conv2D)    (None, 16, 16, 256)  16640       conv2_block1_2_relu[0][0]        \n",
            "__________________________________________________________________________________________________\n",
            "conv2_block1_0_bn (BatchNormali (None, 16, 16, 256)  1024        conv2_block1_0_conv[0][0]        \n",
            "__________________________________________________________________________________________________\n",
            "conv2_block1_3_bn (BatchNormali (None, 16, 16, 256)  1024        conv2_block1_3_conv[0][0]        \n",
            "__________________________________________________________________________________________________\n",
            "conv2_block1_add (Add)          (None, 16, 16, 256)  0           conv2_block1_0_bn[0][0]          \n",
            "                                                                 conv2_block1_3_bn[0][0]          \n",
            "__________________________________________________________________________________________________\n",
            "conv2_block1_out (Activation)   (None, 16, 16, 256)  0           conv2_block1_add[0][0]           \n",
            "__________________________________________________________________________________________________\n",
            "conv2_block2_1_conv (Conv2D)    (None, 16, 16, 64)   16448       conv2_block1_out[0][0]           \n",
            "__________________________________________________________________________________________________\n",
            "conv2_block2_1_bn (BatchNormali (None, 16, 16, 64)   256         conv2_block2_1_conv[0][0]        \n",
            "__________________________________________________________________________________________________\n",
            "conv2_block2_1_relu (Activation (None, 16, 16, 64)   0           conv2_block2_1_bn[0][0]          \n",
            "__________________________________________________________________________________________________\n",
            "conv2_block2_2_conv (Conv2D)    (None, 16, 16, 64)   36928       conv2_block2_1_relu[0][0]        \n",
            "__________________________________________________________________________________________________\n",
            "conv2_block2_2_bn (BatchNormali (None, 16, 16, 64)   256         conv2_block2_2_conv[0][0]        \n",
            "__________________________________________________________________________________________________\n",
            "conv2_block2_2_relu (Activation (None, 16, 16, 64)   0           conv2_block2_2_bn[0][0]          \n",
            "__________________________________________________________________________________________________\n",
            "conv2_block2_3_conv (Conv2D)    (None, 16, 16, 256)  16640       conv2_block2_2_relu[0][0]        \n",
            "__________________________________________________________________________________________________\n",
            "conv2_block2_3_bn (BatchNormali (None, 16, 16, 256)  1024        conv2_block2_3_conv[0][0]        \n",
            "__________________________________________________________________________________________________\n",
            "conv2_block2_add (Add)          (None, 16, 16, 256)  0           conv2_block1_out[0][0]           \n",
            "                                                                 conv2_block2_3_bn[0][0]          \n",
            "__________________________________________________________________________________________________\n",
            "conv2_block2_out (Activation)   (None, 16, 16, 256)  0           conv2_block2_add[0][0]           \n",
            "__________________________________________________________________________________________________\n",
            "conv2_block3_1_conv (Conv2D)    (None, 16, 16, 64)   16448       conv2_block2_out[0][0]           \n",
            "__________________________________________________________________________________________________\n",
            "conv2_block3_1_bn (BatchNormali (None, 16, 16, 64)   256         conv2_block3_1_conv[0][0]        \n",
            "__________________________________________________________________________________________________\n",
            "conv2_block3_1_relu (Activation (None, 16, 16, 64)   0           conv2_block3_1_bn[0][0]          \n",
            "__________________________________________________________________________________________________\n",
            "conv2_block3_2_conv (Conv2D)    (None, 16, 16, 64)   36928       conv2_block3_1_relu[0][0]        \n",
            "__________________________________________________________________________________________________\n",
            "conv2_block3_2_bn (BatchNormali (None, 16, 16, 64)   256         conv2_block3_2_conv[0][0]        \n",
            "__________________________________________________________________________________________________\n",
            "conv2_block3_2_relu (Activation (None, 16, 16, 64)   0           conv2_block3_2_bn[0][0]          \n",
            "__________________________________________________________________________________________________\n",
            "conv2_block3_3_conv (Conv2D)    (None, 16, 16, 256)  16640       conv2_block3_2_relu[0][0]        \n",
            "__________________________________________________________________________________________________\n",
            "conv2_block3_3_bn (BatchNormali (None, 16, 16, 256)  1024        conv2_block3_3_conv[0][0]        \n",
            "__________________________________________________________________________________________________\n",
            "conv2_block3_add (Add)          (None, 16, 16, 256)  0           conv2_block2_out[0][0]           \n",
            "                                                                 conv2_block3_3_bn[0][0]          \n",
            "__________________________________________________________________________________________________\n",
            "conv2_block3_out (Activation)   (None, 16, 16, 256)  0           conv2_block3_add[0][0]           \n",
            "__________________________________________________________________________________________________\n",
            "conv3_block1_1_conv (Conv2D)    (None, 8, 8, 128)    32896       conv2_block3_out[0][0]           \n",
            "__________________________________________________________________________________________________\n",
            "conv3_block1_1_bn (BatchNormali (None, 8, 8, 128)    512         conv3_block1_1_conv[0][0]        \n",
            "__________________________________________________________________________________________________\n",
            "conv3_block1_1_relu (Activation (None, 8, 8, 128)    0           conv3_block1_1_bn[0][0]          \n",
            "__________________________________________________________________________________________________\n",
            "conv3_block1_2_conv (Conv2D)    (None, 8, 8, 128)    147584      conv3_block1_1_relu[0][0]        \n",
            "__________________________________________________________________________________________________\n",
            "conv3_block1_2_bn (BatchNormali (None, 8, 8, 128)    512         conv3_block1_2_conv[0][0]        \n",
            "__________________________________________________________________________________________________\n",
            "conv3_block1_2_relu (Activation (None, 8, 8, 128)    0           conv3_block1_2_bn[0][0]          \n",
            "__________________________________________________________________________________________________\n",
            "conv3_block1_0_conv (Conv2D)    (None, 8, 8, 512)    131584      conv2_block3_out[0][0]           \n",
            "__________________________________________________________________________________________________\n",
            "conv3_block1_3_conv (Conv2D)    (None, 8, 8, 512)    66048       conv3_block1_2_relu[0][0]        \n",
            "__________________________________________________________________________________________________\n",
            "conv3_block1_0_bn (BatchNormali (None, 8, 8, 512)    2048        conv3_block1_0_conv[0][0]        \n",
            "__________________________________________________________________________________________________\n",
            "conv3_block1_3_bn (BatchNormali (None, 8, 8, 512)    2048        conv3_block1_3_conv[0][0]        \n",
            "__________________________________________________________________________________________________\n",
            "conv3_block1_add (Add)          (None, 8, 8, 512)    0           conv3_block1_0_bn[0][0]          \n",
            "                                                                 conv3_block1_3_bn[0][0]          \n",
            "__________________________________________________________________________________________________\n",
            "conv3_block1_out (Activation)   (None, 8, 8, 512)    0           conv3_block1_add[0][0]           \n",
            "__________________________________________________________________________________________________\n",
            "conv3_block2_1_conv (Conv2D)    (None, 8, 8, 128)    65664       conv3_block1_out[0][0]           \n",
            "__________________________________________________________________________________________________\n",
            "conv3_block2_1_bn (BatchNormali (None, 8, 8, 128)    512         conv3_block2_1_conv[0][0]        \n",
            "__________________________________________________________________________________________________\n",
            "conv3_block2_1_relu (Activation (None, 8, 8, 128)    0           conv3_block2_1_bn[0][0]          \n",
            "__________________________________________________________________________________________________\n",
            "conv3_block2_2_conv (Conv2D)    (None, 8, 8, 128)    147584      conv3_block2_1_relu[0][0]        \n",
            "__________________________________________________________________________________________________\n",
            "conv3_block2_2_bn (BatchNormali (None, 8, 8, 128)    512         conv3_block2_2_conv[0][0]        \n",
            "__________________________________________________________________________________________________\n",
            "conv3_block2_2_relu (Activation (None, 8, 8, 128)    0           conv3_block2_2_bn[0][0]          \n",
            "__________________________________________________________________________________________________\n",
            "conv3_block2_3_conv (Conv2D)    (None, 8, 8, 512)    66048       conv3_block2_2_relu[0][0]        \n",
            "__________________________________________________________________________________________________\n",
            "conv3_block2_3_bn (BatchNormali (None, 8, 8, 512)    2048        conv3_block2_3_conv[0][0]        \n",
            "__________________________________________________________________________________________________\n",
            "conv3_block2_add (Add)          (None, 8, 8, 512)    0           conv3_block1_out[0][0]           \n",
            "                                                                 conv3_block2_3_bn[0][0]          \n",
            "__________________________________________________________________________________________________\n",
            "conv3_block2_out (Activation)   (None, 8, 8, 512)    0           conv3_block2_add[0][0]           \n",
            "__________________________________________________________________________________________________\n",
            "conv3_block3_1_conv (Conv2D)    (None, 8, 8, 128)    65664       conv3_block2_out[0][0]           \n",
            "__________________________________________________________________________________________________\n",
            "conv3_block3_1_bn (BatchNormali (None, 8, 8, 128)    512         conv3_block3_1_conv[0][0]        \n",
            "__________________________________________________________________________________________________\n",
            "conv3_block3_1_relu (Activation (None, 8, 8, 128)    0           conv3_block3_1_bn[0][0]          \n",
            "__________________________________________________________________________________________________\n",
            "conv3_block3_2_conv (Conv2D)    (None, 8, 8, 128)    147584      conv3_block3_1_relu[0][0]        \n",
            "__________________________________________________________________________________________________\n",
            "conv3_block3_2_bn (BatchNormali (None, 8, 8, 128)    512         conv3_block3_2_conv[0][0]        \n",
            "__________________________________________________________________________________________________\n",
            "conv3_block3_2_relu (Activation (None, 8, 8, 128)    0           conv3_block3_2_bn[0][0]          \n",
            "__________________________________________________________________________________________________\n",
            "conv3_block3_3_conv (Conv2D)    (None, 8, 8, 512)    66048       conv3_block3_2_relu[0][0]        \n",
            "__________________________________________________________________________________________________\n",
            "conv3_block3_3_bn (BatchNormali (None, 8, 8, 512)    2048        conv3_block3_3_conv[0][0]        \n",
            "__________________________________________________________________________________________________\n",
            "conv3_block3_add (Add)          (None, 8, 8, 512)    0           conv3_block2_out[0][0]           \n",
            "                                                                 conv3_block3_3_bn[0][0]          \n",
            "__________________________________________________________________________________________________\n",
            "conv3_block3_out (Activation)   (None, 8, 8, 512)    0           conv3_block3_add[0][0]           \n",
            "__________________________________________________________________________________________________\n",
            "conv3_block4_1_conv (Conv2D)    (None, 8, 8, 128)    65664       conv3_block3_out[0][0]           \n",
            "__________________________________________________________________________________________________\n",
            "conv3_block4_1_bn (BatchNormali (None, 8, 8, 128)    512         conv3_block4_1_conv[0][0]        \n",
            "__________________________________________________________________________________________________\n",
            "conv3_block4_1_relu (Activation (None, 8, 8, 128)    0           conv3_block4_1_bn[0][0]          \n",
            "__________________________________________________________________________________________________\n",
            "conv3_block4_2_conv (Conv2D)    (None, 8, 8, 128)    147584      conv3_block4_1_relu[0][0]        \n",
            "__________________________________________________________________________________________________\n",
            "conv3_block4_2_bn (BatchNormali (None, 8, 8, 128)    512         conv3_block4_2_conv[0][0]        \n",
            "__________________________________________________________________________________________________\n",
            "conv3_block4_2_relu (Activation (None, 8, 8, 128)    0           conv3_block4_2_bn[0][0]          \n",
            "__________________________________________________________________________________________________\n",
            "conv3_block4_3_conv (Conv2D)    (None, 8, 8, 512)    66048       conv3_block4_2_relu[0][0]        \n",
            "__________________________________________________________________________________________________\n",
            "conv3_block4_3_bn (BatchNormali (None, 8, 8, 512)    2048        conv3_block4_3_conv[0][0]        \n",
            "__________________________________________________________________________________________________\n",
            "conv3_block4_add (Add)          (None, 8, 8, 512)    0           conv3_block3_out[0][0]           \n",
            "                                                                 conv3_block4_3_bn[0][0]          \n",
            "__________________________________________________________________________________________________\n",
            "conv3_block4_out (Activation)   (None, 8, 8, 512)    0           conv3_block4_add[0][0]           \n",
            "__________________________________________________________________________________________________\n",
            "conv4_block1_1_conv (Conv2D)    (None, 4, 4, 256)    131328      conv3_block4_out[0][0]           \n",
            "__________________________________________________________________________________________________\n",
            "conv4_block1_1_bn (BatchNormali (None, 4, 4, 256)    1024        conv4_block1_1_conv[0][0]        \n",
            "__________________________________________________________________________________________________\n",
            "conv4_block1_1_relu (Activation (None, 4, 4, 256)    0           conv4_block1_1_bn[0][0]          \n",
            "__________________________________________________________________________________________________\n",
            "conv4_block1_2_conv (Conv2D)    (None, 4, 4, 256)    590080      conv4_block1_1_relu[0][0]        \n",
            "__________________________________________________________________________________________________\n",
            "conv4_block1_2_bn (BatchNormali (None, 4, 4, 256)    1024        conv4_block1_2_conv[0][0]        \n",
            "__________________________________________________________________________________________________\n",
            "conv4_block1_2_relu (Activation (None, 4, 4, 256)    0           conv4_block1_2_bn[0][0]          \n",
            "__________________________________________________________________________________________________\n",
            "conv4_block1_0_conv (Conv2D)    (None, 4, 4, 1024)   525312      conv3_block4_out[0][0]           \n",
            "__________________________________________________________________________________________________\n",
            "conv4_block1_3_conv (Conv2D)    (None, 4, 4, 1024)   263168      conv4_block1_2_relu[0][0]        \n",
            "__________________________________________________________________________________________________\n",
            "conv4_block1_0_bn (BatchNormali (None, 4, 4, 1024)   4096        conv4_block1_0_conv[0][0]        \n",
            "__________________________________________________________________________________________________\n",
            "conv4_block1_3_bn (BatchNormali (None, 4, 4, 1024)   4096        conv4_block1_3_conv[0][0]        \n",
            "__________________________________________________________________________________________________\n",
            "conv4_block1_add (Add)          (None, 4, 4, 1024)   0           conv4_block1_0_bn[0][0]          \n",
            "                                                                 conv4_block1_3_bn[0][0]          \n",
            "__________________________________________________________________________________________________\n",
            "conv4_block1_out (Activation)   (None, 4, 4, 1024)   0           conv4_block1_add[0][0]           \n",
            "__________________________________________________________________________________________________\n",
            "conv4_block2_1_conv (Conv2D)    (None, 4, 4, 256)    262400      conv4_block1_out[0][0]           \n",
            "__________________________________________________________________________________________________\n",
            "conv4_block2_1_bn (BatchNormali (None, 4, 4, 256)    1024        conv4_block2_1_conv[0][0]        \n",
            "__________________________________________________________________________________________________\n",
            "conv4_block2_1_relu (Activation (None, 4, 4, 256)    0           conv4_block2_1_bn[0][0]          \n",
            "__________________________________________________________________________________________________\n",
            "conv4_block2_2_conv (Conv2D)    (None, 4, 4, 256)    590080      conv4_block2_1_relu[0][0]        \n",
            "__________________________________________________________________________________________________\n",
            "conv4_block2_2_bn (BatchNormali (None, 4, 4, 256)    1024        conv4_block2_2_conv[0][0]        \n",
            "__________________________________________________________________________________________________\n",
            "conv4_block2_2_relu (Activation (None, 4, 4, 256)    0           conv4_block2_2_bn[0][0]          \n",
            "__________________________________________________________________________________________________\n",
            "conv4_block2_3_conv (Conv2D)    (None, 4, 4, 1024)   263168      conv4_block2_2_relu[0][0]        \n",
            "__________________________________________________________________________________________________\n",
            "conv4_block2_3_bn (BatchNormali (None, 4, 4, 1024)   4096        conv4_block2_3_conv[0][0]        \n",
            "__________________________________________________________________________________________________\n",
            "conv4_block2_add (Add)          (None, 4, 4, 1024)   0           conv4_block1_out[0][0]           \n",
            "                                                                 conv4_block2_3_bn[0][0]          \n",
            "__________________________________________________________________________________________________\n",
            "conv4_block2_out (Activation)   (None, 4, 4, 1024)   0           conv4_block2_add[0][0]           \n",
            "__________________________________________________________________________________________________\n",
            "conv4_block3_1_conv (Conv2D)    (None, 4, 4, 256)    262400      conv4_block2_out[0][0]           \n",
            "__________________________________________________________________________________________________\n",
            "conv4_block3_1_bn (BatchNormali (None, 4, 4, 256)    1024        conv4_block3_1_conv[0][0]        \n",
            "__________________________________________________________________________________________________\n",
            "conv4_block3_1_relu (Activation (None, 4, 4, 256)    0           conv4_block3_1_bn[0][0]          \n",
            "__________________________________________________________________________________________________\n",
            "conv4_block3_2_conv (Conv2D)    (None, 4, 4, 256)    590080      conv4_block3_1_relu[0][0]        \n",
            "__________________________________________________________________________________________________\n",
            "conv4_block3_2_bn (BatchNormali (None, 4, 4, 256)    1024        conv4_block3_2_conv[0][0]        \n",
            "__________________________________________________________________________________________________\n",
            "conv4_block3_2_relu (Activation (None, 4, 4, 256)    0           conv4_block3_2_bn[0][0]          \n",
            "__________________________________________________________________________________________________\n",
            "conv4_block3_3_conv (Conv2D)    (None, 4, 4, 1024)   263168      conv4_block3_2_relu[0][0]        \n",
            "__________________________________________________________________________________________________\n",
            "conv4_block3_3_bn (BatchNormali (None, 4, 4, 1024)   4096        conv4_block3_3_conv[0][0]        \n",
            "__________________________________________________________________________________________________\n",
            "conv4_block3_add (Add)          (None, 4, 4, 1024)   0           conv4_block2_out[0][0]           \n",
            "                                                                 conv4_block3_3_bn[0][0]          \n",
            "__________________________________________________________________________________________________\n",
            "conv4_block3_out (Activation)   (None, 4, 4, 1024)   0           conv4_block3_add[0][0]           \n",
            "__________________________________________________________________________________________________\n",
            "conv4_block4_1_conv (Conv2D)    (None, 4, 4, 256)    262400      conv4_block3_out[0][0]           \n",
            "__________________________________________________________________________________________________\n",
            "conv4_block4_1_bn (BatchNormali (None, 4, 4, 256)    1024        conv4_block4_1_conv[0][0]        \n",
            "__________________________________________________________________________________________________\n",
            "conv4_block4_1_relu (Activation (None, 4, 4, 256)    0           conv4_block4_1_bn[0][0]          \n",
            "__________________________________________________________________________________________________\n",
            "conv4_block4_2_conv (Conv2D)    (None, 4, 4, 256)    590080      conv4_block4_1_relu[0][0]        \n",
            "__________________________________________________________________________________________________\n",
            "conv4_block4_2_bn (BatchNormali (None, 4, 4, 256)    1024        conv4_block4_2_conv[0][0]        \n",
            "__________________________________________________________________________________________________\n",
            "conv4_block4_2_relu (Activation (None, 4, 4, 256)    0           conv4_block4_2_bn[0][0]          \n",
            "__________________________________________________________________________________________________\n",
            "conv4_block4_3_conv (Conv2D)    (None, 4, 4, 1024)   263168      conv4_block4_2_relu[0][0]        \n",
            "__________________________________________________________________________________________________\n",
            "conv4_block4_3_bn (BatchNormali (None, 4, 4, 1024)   4096        conv4_block4_3_conv[0][0]        \n",
            "__________________________________________________________________________________________________\n",
            "conv4_block4_add (Add)          (None, 4, 4, 1024)   0           conv4_block3_out[0][0]           \n",
            "                                                                 conv4_block4_3_bn[0][0]          \n",
            "__________________________________________________________________________________________________\n",
            "conv4_block4_out (Activation)   (None, 4, 4, 1024)   0           conv4_block4_add[0][0]           \n",
            "__________________________________________________________________________________________________\n",
            "conv4_block5_1_conv (Conv2D)    (None, 4, 4, 256)    262400      conv4_block4_out[0][0]           \n",
            "__________________________________________________________________________________________________\n",
            "conv4_block5_1_bn (BatchNormali (None, 4, 4, 256)    1024        conv4_block5_1_conv[0][0]        \n",
            "__________________________________________________________________________________________________\n",
            "conv4_block5_1_relu (Activation (None, 4, 4, 256)    0           conv4_block5_1_bn[0][0]          \n",
            "__________________________________________________________________________________________________\n",
            "conv4_block5_2_conv (Conv2D)    (None, 4, 4, 256)    590080      conv4_block5_1_relu[0][0]        \n",
            "__________________________________________________________________________________________________\n",
            "conv4_block5_2_bn (BatchNormali (None, 4, 4, 256)    1024        conv4_block5_2_conv[0][0]        \n",
            "__________________________________________________________________________________________________\n",
            "conv4_block5_2_relu (Activation (None, 4, 4, 256)    0           conv4_block5_2_bn[0][0]          \n",
            "__________________________________________________________________________________________________\n",
            "conv4_block5_3_conv (Conv2D)    (None, 4, 4, 1024)   263168      conv4_block5_2_relu[0][0]        \n",
            "__________________________________________________________________________________________________\n",
            "conv4_block5_3_bn (BatchNormali (None, 4, 4, 1024)   4096        conv4_block5_3_conv[0][0]        \n",
            "__________________________________________________________________________________________________\n",
            "conv4_block5_add (Add)          (None, 4, 4, 1024)   0           conv4_block4_out[0][0]           \n",
            "                                                                 conv4_block5_3_bn[0][0]          \n",
            "__________________________________________________________________________________________________\n",
            "conv4_block5_out (Activation)   (None, 4, 4, 1024)   0           conv4_block5_add[0][0]           \n",
            "__________________________________________________________________________________________________\n",
            "conv4_block6_1_conv (Conv2D)    (None, 4, 4, 256)    262400      conv4_block5_out[0][0]           \n",
            "__________________________________________________________________________________________________\n",
            "conv4_block6_1_bn (BatchNormali (None, 4, 4, 256)    1024        conv4_block6_1_conv[0][0]        \n",
            "__________________________________________________________________________________________________\n",
            "conv4_block6_1_relu (Activation (None, 4, 4, 256)    0           conv4_block6_1_bn[0][0]          \n",
            "__________________________________________________________________________________________________\n",
            "conv4_block6_2_conv (Conv2D)    (None, 4, 4, 256)    590080      conv4_block6_1_relu[0][0]        \n",
            "__________________________________________________________________________________________________\n",
            "conv4_block6_2_bn (BatchNormali (None, 4, 4, 256)    1024        conv4_block6_2_conv[0][0]        \n",
            "__________________________________________________________________________________________________\n",
            "conv4_block6_2_relu (Activation (None, 4, 4, 256)    0           conv4_block6_2_bn[0][0]          \n",
            "__________________________________________________________________________________________________\n",
            "conv4_block6_3_conv (Conv2D)    (None, 4, 4, 1024)   263168      conv4_block6_2_relu[0][0]        \n",
            "__________________________________________________________________________________________________\n",
            "conv4_block6_3_bn (BatchNormali (None, 4, 4, 1024)   4096        conv4_block6_3_conv[0][0]        \n",
            "__________________________________________________________________________________________________\n",
            "conv4_block6_add (Add)          (None, 4, 4, 1024)   0           conv4_block5_out[0][0]           \n",
            "                                                                 conv4_block6_3_bn[0][0]          \n",
            "__________________________________________________________________________________________________\n",
            "conv4_block6_out (Activation)   (None, 4, 4, 1024)   0           conv4_block6_add[0][0]           \n",
            "__________________________________________________________________________________________________\n",
            "conv5_block1_1_conv (Conv2D)    (None, 2, 2, 512)    524800      conv4_block6_out[0][0]           \n",
            "__________________________________________________________________________________________________\n",
            "conv5_block1_1_bn (BatchNormali (None, 2, 2, 512)    2048        conv5_block1_1_conv[0][0]        \n",
            "__________________________________________________________________________________________________\n",
            "conv5_block1_1_relu (Activation (None, 2, 2, 512)    0           conv5_block1_1_bn[0][0]          \n",
            "__________________________________________________________________________________________________\n",
            "conv5_block1_2_conv (Conv2D)    (None, 2, 2, 512)    2359808     conv5_block1_1_relu[0][0]        \n",
            "__________________________________________________________________________________________________\n",
            "conv5_block1_2_bn (BatchNormali (None, 2, 2, 512)    2048        conv5_block1_2_conv[0][0]        \n",
            "__________________________________________________________________________________________________\n",
            "conv5_block1_2_relu (Activation (None, 2, 2, 512)    0           conv5_block1_2_bn[0][0]          \n",
            "__________________________________________________________________________________________________\n",
            "conv5_block1_0_conv (Conv2D)    (None, 2, 2, 2048)   2099200     conv4_block6_out[0][0]           \n",
            "__________________________________________________________________________________________________\n",
            "conv5_block1_3_conv (Conv2D)    (None, 2, 2, 2048)   1050624     conv5_block1_2_relu[0][0]        \n",
            "__________________________________________________________________________________________________\n",
            "conv5_block1_0_bn (BatchNormali (None, 2, 2, 2048)   8192        conv5_block1_0_conv[0][0]        \n",
            "__________________________________________________________________________________________________\n",
            "conv5_block1_3_bn (BatchNormali (None, 2, 2, 2048)   8192        conv5_block1_3_conv[0][0]        \n",
            "__________________________________________________________________________________________________\n",
            "conv5_block1_add (Add)          (None, 2, 2, 2048)   0           conv5_block1_0_bn[0][0]          \n",
            "                                                                 conv5_block1_3_bn[0][0]          \n",
            "__________________________________________________________________________________________________\n",
            "conv5_block1_out (Activation)   (None, 2, 2, 2048)   0           conv5_block1_add[0][0]           \n",
            "__________________________________________________________________________________________________\n",
            "conv5_block2_1_conv (Conv2D)    (None, 2, 2, 512)    1049088     conv5_block1_out[0][0]           \n",
            "__________________________________________________________________________________________________\n",
            "conv5_block2_1_bn (BatchNormali (None, 2, 2, 512)    2048        conv5_block2_1_conv[0][0]        \n",
            "__________________________________________________________________________________________________\n",
            "conv5_block2_1_relu (Activation (None, 2, 2, 512)    0           conv5_block2_1_bn[0][0]          \n",
            "__________________________________________________________________________________________________\n",
            "conv5_block2_2_conv (Conv2D)    (None, 2, 2, 512)    2359808     conv5_block2_1_relu[0][0]        \n",
            "__________________________________________________________________________________________________\n",
            "conv5_block2_2_bn (BatchNormali (None, 2, 2, 512)    2048        conv5_block2_2_conv[0][0]        \n",
            "__________________________________________________________________________________________________\n",
            "conv5_block2_2_relu (Activation (None, 2, 2, 512)    0           conv5_block2_2_bn[0][0]          \n",
            "__________________________________________________________________________________________________\n",
            "conv5_block2_3_conv (Conv2D)    (None, 2, 2, 2048)   1050624     conv5_block2_2_relu[0][0]        \n",
            "__________________________________________________________________________________________________\n",
            "conv5_block2_3_bn (BatchNormali (None, 2, 2, 2048)   8192        conv5_block2_3_conv[0][0]        \n",
            "__________________________________________________________________________________________________\n",
            "conv5_block2_add (Add)          (None, 2, 2, 2048)   0           conv5_block1_out[0][0]           \n",
            "                                                                 conv5_block2_3_bn[0][0]          \n",
            "__________________________________________________________________________________________________\n",
            "conv5_block2_out (Activation)   (None, 2, 2, 2048)   0           conv5_block2_add[0][0]           \n",
            "__________________________________________________________________________________________________\n",
            "conv5_block3_1_conv (Conv2D)    (None, 2, 2, 512)    1049088     conv5_block2_out[0][0]           \n",
            "__________________________________________________________________________________________________\n",
            "conv5_block3_1_bn (BatchNormali (None, 2, 2, 512)    2048        conv5_block3_1_conv[0][0]        \n",
            "__________________________________________________________________________________________________\n",
            "conv5_block3_1_relu (Activation (None, 2, 2, 512)    0           conv5_block3_1_bn[0][0]          \n",
            "__________________________________________________________________________________________________\n",
            "conv5_block3_2_conv (Conv2D)    (None, 2, 2, 512)    2359808     conv5_block3_1_relu[0][0]        \n",
            "__________________________________________________________________________________________________\n",
            "conv5_block3_2_bn (BatchNormali (None, 2, 2, 512)    2048        conv5_block3_2_conv[0][0]        \n",
            "__________________________________________________________________________________________________\n",
            "conv5_block3_2_relu (Activation (None, 2, 2, 512)    0           conv5_block3_2_bn[0][0]          \n",
            "__________________________________________________________________________________________________\n",
            "conv5_block3_3_conv (Conv2D)    (None, 2, 2, 2048)   1050624     conv5_block3_2_relu[0][0]        \n",
            "__________________________________________________________________________________________________\n",
            "conv5_block3_3_bn (BatchNormali (None, 2, 2, 2048)   8192        conv5_block3_3_conv[0][0]        \n",
            "__________________________________________________________________________________________________\n",
            "conv5_block3_add (Add)          (None, 2, 2, 2048)   0           conv5_block2_out[0][0]           \n",
            "                                                                 conv5_block3_3_bn[0][0]          \n",
            "__________________________________________________________________________________________________\n",
            "conv5_block3_out (Activation)   (None, 2, 2, 2048)   0           conv5_block3_add[0][0]           \n",
            "==================================================================================================\n",
            "Total params: 23,587,712\n",
            "Trainable params: 0\n",
            "Non-trainable params: 23,587,712\n",
            "__________________________________________________________________________________________________\n"
          ],
          "name": "stdout"
        }
      ]
    },
    {
      "cell_type": "code",
      "metadata": {
        "id": "cD6yDfqlhLUc"
      },
      "source": [
        "model = Sequential([\n",
        "                    resnet,\n",
        "                    Flatten(),\n",
        "                    Dense(1024, activation=tf.nn.relu),\n",
        "                    Dense(256, activation=tf.nn.relu),\n",
        "                    Dense(10, activation=tf.nn.softmax)\n",
        "], name='Sign_Digits')"
      ],
      "execution_count": 41,
      "outputs": []
    },
    {
      "cell_type": "code",
      "metadata": {
        "colab": {
          "base_uri": "https://localhost:8080/"
        },
        "id": "wLcRM011iEKE",
        "outputId": "d475b307-3aed-410f-f750-a917cf217671"
      },
      "source": [
        "model.summary()"
      ],
      "execution_count": 42,
      "outputs": [
        {
          "output_type": "stream",
          "text": [
            "Model: \"Sign_Digits\"\n",
            "_________________________________________________________________\n",
            "Layer (type)                 Output Shape              Param #   \n",
            "=================================================================\n",
            "resnet50 (Functional)        (None, 2, 2, 2048)        23587712  \n",
            "_________________________________________________________________\n",
            "flatten_1 (Flatten)          (None, 8192)              0         \n",
            "_________________________________________________________________\n",
            "dense_3 (Dense)              (None, 1024)              8389632   \n",
            "_________________________________________________________________\n",
            "dense_4 (Dense)              (None, 256)               262400    \n",
            "_________________________________________________________________\n",
            "dense_5 (Dense)              (None, 10)                2570      \n",
            "=================================================================\n",
            "Total params: 32,242,314\n",
            "Trainable params: 8,654,602\n",
            "Non-trainable params: 23,587,712\n",
            "_________________________________________________________________\n"
          ],
          "name": "stdout"
        }
      ]
    },
    {
      "cell_type": "code",
      "metadata": {
        "id": "XmfKonV3iIWg"
      },
      "source": [
        "base_learning_rate = 0.0005\n",
        "model.compile(optimizer=tf.keras.optimizers.Adam(lr=base_learning_rate),\n",
        "              loss=tf.keras.losses.categorical_crossentropy,\n",
        "              metrics=['accuracy'])"
      ],
      "execution_count": 44,
      "outputs": []
    },
    {
      "cell_type": "code",
      "metadata": {
        "id": "OiQF2wLcidUV",
        "colab": {
          "base_uri": "https://localhost:8080/"
        },
        "outputId": "d89fbb22-da6e-491a-fdfe-1b81f8e7bee5"
      },
      "source": [
        "train_gen = datagen.flow(rgb_train, y_train)\n",
        "test_gen = datagen.flow(rgb_test, y_test)\n",
        "initial_epochs = 150\n",
        "\n",
        "history = model.fit(\n",
        "    train_gen,\n",
        "    steps_per_epoch=len(rgb_train)/32,\n",
        "    epochs=initial_epochs,\n",
        "    validation_data=test_gen\n",
        ")"
      ],
      "execution_count": 45,
      "outputs": [
        {
          "output_type": "stream",
          "text": [
            "Epoch 1/150\n",
            "51/51 [==============================] - 6s 71ms/step - loss: 2.4190 - accuracy: 0.1191 - val_loss: 2.2264 - val_accuracy: 0.1525\n",
            "Epoch 2/150\n",
            "51/51 [==============================] - 3s 53ms/step - loss: 2.2155 - accuracy: 0.1836 - val_loss: 2.1162 - val_accuracy: 0.2131\n",
            "Epoch 3/150\n",
            "51/51 [==============================] - 3s 53ms/step - loss: 2.0989 - accuracy: 0.2258 - val_loss: 2.0963 - val_accuracy: 0.2615\n",
            "Epoch 4/150\n",
            "51/51 [==============================] - 3s 52ms/step - loss: 2.1134 - accuracy: 0.2107 - val_loss: 2.1415 - val_accuracy: 0.2252\n",
            "Epoch 5/150\n",
            "51/51 [==============================] - 3s 52ms/step - loss: 2.0302 - accuracy: 0.2667 - val_loss: 2.0529 - val_accuracy: 0.2276\n",
            "Epoch 6/150\n",
            "51/51 [==============================] - 3s 52ms/step - loss: 1.9498 - accuracy: 0.2998 - val_loss: 1.9853 - val_accuracy: 0.3051\n",
            "Epoch 7/150\n",
            "51/51 [==============================] - 3s 52ms/step - loss: 1.9460 - accuracy: 0.3054 - val_loss: 2.0125 - val_accuracy: 0.2930\n",
            "Epoch 8/150\n",
            "51/51 [==============================] - 3s 52ms/step - loss: 1.8763 - accuracy: 0.3316 - val_loss: 2.1020 - val_accuracy: 0.2591\n",
            "Epoch 9/150\n",
            "51/51 [==============================] - 3s 54ms/step - loss: 1.9284 - accuracy: 0.3085 - val_loss: 1.9685 - val_accuracy: 0.3027\n",
            "Epoch 10/150\n",
            "51/51 [==============================] - 3s 52ms/step - loss: 1.8879 - accuracy: 0.3038 - val_loss: 1.9220 - val_accuracy: 0.3075\n",
            "Epoch 11/150\n",
            "51/51 [==============================] - 3s 52ms/step - loss: 1.8129 - accuracy: 0.3424 - val_loss: 1.8938 - val_accuracy: 0.3099\n",
            "Epoch 12/150\n",
            "51/51 [==============================] - 3s 53ms/step - loss: 1.8402 - accuracy: 0.3304 - val_loss: 1.8898 - val_accuracy: 0.3051\n",
            "Epoch 13/150\n",
            "51/51 [==============================] - 3s 52ms/step - loss: 1.8020 - accuracy: 0.3366 - val_loss: 1.8029 - val_accuracy: 0.3777\n",
            "Epoch 14/150\n",
            "51/51 [==============================] - 3s 51ms/step - loss: 1.7484 - accuracy: 0.3822 - val_loss: 1.7462 - val_accuracy: 0.3753\n",
            "Epoch 15/150\n",
            "51/51 [==============================] - 3s 51ms/step - loss: 1.7726 - accuracy: 0.3629 - val_loss: 1.8154 - val_accuracy: 0.3705\n",
            "Epoch 16/150\n",
            "51/51 [==============================] - 3s 52ms/step - loss: 1.7355 - accuracy: 0.3738 - val_loss: 1.9214 - val_accuracy: 0.3075\n",
            "Epoch 17/150\n",
            "51/51 [==============================] - 3s 52ms/step - loss: 1.7580 - accuracy: 0.3641 - val_loss: 1.7378 - val_accuracy: 0.3753\n",
            "Epoch 18/150\n",
            "51/51 [==============================] - 3s 53ms/step - loss: 1.7579 - accuracy: 0.3544 - val_loss: 1.6990 - val_accuracy: 0.3826\n",
            "Epoch 19/150\n",
            "51/51 [==============================] - 3s 52ms/step - loss: 1.6937 - accuracy: 0.4162 - val_loss: 1.8523 - val_accuracy: 0.3850\n",
            "Epoch 20/150\n",
            "51/51 [==============================] - 3s 52ms/step - loss: 1.6723 - accuracy: 0.4134 - val_loss: 1.6445 - val_accuracy: 0.4407\n",
            "Epoch 21/150\n",
            "51/51 [==============================] - 3s 52ms/step - loss: 1.6184 - accuracy: 0.4306 - val_loss: 1.6978 - val_accuracy: 0.4116\n",
            "Epoch 22/150\n",
            "51/51 [==============================] - 3s 52ms/step - loss: 1.6594 - accuracy: 0.4062 - val_loss: 1.6981 - val_accuracy: 0.3898\n",
            "Epoch 23/150\n",
            "51/51 [==============================] - 3s 51ms/step - loss: 1.7013 - accuracy: 0.3806 - val_loss: 1.8353 - val_accuracy: 0.3705\n",
            "Epoch 24/150\n",
            "51/51 [==============================] - 3s 54ms/step - loss: 1.6792 - accuracy: 0.4064 - val_loss: 1.7078 - val_accuracy: 0.3632\n",
            "Epoch 25/150\n",
            "51/51 [==============================] - 3s 52ms/step - loss: 1.6555 - accuracy: 0.3999 - val_loss: 1.6595 - val_accuracy: 0.3995\n",
            "Epoch 26/150\n",
            "51/51 [==============================] - 3s 53ms/step - loss: 1.6401 - accuracy: 0.3982 - val_loss: 1.6939 - val_accuracy: 0.3923\n",
            "Epoch 27/150\n",
            "51/51 [==============================] - 3s 52ms/step - loss: 1.6581 - accuracy: 0.3964 - val_loss: 1.6363 - val_accuracy: 0.3971\n",
            "Epoch 28/150\n",
            "51/51 [==============================] - 3s 55ms/step - loss: 1.6383 - accuracy: 0.4159 - val_loss: 1.6558 - val_accuracy: 0.4116\n",
            "Epoch 29/150\n",
            "51/51 [==============================] - 3s 51ms/step - loss: 1.6406 - accuracy: 0.4238 - val_loss: 1.5551 - val_accuracy: 0.4673\n",
            "Epoch 30/150\n",
            "51/51 [==============================] - 3s 53ms/step - loss: 1.6205 - accuracy: 0.4319 - val_loss: 1.6476 - val_accuracy: 0.4044\n",
            "Epoch 31/150\n",
            "51/51 [==============================] - 3s 52ms/step - loss: 1.6052 - accuracy: 0.4235 - val_loss: 1.6022 - val_accuracy: 0.4310\n",
            "Epoch 32/150\n",
            "51/51 [==============================] - 3s 54ms/step - loss: 1.5712 - accuracy: 0.4351 - val_loss: 1.6734 - val_accuracy: 0.4068\n",
            "Epoch 33/150\n",
            "51/51 [==============================] - 3s 53ms/step - loss: 1.6269 - accuracy: 0.4484 - val_loss: 1.6417 - val_accuracy: 0.4019\n",
            "Epoch 34/150\n",
            "51/51 [==============================] - 3s 52ms/step - loss: 1.6655 - accuracy: 0.4044 - val_loss: 1.6221 - val_accuracy: 0.4383\n",
            "Epoch 35/150\n",
            "51/51 [==============================] - 3s 52ms/step - loss: 1.5962 - accuracy: 0.4422 - val_loss: 1.6246 - val_accuracy: 0.4262\n",
            "Epoch 36/150\n",
            "51/51 [==============================] - 3s 52ms/step - loss: 1.5808 - accuracy: 0.4178 - val_loss: 1.6761 - val_accuracy: 0.4068\n",
            "Epoch 37/150\n",
            "51/51 [==============================] - 3s 52ms/step - loss: 1.5874 - accuracy: 0.4426 - val_loss: 1.6386 - val_accuracy: 0.4286\n",
            "Epoch 38/150\n",
            "51/51 [==============================] - 3s 52ms/step - loss: 1.5735 - accuracy: 0.4359 - val_loss: 1.6010 - val_accuracy: 0.4189\n",
            "Epoch 39/150\n",
            "51/51 [==============================] - 3s 52ms/step - loss: 1.5821 - accuracy: 0.4081 - val_loss: 1.6020 - val_accuracy: 0.4383\n",
            "Epoch 40/150\n",
            "51/51 [==============================] - 3s 53ms/step - loss: 1.5028 - accuracy: 0.4643 - val_loss: 1.5861 - val_accuracy: 0.4310\n",
            "Epoch 41/150\n",
            "51/51 [==============================] - 3s 52ms/step - loss: 1.5504 - accuracy: 0.4329 - val_loss: 1.6282 - val_accuracy: 0.4407\n",
            "Epoch 42/150\n",
            "51/51 [==============================] - 3s 52ms/step - loss: 1.5828 - accuracy: 0.4428 - val_loss: 1.6712 - val_accuracy: 0.4189\n",
            "Epoch 43/150\n",
            "51/51 [==============================] - 3s 52ms/step - loss: 1.5428 - accuracy: 0.4488 - val_loss: 1.5639 - val_accuracy: 0.4528\n",
            "Epoch 44/150\n",
            "51/51 [==============================] - 3s 53ms/step - loss: 1.5506 - accuracy: 0.4410 - val_loss: 1.5379 - val_accuracy: 0.4673\n",
            "Epoch 45/150\n",
            "51/51 [==============================] - 3s 51ms/step - loss: 1.4902 - accuracy: 0.4647 - val_loss: 1.4794 - val_accuracy: 0.4649\n",
            "Epoch 46/150\n",
            "51/51 [==============================] - 3s 52ms/step - loss: 1.4841 - accuracy: 0.4902 - val_loss: 1.5792 - val_accuracy: 0.4479\n",
            "Epoch 47/150\n",
            "51/51 [==============================] - 3s 52ms/step - loss: 1.5898 - accuracy: 0.4381 - val_loss: 1.5254 - val_accuracy: 0.4600\n",
            "Epoch 48/150\n",
            "51/51 [==============================] - 3s 54ms/step - loss: 1.5236 - accuracy: 0.4748 - val_loss: 1.7150 - val_accuracy: 0.3632\n",
            "Epoch 49/150\n",
            "51/51 [==============================] - 3s 52ms/step - loss: 1.5458 - accuracy: 0.4396 - val_loss: 1.5591 - val_accuracy: 0.4528\n",
            "Epoch 50/150\n",
            "51/51 [==============================] - 3s 52ms/step - loss: 1.4657 - accuracy: 0.4701 - val_loss: 1.5220 - val_accuracy: 0.4504\n",
            "Epoch 51/150\n",
            "51/51 [==============================] - 3s 52ms/step - loss: 1.4632 - accuracy: 0.5005 - val_loss: 1.5510 - val_accuracy: 0.4165\n",
            "Epoch 52/150\n",
            "51/51 [==============================] - 3s 52ms/step - loss: 1.4576 - accuracy: 0.4701 - val_loss: 1.5661 - val_accuracy: 0.4358\n",
            "Epoch 53/150\n",
            "51/51 [==============================] - 3s 52ms/step - loss: 1.4930 - accuracy: 0.4677 - val_loss: 1.6653 - val_accuracy: 0.3923\n",
            "Epoch 54/150\n",
            "51/51 [==============================] - 3s 53ms/step - loss: 1.5052 - accuracy: 0.4523 - val_loss: 1.4988 - val_accuracy: 0.4649\n",
            "Epoch 55/150\n",
            "51/51 [==============================] - 3s 52ms/step - loss: 1.5331 - accuracy: 0.4558 - val_loss: 1.5457 - val_accuracy: 0.4504\n",
            "Epoch 56/150\n",
            "51/51 [==============================] - 3s 52ms/step - loss: 1.5077 - accuracy: 0.4615 - val_loss: 1.5006 - val_accuracy: 0.4988\n",
            "Epoch 57/150\n",
            "51/51 [==============================] - 3s 52ms/step - loss: 1.4632 - accuracy: 0.4624 - val_loss: 1.4388 - val_accuracy: 0.5036\n",
            "Epoch 58/150\n",
            "51/51 [==============================] - 3s 53ms/step - loss: 1.4757 - accuracy: 0.4796 - val_loss: 1.6378 - val_accuracy: 0.4019\n",
            "Epoch 59/150\n",
            "51/51 [==============================] - 3s 52ms/step - loss: 1.5035 - accuracy: 0.4506 - val_loss: 1.4460 - val_accuracy: 0.5036\n",
            "Epoch 60/150\n",
            "51/51 [==============================] - 3s 53ms/step - loss: 1.4676 - accuracy: 0.4721 - val_loss: 1.4856 - val_accuracy: 0.4625\n",
            "Epoch 61/150\n",
            "51/51 [==============================] - 3s 52ms/step - loss: 1.4158 - accuracy: 0.4816 - val_loss: 1.4986 - val_accuracy: 0.4818\n",
            "Epoch 62/150\n",
            "51/51 [==============================] - 3s 53ms/step - loss: 1.4958 - accuracy: 0.4595 - val_loss: 1.5007 - val_accuracy: 0.4843\n",
            "Epoch 63/150\n",
            "51/51 [==============================] - 3s 53ms/step - loss: 1.4538 - accuracy: 0.4767 - val_loss: 1.4977 - val_accuracy: 0.4915\n",
            "Epoch 64/150\n",
            "51/51 [==============================] - 3s 52ms/step - loss: 1.4903 - accuracy: 0.4551 - val_loss: 1.4326 - val_accuracy: 0.5036\n",
            "Epoch 65/150\n",
            "51/51 [==============================] - 3s 52ms/step - loss: 1.4180 - accuracy: 0.4937 - val_loss: 1.4750 - val_accuracy: 0.4891\n",
            "Epoch 66/150\n",
            "51/51 [==============================] - 3s 53ms/step - loss: 1.4290 - accuracy: 0.4995 - val_loss: 1.4160 - val_accuracy: 0.4794\n",
            "Epoch 67/150\n",
            "51/51 [==============================] - 3s 52ms/step - loss: 1.3936 - accuracy: 0.5022 - val_loss: 1.5474 - val_accuracy: 0.4262\n",
            "Epoch 68/150\n",
            "51/51 [==============================] - 3s 52ms/step - loss: 1.4295 - accuracy: 0.4697 - val_loss: 1.4621 - val_accuracy: 0.5400\n",
            "Epoch 69/150\n",
            "51/51 [==============================] - 3s 53ms/step - loss: 1.4770 - accuracy: 0.4765 - val_loss: 1.5169 - val_accuracy: 0.4673\n",
            "Epoch 70/150\n",
            "51/51 [==============================] - 3s 53ms/step - loss: 1.4819 - accuracy: 0.4492 - val_loss: 1.3900 - val_accuracy: 0.5133\n",
            "Epoch 71/150\n",
            "51/51 [==============================] - 3s 53ms/step - loss: 1.4265 - accuracy: 0.4998 - val_loss: 1.4252 - val_accuracy: 0.5085\n",
            "Epoch 72/150\n",
            "51/51 [==============================] - 3s 52ms/step - loss: 1.3989 - accuracy: 0.4937 - val_loss: 1.4686 - val_accuracy: 0.4939\n",
            "Epoch 73/150\n",
            "51/51 [==============================] - 3s 54ms/step - loss: 1.3610 - accuracy: 0.5172 - val_loss: 1.5539 - val_accuracy: 0.4407\n",
            "Epoch 74/150\n",
            "51/51 [==============================] - 3s 52ms/step - loss: 1.3760 - accuracy: 0.5154 - val_loss: 1.4603 - val_accuracy: 0.4891\n",
            "Epoch 75/150\n",
            "51/51 [==============================] - 3s 53ms/step - loss: 1.3889 - accuracy: 0.4911 - val_loss: 1.4356 - val_accuracy: 0.4843\n",
            "Epoch 76/150\n",
            "51/51 [==============================] - 3s 52ms/step - loss: 1.3925 - accuracy: 0.5126 - val_loss: 1.4327 - val_accuracy: 0.4867\n",
            "Epoch 77/150\n",
            "51/51 [==============================] - 3s 52ms/step - loss: 1.4597 - accuracy: 0.4895 - val_loss: 1.4819 - val_accuracy: 0.4673\n",
            "Epoch 78/150\n",
            "51/51 [==============================] - 3s 52ms/step - loss: 1.4033 - accuracy: 0.5141 - val_loss: 1.6351 - val_accuracy: 0.4697\n",
            "Epoch 79/150\n",
            "51/51 [==============================] - 3s 53ms/step - loss: 1.4253 - accuracy: 0.4659 - val_loss: 1.4488 - val_accuracy: 0.4939\n",
            "Epoch 80/150\n",
            "51/51 [==============================] - 3s 51ms/step - loss: 1.3555 - accuracy: 0.5416 - val_loss: 1.4147 - val_accuracy: 0.5157\n",
            "Epoch 81/150\n",
            "51/51 [==============================] - 3s 52ms/step - loss: 1.3887 - accuracy: 0.5078 - val_loss: 1.3931 - val_accuracy: 0.5061\n",
            "Epoch 82/150\n",
            "51/51 [==============================] - 3s 53ms/step - loss: 1.3295 - accuracy: 0.5267 - val_loss: 1.3024 - val_accuracy: 0.5206\n",
            "Epoch 83/150\n",
            "51/51 [==============================] - 3s 53ms/step - loss: 1.3774 - accuracy: 0.5093 - val_loss: 1.3516 - val_accuracy: 0.5327\n",
            "Epoch 84/150\n",
            "51/51 [==============================] - 3s 52ms/step - loss: 1.3626 - accuracy: 0.5365 - val_loss: 1.3235 - val_accuracy: 0.5545\n",
            "Epoch 85/150\n",
            "51/51 [==============================] - 3s 54ms/step - loss: 1.3037 - accuracy: 0.5281 - val_loss: 1.4027 - val_accuracy: 0.5061\n",
            "Epoch 86/150\n",
            "51/51 [==============================] - 3s 52ms/step - loss: 1.3809 - accuracy: 0.5159 - val_loss: 1.4352 - val_accuracy: 0.5109\n",
            "Epoch 87/150\n",
            "51/51 [==============================] - 3s 52ms/step - loss: 1.3281 - accuracy: 0.5241 - val_loss: 1.3963 - val_accuracy: 0.5012\n",
            "Epoch 88/150\n",
            "51/51 [==============================] - 3s 53ms/step - loss: 1.3135 - accuracy: 0.5274 - val_loss: 1.3930 - val_accuracy: 0.5109\n",
            "Epoch 89/150\n",
            "51/51 [==============================] - 3s 53ms/step - loss: 1.2758 - accuracy: 0.5533 - val_loss: 1.4464 - val_accuracy: 0.4915\n",
            "Epoch 90/150\n",
            "51/51 [==============================] - 3s 53ms/step - loss: 1.3264 - accuracy: 0.5195 - val_loss: 1.4389 - val_accuracy: 0.5085\n",
            "Epoch 91/150\n",
            "51/51 [==============================] - 3s 53ms/step - loss: 1.3551 - accuracy: 0.5128 - val_loss: 1.4849 - val_accuracy: 0.4867\n",
            "Epoch 92/150\n",
            "51/51 [==============================] - 3s 52ms/step - loss: 1.3804 - accuracy: 0.5180 - val_loss: 1.3347 - val_accuracy: 0.5375\n",
            "Epoch 93/150\n",
            "51/51 [==============================] - 3s 52ms/step - loss: 1.4114 - accuracy: 0.5011 - val_loss: 1.3398 - val_accuracy: 0.5061\n",
            "Epoch 94/150\n",
            "51/51 [==============================] - 3s 52ms/step - loss: 1.3118 - accuracy: 0.5334 - val_loss: 1.2897 - val_accuracy: 0.5448\n",
            "Epoch 95/150\n",
            "51/51 [==============================] - 3s 52ms/step - loss: 1.2833 - accuracy: 0.5553 - val_loss: 1.4554 - val_accuracy: 0.4867\n",
            "Epoch 96/150\n",
            "51/51 [==============================] - 3s 52ms/step - loss: 1.3166 - accuracy: 0.5411 - val_loss: 1.3507 - val_accuracy: 0.5109\n",
            "Epoch 97/150\n",
            "51/51 [==============================] - 3s 52ms/step - loss: 1.2769 - accuracy: 0.5462 - val_loss: 1.4403 - val_accuracy: 0.4964\n",
            "Epoch 98/150\n",
            "51/51 [==============================] - 3s 52ms/step - loss: 1.2781 - accuracy: 0.5352 - val_loss: 1.3552 - val_accuracy: 0.5206\n",
            "Epoch 99/150\n",
            "51/51 [==============================] - 3s 52ms/step - loss: 1.3162 - accuracy: 0.5271 - val_loss: 1.3176 - val_accuracy: 0.5351\n",
            "Epoch 100/150\n",
            "51/51 [==============================] - 3s 52ms/step - loss: 1.2860 - accuracy: 0.5493 - val_loss: 1.3084 - val_accuracy: 0.5448\n",
            "Epoch 101/150\n",
            "51/51 [==============================] - 3s 52ms/step - loss: 1.2662 - accuracy: 0.5558 - val_loss: 1.4044 - val_accuracy: 0.4988\n",
            "Epoch 102/150\n",
            "51/51 [==============================] - 3s 52ms/step - loss: 1.2870 - accuracy: 0.5377 - val_loss: 1.5543 - val_accuracy: 0.4576\n",
            "Epoch 103/150\n",
            "51/51 [==============================] - 3s 52ms/step - loss: 1.3815 - accuracy: 0.5110 - val_loss: 1.3380 - val_accuracy: 0.5206\n",
            "Epoch 104/150\n",
            "51/51 [==============================] - 3s 53ms/step - loss: 1.3414 - accuracy: 0.5238 - val_loss: 1.3705 - val_accuracy: 0.5278\n",
            "Epoch 105/150\n",
            "51/51 [==============================] - 3s 52ms/step - loss: 1.3099 - accuracy: 0.5258 - val_loss: 1.5276 - val_accuracy: 0.4673\n",
            "Epoch 106/150\n",
            "51/51 [==============================] - 3s 53ms/step - loss: 1.3605 - accuracy: 0.5047 - val_loss: 1.4229 - val_accuracy: 0.5327\n",
            "Epoch 107/150\n",
            "51/51 [==============================] - 3s 53ms/step - loss: 1.3778 - accuracy: 0.5137 - val_loss: 1.3214 - val_accuracy: 0.5400\n",
            "Epoch 108/150\n",
            "51/51 [==============================] - 3s 52ms/step - loss: 1.3019 - accuracy: 0.5456 - val_loss: 1.3881 - val_accuracy: 0.5133\n",
            "Epoch 109/150\n",
            "51/51 [==============================] - 3s 52ms/step - loss: 1.2937 - accuracy: 0.5333 - val_loss: 1.2193 - val_accuracy: 0.5908\n",
            "Epoch 110/150\n",
            "51/51 [==============================] - 3s 53ms/step - loss: 1.3233 - accuracy: 0.5439 - val_loss: 1.2824 - val_accuracy: 0.5351\n",
            "Epoch 111/150\n",
            "51/51 [==============================] - 3s 52ms/step - loss: 1.2087 - accuracy: 0.5692 - val_loss: 1.2920 - val_accuracy: 0.5521\n",
            "Epoch 112/150\n",
            "51/51 [==============================] - 3s 53ms/step - loss: 1.2848 - accuracy: 0.5421 - val_loss: 1.3448 - val_accuracy: 0.5206\n",
            "Epoch 113/150\n",
            "51/51 [==============================] - 3s 52ms/step - loss: 1.2894 - accuracy: 0.5353 - val_loss: 1.3168 - val_accuracy: 0.5182\n",
            "Epoch 114/150\n",
            "51/51 [==============================] - 3s 54ms/step - loss: 1.2643 - accuracy: 0.5431 - val_loss: 1.4459 - val_accuracy: 0.4794\n",
            "Epoch 115/150\n",
            "51/51 [==============================] - 3s 52ms/step - loss: 1.2651 - accuracy: 0.5534 - val_loss: 1.3715 - val_accuracy: 0.5133\n",
            "Epoch 116/150\n",
            "51/51 [==============================] - 3s 52ms/step - loss: 1.2826 - accuracy: 0.5390 - val_loss: 1.2770 - val_accuracy: 0.5496\n",
            "Epoch 117/150\n",
            "51/51 [==============================] - 3s 53ms/step - loss: 1.2261 - accuracy: 0.5697 - val_loss: 1.2921 - val_accuracy: 0.5375\n",
            "Epoch 118/150\n",
            "51/51 [==============================] - 3s 53ms/step - loss: 1.2894 - accuracy: 0.5453 - val_loss: 1.2713 - val_accuracy: 0.5521\n",
            "Epoch 119/150\n",
            "51/51 [==============================] - 3s 54ms/step - loss: 1.2769 - accuracy: 0.5499 - val_loss: 1.4099 - val_accuracy: 0.5278\n",
            "Epoch 120/150\n",
            "51/51 [==============================] - 3s 53ms/step - loss: 1.3009 - accuracy: 0.5643 - val_loss: 1.2516 - val_accuracy: 0.5569\n",
            "Epoch 121/150\n",
            "51/51 [==============================] - 3s 53ms/step - loss: 1.2742 - accuracy: 0.5516 - val_loss: 1.3016 - val_accuracy: 0.5400\n",
            "Epoch 122/150\n",
            "51/51 [==============================] - 3s 53ms/step - loss: 1.2717 - accuracy: 0.5536 - val_loss: 1.2899 - val_accuracy: 0.5690\n",
            "Epoch 123/150\n",
            "51/51 [==============================] - 3s 52ms/step - loss: 1.2331 - accuracy: 0.5453 - val_loss: 1.3581 - val_accuracy: 0.5545\n",
            "Epoch 124/150\n",
            "51/51 [==============================] - 3s 53ms/step - loss: 1.2421 - accuracy: 0.5620 - val_loss: 1.3031 - val_accuracy: 0.5496\n",
            "Epoch 125/150\n",
            "51/51 [==============================] - 3s 52ms/step - loss: 1.1730 - accuracy: 0.5984 - val_loss: 1.2164 - val_accuracy: 0.5763\n",
            "Epoch 126/150\n",
            "51/51 [==============================] - 3s 53ms/step - loss: 1.2697 - accuracy: 0.5609 - val_loss: 1.4524 - val_accuracy: 0.4939\n",
            "Epoch 127/150\n",
            "51/51 [==============================] - 3s 52ms/step - loss: 1.2537 - accuracy: 0.5669 - val_loss: 1.2563 - val_accuracy: 0.5714\n",
            "Epoch 128/150\n",
            "51/51 [==============================] - 3s 52ms/step - loss: 1.1971 - accuracy: 0.5932 - val_loss: 1.4848 - val_accuracy: 0.5085\n",
            "Epoch 129/150\n",
            "51/51 [==============================] - 3s 53ms/step - loss: 1.2900 - accuracy: 0.5350 - val_loss: 1.2720 - val_accuracy: 0.5521\n",
            "Epoch 130/150\n",
            "51/51 [==============================] - 3s 53ms/step - loss: 1.2234 - accuracy: 0.5587 - val_loss: 1.2452 - val_accuracy: 0.5981\n",
            "Epoch 131/150\n",
            "51/51 [==============================] - 3s 53ms/step - loss: 1.1878 - accuracy: 0.5634 - val_loss: 1.4008 - val_accuracy: 0.5303\n",
            "Epoch 132/150\n",
            "51/51 [==============================] - 3s 53ms/step - loss: 1.2808 - accuracy: 0.5649 - val_loss: 1.2950 - val_accuracy: 0.5545\n",
            "Epoch 133/150\n",
            "51/51 [==============================] - 3s 52ms/step - loss: 1.2435 - accuracy: 0.5657 - val_loss: 1.2921 - val_accuracy: 0.5424\n",
            "Epoch 134/150\n",
            "51/51 [==============================] - 3s 53ms/step - loss: 1.2616 - accuracy: 0.5634 - val_loss: 1.4313 - val_accuracy: 0.5036\n",
            "Epoch 135/150\n",
            "51/51 [==============================] - 3s 52ms/step - loss: 1.2155 - accuracy: 0.5650 - val_loss: 1.3135 - val_accuracy: 0.5448\n",
            "Epoch 136/150\n",
            "51/51 [==============================] - 3s 52ms/step - loss: 1.2454 - accuracy: 0.5646 - val_loss: 1.2766 - val_accuracy: 0.5617\n",
            "Epoch 137/150\n",
            "51/51 [==============================] - 3s 53ms/step - loss: 1.2513 - accuracy: 0.5586 - val_loss: 1.2485 - val_accuracy: 0.5860\n",
            "Epoch 138/150\n",
            "51/51 [==============================] - 3s 53ms/step - loss: 1.2781 - accuracy: 0.5527 - val_loss: 1.2571 - val_accuracy: 0.5811\n",
            "Epoch 139/150\n",
            "51/51 [==============================] - 3s 54ms/step - loss: 1.1888 - accuracy: 0.5699 - val_loss: 1.2870 - val_accuracy: 0.5593\n",
            "Epoch 140/150\n",
            "51/51 [==============================] - 3s 52ms/step - loss: 1.2628 - accuracy: 0.5213 - val_loss: 1.2723 - val_accuracy: 0.5666\n",
            "Epoch 141/150\n",
            "51/51 [==============================] - 3s 54ms/step - loss: 1.1620 - accuracy: 0.5888 - val_loss: 1.2985 - val_accuracy: 0.5400\n",
            "Epoch 142/150\n",
            "51/51 [==============================] - 3s 53ms/step - loss: 1.2425 - accuracy: 0.5589 - val_loss: 1.2769 - val_accuracy: 0.5496\n",
            "Epoch 143/150\n",
            "51/51 [==============================] - 3s 54ms/step - loss: 1.2604 - accuracy: 0.5370 - val_loss: 1.3638 - val_accuracy: 0.5327\n",
            "Epoch 144/150\n",
            "51/51 [==============================] - 3s 52ms/step - loss: 1.2044 - accuracy: 0.5652 - val_loss: 1.3723 - val_accuracy: 0.5400\n",
            "Epoch 145/150\n",
            "51/51 [==============================] - 3s 53ms/step - loss: 1.2971 - accuracy: 0.5067 - val_loss: 1.2377 - val_accuracy: 0.5569\n",
            "Epoch 146/150\n",
            "51/51 [==============================] - 3s 52ms/step - loss: 1.1620 - accuracy: 0.5790 - val_loss: 1.3394 - val_accuracy: 0.5690\n",
            "Epoch 147/150\n",
            "51/51 [==============================] - 3s 53ms/step - loss: 1.2358 - accuracy: 0.5730 - val_loss: 1.2548 - val_accuracy: 0.5569\n",
            "Epoch 148/150\n",
            "51/51 [==============================] - 3s 53ms/step - loss: 1.2264 - accuracy: 0.5638 - val_loss: 1.2094 - val_accuracy: 0.5738\n",
            "Epoch 149/150\n",
            "51/51 [==============================] - 3s 53ms/step - loss: 1.1738 - accuracy: 0.5812 - val_loss: 1.3192 - val_accuracy: 0.5666\n",
            "Epoch 150/150\n",
            "51/51 [==============================] - 3s 53ms/step - loss: 1.2091 - accuracy: 0.5710 - val_loss: 1.3163 - val_accuracy: 0.5569\n"
          ],
          "name": "stdout"
        }
      ]
    },
    {
      "cell_type": "code",
      "metadata": {
        "colab": {
          "base_uri": "https://localhost:8080/",
          "height": 298
        },
        "id": "3RhnvUCyAOgs",
        "outputId": "efda7847-6179-47a3-aed2-2baf833cb353"
      },
      "source": [
        "loss = history.history['loss']\n",
        "acc = history.history['accuracy']\n",
        "val_loss = history.history['val_loss']\n",
        "val_acc = history.history['val_accuracy']\n",
        "epochs = range(1,initial_epochs+1)\n",
        "\n",
        "fig, ax = plt.subplots(2,1, sharex=True)\n",
        "\n",
        "ax[0].plot(epochs, loss, label='Training')\n",
        "ax[0].plot(epochs, val_loss, label='Validation')\n",
        "ax[0].set_ylabel('Loss')\n",
        "ax[0].legend()\n",
        "\n",
        "ax[1].plot(epochs, acc, label='Training')\n",
        "ax[1].plot(epochs, val_acc, label='Validation')\n",
        "ax[1].set_ylabel('Accuracy')\n",
        "ax[1].set_xlabel('Epochs')\n",
        "ax[1].legend()"
      ],
      "execution_count": 46,
      "outputs": [
        {
          "output_type": "execute_result",
          "data": {
            "text/plain": [
              "<matplotlib.legend.Legend at 0x7fc550549fd0>"
            ]
          },
          "metadata": {
            "tags": []
          },
          "execution_count": 46
        },
        {
          "output_type": "display_data",
          "data": {
            "image/png": "[encoded data removed]",
            "text/plain": [
              "<Figure size 432x288 with 2 Axes>"
            ]
          },
          "metadata": {
            "tags": [],
            "needs_background": "light"
          }
        }
      ]
    },
    {
      "cell_type": "code",
      "metadata": {
        "id": "8wjayGHOp0_L",
        "colab": {
          "base_uri": "https://localhost:8080/"
        },
        "outputId": "cedf54f3-6e57-41ae-8851-8bcea60ec3fa"
      },
      "source": [
        "model.save('/content/drive/MyDrive/Datasets/Hand-Digits/hand_digits.tf',\n",
        "           save_format='tf')"
      ],
      "execution_count": 47,
      "outputs": [
        {
          "output_type": "stream",
          "text": [
            "INFO:tensorflow:Assets written to: /content/drive/MyDrive/Datasets/Hand-Digits/hand_digits.tf/assets\n"
          ],
          "name": "stdout"
        }
      ]
    },
    {
      "cell_type": "code",
      "metadata": {
        "colab": {
          "base_uri": "https://localhost:8080/"
        },
        "id": "kReQlfHEr6Xz",
        "outputId": "dedaa85b-61e6-4fd9-827a-0c4758cd6131"
      },
      "source": [
        "print(f'Number of layers: {len(resnet.layers)}')\n",
        "resnet.trainable = True\n",
        "fine_tune_at = 100\n",
        "\n",
        "for layer in resnet.layers[:fine_tune_at]:\n",
        "  layer.trainable = False"
      ],
      "execution_count": 48,
      "outputs": [
        {
          "output_type": "stream",
          "text": [
            "Number of layers: 175\n"
          ],
          "name": "stdout"
        }
      ]
    },
    {
      "cell_type": "code",
      "metadata": {
        "id": "uJjQqxMcsa0j"
      },
      "source": [
        "# base_learning_rate = 0.0005\n",
        "model.compile(optimizer=tf.keras.optimizers.Adam(lr=base_learning_rate/20),\n",
        "              loss=tf.keras.losses.categorical_crossentropy,\n",
        "              metrics=['accuracy'])"
      ],
      "execution_count": 49,
      "outputs": []
    },
    {
      "cell_type": "code",
      "metadata": {
        "colab": {
          "base_uri": "https://localhost:8080/"
        },
        "id": "puAwyPSDAdGC",
        "outputId": "509d175d-6231-48d7-8bb1-1bae54456a1b"
      },
      "source": [
        "model.summary()"
      ],
      "execution_count": 50,
      "outputs": [
        {
          "output_type": "stream",
          "text": [
            "Model: \"Sign_Digits\"\n",
            "_________________________________________________________________\n",
            "Layer (type)                 Output Shape              Param #   \n",
            "=================================================================\n",
            "resnet50 (Functional)        (None, 2, 2, 2048)        23587712  \n",
            "_________________________________________________________________\n",
            "flatten_1 (Flatten)          (None, 8192)              0         \n",
            "_________________________________________________________________\n",
            "dense_3 (Dense)              (None, 1024)              8389632   \n",
            "_________________________________________________________________\n",
            "dense_4 (Dense)              (None, 256)               262400    \n",
            "_________________________________________________________________\n",
            "dense_5 (Dense)              (None, 10)                2570      \n",
            "=================================================================\n",
            "Total params: 32,242,314\n",
            "Trainable params: 28,107,530\n",
            "Non-trainable params: 4,134,784\n",
            "_________________________________________________________________\n"
          ],
          "name": "stdout"
        }
      ]
    },
    {
      "cell_type": "code",
      "metadata": {
        "colab": {
          "base_uri": "https://localhost:8080/"
        },
        "id": "xB1n-aL9AyuX",
        "outputId": "c791013e-babd-420b-fb02-755868292031"
      },
      "source": [
        "len(model.trainable_variables)"
      ],
      "execution_count": 51,
      "outputs": [
        {
          "output_type": "execute_result",
          "data": {
            "text/plain": [
              "96"
            ]
          },
          "metadata": {
            "tags": []
          },
          "execution_count": 51
        }
      ]
    },
    {
      "cell_type": "code",
      "metadata": {
        "colab": {
          "base_uri": "https://localhost:8080/"
        },
        "id": "tIDeMKacBM88",
        "outputId": "f2232bb4-9eb8-4f27-c464-63f966331476"
      },
      "source": [
        "fine_tune_epochs = 150\n",
        "total_epochs = len(history.epoch) + fine_tune_epochs\n",
        "\n",
        "history_fine = model.fit(train_gen,\n",
        "                         epochs=total_epochs,\n",
        "                         initial_epoch=history.epoch[-1],\n",
        "                         validation_data=test_gen)\n"
      ],
      "execution_count": 52,
      "outputs": [
        {
          "output_type": "stream",
          "text": [
            "Epoch 150/300\n",
            "52/52 [==============================] - 8s 82ms/step - loss: 13.8104 - accuracy: 0.1573 - val_loss: 9.1423 - val_accuracy: 0.1380\n",
            "Epoch 151/300\n",
            "52/52 [==============================] - 3s 64ms/step - loss: 3.1866 - accuracy: 0.2180 - val_loss: 12.9450 - val_accuracy: 0.1090\n",
            "Epoch 152/300\n",
            "52/52 [==============================] - 3s 62ms/step - loss: 2.1651 - accuracy: 0.2698 - val_loss: 9.9247 - val_accuracy: 0.1186\n",
            "Epoch 153/300\n",
            "52/52 [==============================] - 3s 62ms/step - loss: 2.0094 - accuracy: 0.2879 - val_loss: 8.3984 - val_accuracy: 0.1211\n",
            "Epoch 154/300\n",
            "52/52 [==============================] - 3s 63ms/step - loss: 1.8562 - accuracy: 0.3693 - val_loss: 3.3440 - val_accuracy: 0.1671\n",
            "Epoch 155/300\n",
            "52/52 [==============================] - 3s 63ms/step - loss: 1.7874 - accuracy: 0.3803 - val_loss: 2.3232 - val_accuracy: 0.2228\n",
            "Epoch 156/300\n",
            "52/52 [==============================] - 3s 62ms/step - loss: 1.7018 - accuracy: 0.3901 - val_loss: 1.9451 - val_accuracy: 0.3414\n",
            "Epoch 157/300\n",
            "52/52 [==============================] - 3s 63ms/step - loss: 1.6616 - accuracy: 0.3970 - val_loss: 1.7363 - val_accuracy: 0.3826\n",
            "Epoch 158/300\n",
            "52/52 [==============================] - 3s 64ms/step - loss: 1.6043 - accuracy: 0.4272 - val_loss: 1.6491 - val_accuracy: 0.3874\n",
            "Epoch 159/300\n",
            "52/52 [==============================] - 3s 64ms/step - loss: 1.4928 - accuracy: 0.4727 - val_loss: 1.6666 - val_accuracy: 0.4504\n",
            "Epoch 160/300\n",
            "52/52 [==============================] - 3s 62ms/step - loss: 1.4153 - accuracy: 0.4910 - val_loss: 1.5382 - val_accuracy: 0.4649\n",
            "Epoch 161/300\n",
            "52/52 [==============================] - 3s 62ms/step - loss: 1.4277 - accuracy: 0.5017 - val_loss: 1.4257 - val_accuracy: 0.4818\n",
            "Epoch 162/300\n",
            "52/52 [==============================] - 3s 62ms/step - loss: 1.4089 - accuracy: 0.4978 - val_loss: 1.5478 - val_accuracy: 0.4358\n",
            "Epoch 163/300\n",
            "52/52 [==============================] - 3s 62ms/step - loss: 1.3867 - accuracy: 0.5008 - val_loss: 1.8996 - val_accuracy: 0.4116\n",
            "Epoch 164/300\n",
            "52/52 [==============================] - 3s 63ms/step - loss: 1.3105 - accuracy: 0.5475 - val_loss: 1.4204 - val_accuracy: 0.5061\n",
            "Epoch 165/300\n",
            "52/52 [==============================] - 3s 63ms/step - loss: 1.2923 - accuracy: 0.5461 - val_loss: 1.4009 - val_accuracy: 0.5109\n",
            "Epoch 166/300\n",
            "52/52 [==============================] - 3s 63ms/step - loss: 1.2564 - accuracy: 0.5723 - val_loss: 1.4263 - val_accuracy: 0.5303\n",
            "Epoch 167/300\n",
            "52/52 [==============================] - 3s 63ms/step - loss: 1.2059 - accuracy: 0.5747 - val_loss: 1.3846 - val_accuracy: 0.5303\n",
            "Epoch 168/300\n",
            "52/52 [==============================] - 3s 63ms/step - loss: 1.1874 - accuracy: 0.5771 - val_loss: 1.4030 - val_accuracy: 0.5061\n",
            "Epoch 169/300\n",
            "52/52 [==============================] - 3s 63ms/step - loss: 1.2350 - accuracy: 0.5573 - val_loss: 1.4560 - val_accuracy: 0.5109\n",
            "Epoch 170/300\n",
            "52/52 [==============================] - 3s 63ms/step - loss: 1.0709 - accuracy: 0.6113 - val_loss: 1.2314 - val_accuracy: 0.5666\n",
            "Epoch 171/300\n",
            "52/52 [==============================] - 3s 63ms/step - loss: 1.0974 - accuracy: 0.6289 - val_loss: 1.2517 - val_accuracy: 0.5400\n",
            "Epoch 172/300\n",
            "52/52 [==============================] - 3s 63ms/step - loss: 1.1135 - accuracy: 0.6152 - val_loss: 1.2262 - val_accuracy: 0.5981\n",
            "Epoch 173/300\n",
            "52/52 [==============================] - 3s 63ms/step - loss: 1.0721 - accuracy: 0.6354 - val_loss: 1.0796 - val_accuracy: 0.5956\n",
            "Epoch 174/300\n",
            "52/52 [==============================] - 3s 63ms/step - loss: 1.0590 - accuracy: 0.6199 - val_loss: 1.1860 - val_accuracy: 0.5884\n",
            "Epoch 175/300\n",
            "52/52 [==============================] - 3s 63ms/step - loss: 1.0439 - accuracy: 0.6486 - val_loss: 1.3010 - val_accuracy: 0.5763\n",
            "Epoch 176/300\n",
            "52/52 [==============================] - 3s 63ms/step - loss: 1.0084 - accuracy: 0.6430 - val_loss: 1.1806 - val_accuracy: 0.6077\n",
            "Epoch 177/300\n",
            "52/52 [==============================] - 3s 63ms/step - loss: 1.0825 - accuracy: 0.6269 - val_loss: 1.1917 - val_accuracy: 0.5908\n",
            "Epoch 178/300\n",
            "52/52 [==============================] - 3s 63ms/step - loss: 0.9690 - accuracy: 0.6589 - val_loss: 1.1478 - val_accuracy: 0.6295\n",
            "Epoch 179/300\n",
            "52/52 [==============================] - 3s 63ms/step - loss: 0.9508 - accuracy: 0.6751 - val_loss: 1.2591 - val_accuracy: 0.5884\n",
            "Epoch 180/300\n",
            "52/52 [==============================] - 3s 62ms/step - loss: 0.9853 - accuracy: 0.6374 - val_loss: 1.1473 - val_accuracy: 0.6320\n",
            "Epoch 181/300\n",
            "52/52 [==============================] - 3s 63ms/step - loss: 0.9649 - accuracy: 0.6739 - val_loss: 1.1072 - val_accuracy: 0.6223\n",
            "Epoch 182/300\n",
            "52/52 [==============================] - 3s 63ms/step - loss: 0.8766 - accuracy: 0.6990 - val_loss: 1.2327 - val_accuracy: 0.5690\n",
            "Epoch 183/300\n",
            "52/52 [==============================] - 3s 63ms/step - loss: 0.9082 - accuracy: 0.6876 - val_loss: 0.9694 - val_accuracy: 0.6731\n",
            "Epoch 184/300\n",
            "52/52 [==============================] - 3s 63ms/step - loss: 0.8502 - accuracy: 0.7158 - val_loss: 1.0439 - val_accuracy: 0.6320\n",
            "Epoch 185/300\n",
            "52/52 [==============================] - 3s 64ms/step - loss: 0.7909 - accuracy: 0.7269 - val_loss: 1.0370 - val_accuracy: 0.6538\n",
            "Epoch 186/300\n",
            "52/52 [==============================] - 3s 64ms/step - loss: 0.8706 - accuracy: 0.7046 - val_loss: 1.3715 - val_accuracy: 0.5278\n",
            "Epoch 187/300\n",
            "52/52 [==============================] - 3s 64ms/step - loss: 0.8132 - accuracy: 0.7128 - val_loss: 0.9812 - val_accuracy: 0.6416\n",
            "Epoch 188/300\n",
            "52/52 [==============================] - 3s 63ms/step - loss: 0.7592 - accuracy: 0.7356 - val_loss: 1.1517 - val_accuracy: 0.6174\n",
            "Epoch 189/300\n",
            "52/52 [==============================] - 3s 63ms/step - loss: 0.8213 - accuracy: 0.7182 - val_loss: 1.0877 - val_accuracy: 0.6344\n",
            "Epoch 190/300\n",
            "52/52 [==============================] - 3s 64ms/step - loss: 0.8524 - accuracy: 0.6929 - val_loss: 1.0117 - val_accuracy: 0.6441\n",
            "Epoch 191/300\n",
            "52/52 [==============================] - 3s 62ms/step - loss: 0.7457 - accuracy: 0.7454 - val_loss: 1.0213 - val_accuracy: 0.6441\n",
            "Epoch 192/300\n",
            "52/52 [==============================] - 3s 63ms/step - loss: 0.8093 - accuracy: 0.7130 - val_loss: 1.0848 - val_accuracy: 0.6344\n",
            "Epoch 193/300\n",
            "52/52 [==============================] - 3s 63ms/step - loss: 0.8105 - accuracy: 0.7173 - val_loss: 1.2846 - val_accuracy: 0.5811\n",
            "Epoch 194/300\n",
            "52/52 [==============================] - 3s 63ms/step - loss: 0.7908 - accuracy: 0.7143 - val_loss: 1.0577 - val_accuracy: 0.6416\n",
            "Epoch 195/300\n",
            "52/52 [==============================] - 3s 63ms/step - loss: 0.7241 - accuracy: 0.7556 - val_loss: 1.3771 - val_accuracy: 0.5303\n",
            "Epoch 196/300\n",
            "52/52 [==============================] - 3s 63ms/step - loss: 0.7714 - accuracy: 0.7358 - val_loss: 0.9362 - val_accuracy: 0.6973\n",
            "Epoch 197/300\n",
            "52/52 [==============================] - 3s 63ms/step - loss: 0.7542 - accuracy: 0.7193 - val_loss: 0.8928 - val_accuracy: 0.6392\n",
            "Epoch 198/300\n",
            "52/52 [==============================] - 3s 63ms/step - loss: 0.7117 - accuracy: 0.7537 - val_loss: 0.9940 - val_accuracy: 0.6755\n",
            "Epoch 199/300\n",
            "52/52 [==============================] - 3s 64ms/step - loss: 0.7183 - accuracy: 0.7468 - val_loss: 1.7516 - val_accuracy: 0.4843\n",
            "Epoch 200/300\n",
            "52/52 [==============================] - 3s 64ms/step - loss: 0.7981 - accuracy: 0.7396 - val_loss: 1.0278 - val_accuracy: 0.6731\n",
            "Epoch 201/300\n",
            "52/52 [==============================] - 3s 63ms/step - loss: 0.7613 - accuracy: 0.7274 - val_loss: 1.1994 - val_accuracy: 0.5835\n",
            "Epoch 202/300\n",
            "52/52 [==============================] - 3s 63ms/step - loss: 0.6796 - accuracy: 0.7541 - val_loss: 0.9466 - val_accuracy: 0.7094\n",
            "Epoch 203/300\n",
            "52/52 [==============================] - 3s 63ms/step - loss: 0.7740 - accuracy: 0.7237 - val_loss: 1.0879 - val_accuracy: 0.6586\n",
            "Epoch 204/300\n",
            "52/52 [==============================] - 3s 63ms/step - loss: 0.7484 - accuracy: 0.7438 - val_loss: 1.0784 - val_accuracy: 0.6295\n",
            "Epoch 205/300\n",
            "52/52 [==============================] - 3s 63ms/step - loss: 0.7637 - accuracy: 0.7352 - val_loss: 0.9536 - val_accuracy: 0.6852\n",
            "Epoch 206/300\n",
            "52/52 [==============================] - 3s 63ms/step - loss: 0.6578 - accuracy: 0.7725 - val_loss: 1.1219 - val_accuracy: 0.6271\n",
            "Epoch 207/300\n",
            "52/52 [==============================] - 3s 63ms/step - loss: 0.6853 - accuracy: 0.7674 - val_loss: 1.2490 - val_accuracy: 0.6077\n",
            "Epoch 208/300\n",
            "52/52 [==============================] - 3s 63ms/step - loss: 0.6812 - accuracy: 0.7615 - val_loss: 1.2823 - val_accuracy: 0.5860\n",
            "Epoch 209/300\n",
            "52/52 [==============================] - 3s 63ms/step - loss: 0.6536 - accuracy: 0.7675 - val_loss: 0.8645 - val_accuracy: 0.7046\n",
            "Epoch 210/300\n",
            "52/52 [==============================] - 3s 63ms/step - loss: 0.6479 - accuracy: 0.7608 - val_loss: 1.2448 - val_accuracy: 0.6053\n",
            "Epoch 211/300\n",
            "52/52 [==============================] - 3s 64ms/step - loss: 0.7000 - accuracy: 0.7511 - val_loss: 1.0665 - val_accuracy: 0.6368\n",
            "Epoch 212/300\n",
            "52/52 [==============================] - 3s 64ms/step - loss: 0.6563 - accuracy: 0.7568 - val_loss: 1.6431 - val_accuracy: 0.5085\n",
            "Epoch 213/300\n",
            "52/52 [==============================] - 3s 64ms/step - loss: 0.7101 - accuracy: 0.7581 - val_loss: 1.1809 - val_accuracy: 0.6029\n",
            "Epoch 214/300\n",
            "52/52 [==============================] - 3s 63ms/step - loss: 0.6620 - accuracy: 0.7704 - val_loss: 1.1266 - val_accuracy: 0.6271\n",
            "Epoch 215/300\n",
            "52/52 [==============================] - 3s 63ms/step - loss: 0.6054 - accuracy: 0.7948 - val_loss: 1.0493 - val_accuracy: 0.6174\n",
            "Epoch 216/300\n",
            "52/52 [==============================] - 3s 63ms/step - loss: 0.6142 - accuracy: 0.7921 - val_loss: 1.0500 - val_accuracy: 0.6538\n",
            "Epoch 217/300\n",
            "52/52 [==============================] - 3s 63ms/step - loss: 0.6595 - accuracy: 0.7611 - val_loss: 1.0319 - val_accuracy: 0.6828\n",
            "Epoch 218/300\n",
            "52/52 [==============================] - 3s 64ms/step - loss: 0.7024 - accuracy: 0.7627 - val_loss: 0.8586 - val_accuracy: 0.7046\n",
            "Epoch 219/300\n",
            "52/52 [==============================] - 3s 64ms/step - loss: 0.7101 - accuracy: 0.7556 - val_loss: 0.9901 - val_accuracy: 0.6659\n",
            "Epoch 220/300\n",
            "52/52 [==============================] - 3s 63ms/step - loss: 0.6420 - accuracy: 0.7533 - val_loss: 0.8981 - val_accuracy: 0.7167\n",
            "Epoch 221/300\n",
            "52/52 [==============================] - 3s 63ms/step - loss: 0.6361 - accuracy: 0.7686 - val_loss: 1.0161 - val_accuracy: 0.6634\n",
            "Epoch 222/300\n",
            "52/52 [==============================] - 3s 64ms/step - loss: 0.6803 - accuracy: 0.7634 - val_loss: 1.8751 - val_accuracy: 0.4576\n",
            "Epoch 223/300\n",
            "52/52 [==============================] - 3s 65ms/step - loss: 0.7324 - accuracy: 0.7385 - val_loss: 0.7832 - val_accuracy: 0.7458\n",
            "Epoch 224/300\n",
            "52/52 [==============================] - 3s 64ms/step - loss: 0.5751 - accuracy: 0.7989 - val_loss: 1.3407 - val_accuracy: 0.5521\n",
            "Epoch 225/300\n",
            "52/52 [==============================] - 3s 65ms/step - loss: 0.6746 - accuracy: 0.7741 - val_loss: 1.0864 - val_accuracy: 0.6465\n",
            "Epoch 226/300\n",
            "52/52 [==============================] - 3s 63ms/step - loss: 0.6141 - accuracy: 0.7777 - val_loss: 0.8521 - val_accuracy: 0.7215\n",
            "Epoch 227/300\n",
            "52/52 [==============================] - 3s 63ms/step - loss: 0.5960 - accuracy: 0.7868 - val_loss: 0.8445 - val_accuracy: 0.7385\n",
            "Epoch 228/300\n",
            "52/52 [==============================] - 3s 63ms/step - loss: 0.5760 - accuracy: 0.8023 - val_loss: 1.2717 - val_accuracy: 0.5860\n",
            "Epoch 229/300\n",
            "52/52 [==============================] - 3s 64ms/step - loss: 0.5783 - accuracy: 0.8043 - val_loss: 1.0343 - val_accuracy: 0.6683\n",
            "Epoch 230/300\n",
            "52/52 [==============================] - 3s 64ms/step - loss: 0.5805 - accuracy: 0.7924 - val_loss: 1.1136 - val_accuracy: 0.6441\n",
            "Epoch 231/300\n",
            "52/52 [==============================] - 3s 65ms/step - loss: 0.5872 - accuracy: 0.7937 - val_loss: 0.8977 - val_accuracy: 0.7143\n",
            "Epoch 232/300\n",
            "52/52 [==============================] - 3s 64ms/step - loss: 0.5942 - accuracy: 0.7811 - val_loss: 1.4450 - val_accuracy: 0.5545\n",
            "Epoch 233/300\n",
            "52/52 [==============================] - 3s 64ms/step - loss: 0.5614 - accuracy: 0.8132 - val_loss: 1.1364 - val_accuracy: 0.6441\n",
            "Epoch 234/300\n",
            "52/52 [==============================] - 3s 63ms/step - loss: 0.5899 - accuracy: 0.7894 - val_loss: 1.0387 - val_accuracy: 0.6489\n",
            "Epoch 235/300\n",
            "52/52 [==============================] - 3s 64ms/step - loss: 0.6285 - accuracy: 0.7851 - val_loss: 1.8762 - val_accuracy: 0.4818\n",
            "Epoch 236/300\n",
            "52/52 [==============================] - 3s 63ms/step - loss: 0.5883 - accuracy: 0.8012 - val_loss: 0.8760 - val_accuracy: 0.6998\n",
            "Epoch 237/300\n",
            "52/52 [==============================] - 3s 64ms/step - loss: 0.5647 - accuracy: 0.8106 - val_loss: 1.8240 - val_accuracy: 0.5133\n",
            "Epoch 238/300\n",
            "52/52 [==============================] - 3s 64ms/step - loss: 0.5441 - accuracy: 0.8058 - val_loss: 0.9661 - val_accuracy: 0.6973\n",
            "Epoch 239/300\n",
            "52/52 [==============================] - 3s 63ms/step - loss: 0.6080 - accuracy: 0.7868 - val_loss: 1.3475 - val_accuracy: 0.6126\n",
            "Epoch 240/300\n",
            "52/52 [==============================] - 3s 64ms/step - loss: 0.5515 - accuracy: 0.8064 - val_loss: 0.8422 - val_accuracy: 0.7191\n",
            "Epoch 241/300\n",
            "52/52 [==============================] - 3s 65ms/step - loss: 0.5794 - accuracy: 0.7941 - val_loss: 1.4053 - val_accuracy: 0.5593\n",
            "Epoch 242/300\n",
            "52/52 [==============================] - 3s 64ms/step - loss: 0.5733 - accuracy: 0.7999 - val_loss: 1.1660 - val_accuracy: 0.6538\n",
            "Epoch 243/300\n",
            "52/52 [==============================] - 3s 63ms/step - loss: 0.5704 - accuracy: 0.8070 - val_loss: 0.9088 - val_accuracy: 0.7312\n",
            "Epoch 244/300\n",
            "52/52 [==============================] - 3s 63ms/step - loss: 0.5760 - accuracy: 0.8124 - val_loss: 1.2745 - val_accuracy: 0.6029\n",
            "Epoch 245/300\n",
            "52/52 [==============================] - 3s 63ms/step - loss: 0.6199 - accuracy: 0.7973 - val_loss: 1.7240 - val_accuracy: 0.5424\n",
            "Epoch 246/300\n",
            "52/52 [==============================] - 3s 64ms/step - loss: 0.5191 - accuracy: 0.8154 - val_loss: 1.1203 - val_accuracy: 0.6053\n",
            "Epoch 247/300\n",
            "52/52 [==============================] - 3s 64ms/step - loss: 0.5901 - accuracy: 0.8069 - val_loss: 0.8845 - val_accuracy: 0.7094\n",
            "Epoch 248/300\n",
            "52/52 [==============================] - 3s 64ms/step - loss: 0.5928 - accuracy: 0.7968 - val_loss: 1.3460 - val_accuracy: 0.6150\n",
            "Epoch 249/300\n",
            "52/52 [==============================] - 3s 64ms/step - loss: 0.5193 - accuracy: 0.8095 - val_loss: 1.0135 - val_accuracy: 0.6828\n",
            "Epoch 250/300\n",
            "52/52 [==============================] - 3s 64ms/step - loss: 0.5578 - accuracy: 0.8203 - val_loss: 2.0166 - val_accuracy: 0.5133\n",
            "Epoch 251/300\n",
            "52/52 [==============================] - 3s 64ms/step - loss: 0.5509 - accuracy: 0.8058 - val_loss: 1.0616 - val_accuracy: 0.6368\n",
            "Epoch 252/300\n",
            "52/52 [==============================] - 3s 64ms/step - loss: 0.5865 - accuracy: 0.8075 - val_loss: 1.2859 - val_accuracy: 0.6029\n",
            "Epoch 253/300\n",
            "52/52 [==============================] - 3s 63ms/step - loss: 0.5751 - accuracy: 0.7974 - val_loss: 1.0955 - val_accuracy: 0.6562\n",
            "Epoch 254/300\n",
            "52/52 [==============================] - 3s 64ms/step - loss: 0.5055 - accuracy: 0.8271 - val_loss: 1.0823 - val_accuracy: 0.6247\n",
            "Epoch 255/300\n",
            "52/52 [==============================] - 3s 64ms/step - loss: 0.6636 - accuracy: 0.7828 - val_loss: 0.8901 - val_accuracy: 0.7191\n",
            "Epoch 256/300\n",
            "52/52 [==============================] - 3s 64ms/step - loss: 0.6028 - accuracy: 0.8005 - val_loss: 0.8900 - val_accuracy: 0.7022\n",
            "Epoch 257/300\n",
            "52/52 [==============================] - 3s 64ms/step - loss: 0.5208 - accuracy: 0.8247 - val_loss: 0.8780 - val_accuracy: 0.7215\n",
            "Epoch 258/300\n",
            "52/52 [==============================] - 3s 64ms/step - loss: 0.5054 - accuracy: 0.8347 - val_loss: 1.3276 - val_accuracy: 0.6344\n",
            "Epoch 259/300\n",
            "52/52 [==============================] - 3s 64ms/step - loss: 0.5738 - accuracy: 0.8022 - val_loss: 1.0519 - val_accuracy: 0.6901\n",
            "Epoch 260/300\n",
            "52/52 [==============================] - 3s 64ms/step - loss: 0.4942 - accuracy: 0.8258 - val_loss: 1.0758 - val_accuracy: 0.6634\n",
            "Epoch 261/300\n",
            "52/52 [==============================] - 3s 65ms/step - loss: 0.4811 - accuracy: 0.8391 - val_loss: 0.9345 - val_accuracy: 0.6852\n",
            "Epoch 262/300\n",
            "52/52 [==============================] - 3s 64ms/step - loss: 0.5344 - accuracy: 0.8259 - val_loss: 1.0886 - val_accuracy: 0.6513\n",
            "Epoch 263/300\n",
            "52/52 [==============================] - 3s 65ms/step - loss: 0.4843 - accuracy: 0.8394 - val_loss: 1.0754 - val_accuracy: 0.6634\n",
            "Epoch 264/300\n",
            "52/52 [==============================] - 3s 64ms/step - loss: 0.5025 - accuracy: 0.8232 - val_loss: 1.1563 - val_accuracy: 0.6562\n",
            "Epoch 265/300\n",
            "52/52 [==============================] - 3s 64ms/step - loss: 0.4976 - accuracy: 0.8203 - val_loss: 0.8376 - val_accuracy: 0.7361\n",
            "Epoch 266/300\n",
            "52/52 [==============================] - 3s 64ms/step - loss: 0.5226 - accuracy: 0.8275 - val_loss: 1.9736 - val_accuracy: 0.4915\n",
            "Epoch 267/300\n",
            "52/52 [==============================] - 3s 65ms/step - loss: 0.4574 - accuracy: 0.8522 - val_loss: 0.8980 - val_accuracy: 0.7215\n",
            "Epoch 268/300\n",
            "52/52 [==============================] - 3s 64ms/step - loss: 0.5187 - accuracy: 0.8274 - val_loss: 0.9644 - val_accuracy: 0.6852\n",
            "Epoch 269/300\n",
            "52/52 [==============================] - 3s 64ms/step - loss: 0.5431 - accuracy: 0.8075 - val_loss: 1.7551 - val_accuracy: 0.5303\n",
            "Epoch 270/300\n",
            "52/52 [==============================] - 3s 65ms/step - loss: 0.4940 - accuracy: 0.8295 - val_loss: 1.2195 - val_accuracy: 0.6150\n",
            "Epoch 271/300\n",
            "52/52 [==============================] - 3s 64ms/step - loss: 0.5247 - accuracy: 0.8021 - val_loss: 1.1645 - val_accuracy: 0.6344\n",
            "Epoch 272/300\n",
            "52/52 [==============================] - 3s 64ms/step - loss: 0.5152 - accuracy: 0.8315 - val_loss: 0.7508 - val_accuracy: 0.7409\n",
            "Epoch 273/300\n",
            "52/52 [==============================] - 3s 64ms/step - loss: 0.5057 - accuracy: 0.8314 - val_loss: 1.0825 - val_accuracy: 0.6465\n",
            "Epoch 274/300\n",
            "52/52 [==============================] - 3s 64ms/step - loss: 0.4909 - accuracy: 0.8351 - val_loss: 0.9493 - val_accuracy: 0.6925\n",
            "Epoch 275/300\n",
            "52/52 [==============================] - 3s 65ms/step - loss: 0.4672 - accuracy: 0.8478 - val_loss: 0.6809 - val_accuracy: 0.7676\n",
            "Epoch 276/300\n",
            "52/52 [==============================] - 3s 64ms/step - loss: 0.4567 - accuracy: 0.8477 - val_loss: 1.1487 - val_accuracy: 0.6489\n",
            "Epoch 277/300\n",
            "52/52 [==============================] - 3s 65ms/step - loss: 0.5280 - accuracy: 0.8168 - val_loss: 1.2603 - val_accuracy: 0.6513\n",
            "Epoch 278/300\n",
            "52/52 [==============================] - 3s 64ms/step - loss: 0.5368 - accuracy: 0.8187 - val_loss: 2.7124 - val_accuracy: 0.3680\n",
            "Epoch 279/300\n",
            "52/52 [==============================] - 3s 65ms/step - loss: 0.4886 - accuracy: 0.8336 - val_loss: 0.7170 - val_accuracy: 0.7797\n",
            "Epoch 280/300\n",
            "52/52 [==============================] - 3s 65ms/step - loss: 0.4863 - accuracy: 0.8239 - val_loss: 1.3296 - val_accuracy: 0.6247\n",
            "Epoch 281/300\n",
            "52/52 [==============================] - 3s 65ms/step - loss: 0.5044 - accuracy: 0.8318 - val_loss: 1.2785 - val_accuracy: 0.6852\n",
            "Epoch 282/300\n",
            "52/52 [==============================] - 3s 65ms/step - loss: 0.4701 - accuracy: 0.8446 - val_loss: 0.9881 - val_accuracy: 0.6901\n",
            "Epoch 283/300\n",
            "52/52 [==============================] - 3s 65ms/step - loss: 0.4635 - accuracy: 0.8408 - val_loss: 1.2060 - val_accuracy: 0.6392\n",
            "Epoch 284/300\n",
            "52/52 [==============================] - 3s 65ms/step - loss: 0.4264 - accuracy: 0.8507 - val_loss: 0.8797 - val_accuracy: 0.7046\n",
            "Epoch 285/300\n",
            "52/52 [==============================] - 3s 64ms/step - loss: 0.4422 - accuracy: 0.8415 - val_loss: 1.3292 - val_accuracy: 0.5811\n",
            "Epoch 286/300\n",
            "52/52 [==============================] - 3s 65ms/step - loss: 0.4910 - accuracy: 0.8254 - val_loss: 0.8855 - val_accuracy: 0.6877\n",
            "Epoch 287/300\n",
            "52/52 [==============================] - 3s 66ms/step - loss: 0.4358 - accuracy: 0.8496 - val_loss: 0.7222 - val_accuracy: 0.7627\n",
            "Epoch 288/300\n",
            "52/52 [==============================] - 3s 64ms/step - loss: 0.4521 - accuracy: 0.8468 - val_loss: 0.9152 - val_accuracy: 0.6852\n",
            "Epoch 289/300\n",
            "52/52 [==============================] - 3s 64ms/step - loss: 0.4612 - accuracy: 0.8435 - val_loss: 1.1779 - val_accuracy: 0.6392\n",
            "Epoch 290/300\n",
            "52/52 [==============================] - 3s 65ms/step - loss: 0.4577 - accuracy: 0.8432 - val_loss: 0.8135 - val_accuracy: 0.7361\n",
            "Epoch 291/300\n",
            "52/52 [==============================] - 3s 64ms/step - loss: 0.4265 - accuracy: 0.8468 - val_loss: 1.6483 - val_accuracy: 0.4746\n",
            "Epoch 292/300\n",
            "52/52 [==============================] - 3s 65ms/step - loss: 0.4809 - accuracy: 0.8364 - val_loss: 0.7185 - val_accuracy: 0.7724\n",
            "Epoch 293/300\n",
            "52/52 [==============================] - 3s 65ms/step - loss: 0.4413 - accuracy: 0.8590 - val_loss: 1.2969 - val_accuracy: 0.6271\n",
            "Epoch 294/300\n",
            "52/52 [==============================] - 3s 65ms/step - loss: 0.4236 - accuracy: 0.8468 - val_loss: 0.9054 - val_accuracy: 0.7094\n",
            "Epoch 295/300\n",
            "52/52 [==============================] - 3s 65ms/step - loss: 0.4259 - accuracy: 0.8546 - val_loss: 1.0001 - val_accuracy: 0.6925\n",
            "Epoch 296/300\n",
            "52/52 [==============================] - 3s 65ms/step - loss: 0.4677 - accuracy: 0.8293 - val_loss: 1.0550 - val_accuracy: 0.6102\n",
            "Epoch 297/300\n",
            "52/52 [==============================] - 3s 64ms/step - loss: 0.4355 - accuracy: 0.8451 - val_loss: 1.3205 - val_accuracy: 0.6320\n",
            "Epoch 298/300\n",
            "52/52 [==============================] - 3s 66ms/step - loss: 0.4563 - accuracy: 0.8346 - val_loss: 1.5617 - val_accuracy: 0.5666\n",
            "Epoch 299/300\n",
            "52/52 [==============================] - 3s 64ms/step - loss: 0.4296 - accuracy: 0.8438 - val_loss: 1.3105 - val_accuracy: 0.5981\n",
            "Epoch 300/300\n",
            "52/52 [==============================] - 3s 65ms/step - loss: 0.5452 - accuracy: 0.8210 - val_loss: 1.5931 - val_accuracy: 0.5351\n"
          ],
          "name": "stdout"
        }
      ]
    },
    {
      "cell_type": "code",
      "metadata": {
        "id": "YKypFnOzBfXw",
        "colab": {
          "base_uri": "https://localhost:8080/"
        },
        "outputId": "a21b79bf-b9a8-46aa-9966-adee81b8facf"
      },
      "source": [
        "model.save('/content/drive/MyDrive/Datasets/Hand-Digits/hand_digits.tf', \n",
        "           save_format='tf')"
      ],
      "execution_count": 53,
      "outputs": [
        {
          "output_type": "stream",
          "text": [
            "INFO:tensorflow:Assets written to: /content/drive/MyDrive/Datasets/Hand-Digits/hand_digits.tf/assets\n"
          ],
          "name": "stdout"
        }
      ]
    },
    {
      "cell_type": "code",
      "metadata": {
        "colab": {
          "base_uri": "https://localhost:8080/",
          "height": 298
        },
        "id": "iBvcJBrgEqDq",
        "outputId": "783956ef-a379-48d0-8eda-5838ff5a4e15"
      },
      "source": [
        "loss = history_fine.history['loss']\n",
        "acc = history_fine.history['accuracy']\n",
        "val_loss = history_fine.history['val_loss']\n",
        "val_acc = history_fine.history['val_accuracy']\n",
        "epochs = range(fine_tune_epochs,fine_tune_epochs+len(history_fine.epoch))\n",
        "\n",
        "fig, ax = plt.subplots(2,1, sharex=True)\n",
        "\n",
        "ax[0].plot(epochs, loss, label='Training')\n",
        "ax[0].plot(epochs, val_loss, label='Validation')\n",
        "ax[0].set_ylabel('Loss')\n",
        "ax[0].legend()\n",
        "\n",
        "ax[1].plot(epochs, acc, label='Training')\n",
        "ax[1].plot(epochs, val_acc, label='Validation')\n",
        "ax[1].set_ylabel('Accuracy')\n",
        "ax[1].set_xlabel('Epochs')\n",
        "ax[1].legend()"
      ],
      "execution_count": 57,
      "outputs": [
        {
          "output_type": "execute_result",
          "data": {
            "text/plain": [
              "<matplotlib.legend.Legend at 0x7fc55a0f0650>"
            ]
          },
          "metadata": {
            "tags": []
          },
          "execution_count": 57
        },
        {
          "output_type": "display_data",
          "data": {
            "image/png": "[encoded data removed]",
            "text/plain": [
              "<Figure size 432x288 with 2 Axes>"
            ]
          },
          "metadata": {
            "tags": [],
            "needs_background": "light"
          }
        }
      ]
    },
    {
      "cell_type": "code",
      "metadata": {
        "id": "3hPk6s0MzQwm"
      },
      "source": [
        "loaded_model = load_model('/content/drive/MyDrive/Datasets/Hand-Digits/hand_digits.tf')"
      ],
      "execution_count": 58,
      "outputs": []
    },
    {
      "cell_type": "code",
      "metadata": {
        "colab": {
          "base_uri": "https://localhost:8080/"
        },
        "id": "0Ny3zWve0RP3",
        "outputId": "0d91553d-edd6-40fb-96e0-5663c0406c7f"
      },
      "source": [
        "loaded_model.summary()"
      ],
      "execution_count": 59,
      "outputs": [
        {
          "output_type": "stream",
          "text": [
            "Model: \"Sign_Digits\"\n",
            "_________________________________________________________________\n",
            "Layer (type)                 Output Shape              Param #   \n",
            "=================================================================\n",
            "resnet50 (Functional)        (None, 2, 2, 2048)        23587712  \n",
            "_________________________________________________________________\n",
            "flatten_1 (Flatten)          (None, 8192)              0         \n",
            "_________________________________________________________________\n",
            "dense_3 (Dense)              (None, 1024)              8389632   \n",
            "_________________________________________________________________\n",
            "dense_4 (Dense)              (None, 256)               262400    \n",
            "_________________________________________________________________\n",
            "dense_5 (Dense)              (None, 10)                2570      \n",
            "=================================================================\n",
            "Total params: 32,242,314\n",
            "Trainable params: 32,189,194\n",
            "Non-trainable params: 53,120\n",
            "_________________________________________________________________\n"
          ],
          "name": "stdout"
        }
      ]
    },
    {
      "cell_type": "code",
      "metadata": {
        "colab": {
          "base_uri": "https://localhost:8080/",
          "height": 296
        },
        "id": "g3Gxdp0x00_E",
        "outputId": "4feef28f-b183-4847-e97d-471ceee5a9ca"
      },
      "source": [
        "x = random.randint(0,len(rgb_test))\n",
        "\n",
        "y_pred = model.predict(rgb_test[x].reshape(1,64,64,3))\n",
        "actual_label = np.argmax(y_test[x])\n",
        "pred_label = np.argmax(y_pred)\n",
        "plt.imshow(rgb_test[x])\n",
        "plt.title(f'Actual: {actual_label}\\nPredicted: {pred_label}');"
      ],
      "execution_count": 68,
      "outputs": [
        {
          "output_type": "display_data",
          "data": {
            "image/png": "[encoded data removed]",
            "text/plain": [
              "<Figure size 432x288 with 1 Axes>"
            ]
          },
          "metadata": {
            "tags": [],
            "needs_background": "light"
          }
        }
      ]
    },
    {
      "cell_type": "code",
      "metadata": {
        "id": "2aTNNMtD1Z7D"
      },
      "source": [
        ""
      ],
      "execution_count": null,
      "outputs": []
    }
  ]
}