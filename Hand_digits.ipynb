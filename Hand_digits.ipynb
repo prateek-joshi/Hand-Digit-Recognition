{
 "cells": [
  {
   "cell_type": "code",
   "execution_count": 2,
   "metadata": {
    "id": "8qNGloWOoX1y"
   },
   "outputs": [],
   "source": [
    "import numpy as np\n",
    "import matplotlib.pyplot as plt\n",
    "import random, os\n",
    "import tensorflow as tf\n",
    "from tensorflow.image import grayscale_to_rgb\n",
    "from sklearn.model_selection import train_test_split\n",
    "from keras.preprocessing.image import ImageDataGenerator\n",
    "from keras.applications.resnet50 import ResNet50, preprocess_input\n",
    "from keras.models import Sequential, Model, load_model\n",
    "from keras.layers import Dense, Flatten"
   ]
  },
  {
   "cell_type": "code",
   "execution_count": 3,
   "metadata": {
    "id": "tDsUKKYqoluu"
   },
   "outputs": [],
   "source": [
    "data = np.load('X.npy')\n",
    "label = np.load('Y.npy')"
   ]
  },
  {
   "cell_type": "code",
   "execution_count": 4,
   "metadata": {
    "colab": {
     "base_uri": "https://localhost:8080/"
    },
    "id": "LsP6rkuYosYb",
    "outputId": "fa1964ea-2267-4ffb-b134-56a642ca1026"
   },
   "outputs": [
    {
     "data": {
      "text/plain": [
       "((2062, 64, 64), (2062, 10))"
      ]
     },
     "execution_count": 4,
     "metadata": {
      "tags": []
     },
     "output_type": "execute_result"
    }
   ],
   "source": [
    "data.shape, label.shape"
   ]
  },
  {
   "cell_type": "code",
   "execution_count": 5,
   "metadata": {
    "id": "DXEb8HOhqiDf"
   },
   "outputs": [],
   "source": [
    "data = np.concatenate((data[204:409,:],\n",
    "                  data[822:1028,:],\n",
    "                  data[1649:1855,:],\n",
    "                  data[1443:1649,:],\n",
    "                  data[1236:1443,:],\n",
    "                  data[1855:2062,:],\n",
    "                  data[615:822,:],\n",
    "                  data[409:615,:],\n",
    "                  data[1028:1236,:],\n",
    "                  data[0:204,:]),axis = 0)"
   ]
  },
  {
   "cell_type": "code",
   "execution_count": 6,
   "metadata": {
    "colab": {
     "base_uri": "https://localhost:8080/",
     "height": 300
    },
    "id": "kRWpr_8iqpmQ",
    "outputId": "3b20057a-70e0-450d-fc49-4f84ce41038b"
   },
   "outputs": [
    {
     "data": {
      "text/plain": [
       "Text(0.5, 1.0, '0')"
      ]
     },
     "execution_count": 6,
     "metadata": {
      "tags": []
     },
     "output_type": "execute_result"
    },
    {
     "data": {
      "image/png": "[encoded data removed]",
      "text/plain": [
       "<Figure size 432x288 with 1 Axes>"
      ]
     },
     "metadata": {
      "needs_background": "light",
      "tags": []
     },
     "output_type": "display_data"
    }
   ],
   "source": [
    "x = random.randint(0,data.shape[0])\n",
    "\n",
    "plt.imshow(data[x], cmap='gray')\n",
    "plt.title(np.argmax(label[x]))"
   ]
  },
  {
   "cell_type": "code",
   "execution_count": 7,
   "metadata": {
    "id": "olkQ4XsNt0xW"
   },
   "outputs": [],
   "source": [
    "X_4d = data.reshape(data.shape[0],data.shape[1],data.shape[2],1)\n",
    "# X = data\n",
    "# y = np.argmax(label, axis=1).reshape(label.shape[0], 1)\n",
    "y = label"
   ]
  },
  {
   "cell_type": "code",
   "execution_count": 8,
   "metadata": {
    "colab": {
     "base_uri": "https://localhost:8080/"
    },
    "id": "qRDgtkAoulJa",
    "outputId": "c6d0505e-8a42-43bb-d979-dacb899731cd"
   },
   "outputs": [
    {
     "data": {
      "text/plain": [
       "((2062, 64, 64, 1), (2062, 10))"
      ]
     },
     "execution_count": 8,
     "metadata": {
      "tags": []
     },
     "output_type": "execute_result"
    }
   ],
   "source": [
    "X_4d.shape, y.shape"
   ]
  },
  {
   "cell_type": "code",
   "execution_count": 9,
   "metadata": {
    "id": "kuTBYLvzultC"
   },
   "outputs": [],
   "source": [
    "X_train, X_test, y_train, y_test = train_test_split(\n",
    "    X_4d,y,random_state=10, \n",
    "    test_size=0.2\n",
    ")"
   ]
  },
  {
   "cell_type": "code",
   "execution_count": 10,
   "metadata": {
    "colab": {
     "base_uri": "https://localhost:8080/"
    },
    "id": "D7ayyM4KRyL4",
    "outputId": "f42d52b4-8f39-4542-db92-8cf13cdacb63"
   },
   "outputs": [
    {
     "data": {
      "text/plain": [
       "((1649, 64, 64, 1), (413, 64, 64, 1))"
      ]
     },
     "execution_count": 10,
     "metadata": {
      "tags": []
     },
     "output_type": "execute_result"
    }
   ],
   "source": [
    "X_train.shape, X_test.shape"
   ]
  },
  {
   "cell_type": "code",
   "execution_count": 11,
   "metadata": {
    "colab": {
     "base_uri": "https://localhost:8080/"
    },
    "id": "6vzDevhVR03s",
    "outputId": "a269a34f-677f-4b9b-efa2-78ef708d01af"
   },
   "outputs": [
    {
     "data": {
      "text/plain": [
       "((1649, 10), (413, 10))"
      ]
     },
     "execution_count": 11,
     "metadata": {
      "tags": []
     },
     "output_type": "execute_result"
    }
   ],
   "source": [
    "y_train.shape, y_test.shape"
   ]
  },
  {
   "cell_type": "code",
   "execution_count": 12,
   "metadata": {
    "colab": {
     "base_uri": "https://localhost:8080/",
     "height": 300
    },
    "id": "r33YWDRFSAM_",
    "outputId": "133afc34-8d9d-46ec-939e-de308f557b42"
   },
   "outputs": [
    {
     "data": {
      "text/plain": [
       "Text(0.5, 1.0, '1')"
      ]
     },
     "execution_count": 12,
     "metadata": {
      "tags": []
     },
     "output_type": "execute_result"
    },
    {
     "data": {
      "image/png": "[encoded data removed]",
      "text/plain": [
       "<Figure size 432x288 with 1 Axes>"
      ]
     },
     "metadata": {
      "needs_background": "light",
      "tags": []
     },
     "output_type": "display_data"
    }
   ],
   "source": [
    "x = random.randint(0,X_train.shape[0])\n",
    "\n",
    "plt.imshow(X_train[x].reshape(64,64), cmap='gray')\n",
    "plt.title(np.argmax(y_train[x]))"
   ]
  },
  {
   "cell_type": "markdown",
   "metadata": {
    "id": "QSWlPxJoS6y1"
   },
   "source": [
    "Data Augmentation"
   ]
  },
  {
   "cell_type": "code",
   "execution_count": 13,
   "metadata": {
    "id": "RJPWBrPcSJTY"
   },
   "outputs": [],
   "source": [
    "datagen = ImageDataGenerator(\n",
    "    rotation_range=20,\n",
    "    width_shift_range=0.2,\n",
    "    height_shift_range=0.2,\n",
    "    horizontal_flip=True\n",
    ")"
   ]
  },
  {
   "cell_type": "markdown",
   "metadata": {
    "id": "Zxq9YGSzTbpX"
   },
   "source": [
    "Model construction"
   ]
  },
  {
   "cell_type": "code",
   "execution_count": 14,
   "metadata": {
    "colab": {
     "base_uri": "https://localhost:8080/"
    },
    "id": "Tz4NGBB6TVKm",
    "outputId": "6efaed41-1dbb-469f-fb5d-28af079f9296"
   },
   "outputs": [
    {
     "name": "stdout",
     "output_type": "stream",
     "text": [
      "Downloading data from https://storage.googleapis.com/tensorflow/keras-applications/resnet/resnet50_weights_tf_dim_ordering_tf_kernels_notop.h5\n",
      "94773248/94765736 [==============================] - 1s 0us/step\n"
     ]
    }
   ],
   "source": [
    "rgb_train = grayscale_to_rgb(tf.constant(X_train)).numpy()\n",
    "rgb_test = grayscale_to_rgb(tf.constant(X_test)).numpy()\n",
    "\n",
    "n,w,h,c = rgb_train.shape\n",
    "\n",
    "resnet = ResNet50(\n",
    "    input_shape=(w,h,c),\n",
    "    include_top=False,\n",
    "    weights='imagenet',\n",
    "    classes=10\n",
    ")\n",
    "\n",
    "# rgb_train.numpy().shape, rgb_test.numpy().shape"
   ]
  },
  {
   "cell_type": "code",
   "execution_count": 15,
   "metadata": {
    "colab": {
     "base_uri": "https://localhost:8080/",
     "height": 324
    },
    "id": "AxuMx72b2-Wa",
    "outputId": "11b7af99-09fe-42ea-88ad-4ff092fdbd83"
   },
   "outputs": [
    {
     "name": "stdout",
     "output_type": "stream",
     "text": [
      "(1649, 64, 64, 3) (413, 64, 64, 3) (1649, 10) (413, 10)\n",
      "[0. 0. 0. 1. 0. 0. 0. 0. 0. 0.]\n"
     ]
    },
    {
     "data": {
      "text/plain": [
       "<matplotlib.image.AxesImage at 0x7f3c2ab9d7d0>"
      ]
     },
     "execution_count": 15,
     "metadata": {
      "tags": []
     },
     "output_type": "execute_result"
    },
    {
     "data": {
      "image/png": "[encoded data removed]",
      "text/plain": [
       "<Figure size 432x288 with 1 Axes>"
      ]
     },
     "metadata": {
      "needs_background": "light",
      "tags": []
     },
     "output_type": "display_data"
    }
   ],
   "source": [
    "# print(rgb_train.shape, rgb_test.shape, y_train.shape, y_test.shape)\n",
    "# print(y_train[0])\n",
    "# plt.imshow(rgb_train[0])"
   ]
  },
  {
   "cell_type": "code",
   "execution_count": 16,
   "metadata": {
    "colab": {
     "base_uri": "https://localhost:8080/"
    },
    "id": "E7rZMg3McMBX",
    "outputId": "9b73040d-69f0-4377-f748-0bed11e2331a"
   },
   "outputs": [
    {
     "name": "stdout",
     "output_type": "stream",
     "text": [
      "Model: \"resnet50\"\n",
      "__________________________________________________________________________________________________\n",
      "Layer (type)                    Output Shape         Param #     Connected to                     \n",
      "==================================================================================================\n",
      "input_1 (InputLayer)            [(None, 64, 64, 3)]  0                                            \n",
      "__________________________________________________________________________________________________\n",
      "conv1_pad (ZeroPadding2D)       (None, 70, 70, 3)    0           input_1[0][0]                    \n",
      "__________________________________________________________________________________________________\n",
      "conv1_conv (Conv2D)             (None, 32, 32, 64)   9472        conv1_pad[0][0]                  \n",
      "__________________________________________________________________________________________________\n",
      "conv1_bn (BatchNormalization)   (None, 32, 32, 64)   256         conv1_conv[0][0]                 \n",
      "__________________________________________________________________________________________________\n",
      "conv1_relu (Activation)         (None, 32, 32, 64)   0           conv1_bn[0][0]                   \n",
      "__________________________________________________________________________________________________\n",
      "pool1_pad (ZeroPadding2D)       (None, 34, 34, 64)   0           conv1_relu[0][0]                 \n",
      "__________________________________________________________________________________________________\n",
      "pool1_pool (MaxPooling2D)       (None, 16, 16, 64)   0           pool1_pad[0][0]                  \n",
      "__________________________________________________________________________________________________\n",
      "conv2_block1_1_conv (Conv2D)    (None, 16, 16, 64)   4160        pool1_pool[0][0]                 \n",
      "__________________________________________________________________________________________________\n",
      "conv2_block1_1_bn (BatchNormali (None, 16, 16, 64)   256         conv2_block1_1_conv[0][0]        \n",
      "__________________________________________________________________________________________________\n",
      "conv2_block1_1_relu (Activation (None, 16, 16, 64)   0           conv2_block1_1_bn[0][0]          \n",
      "__________________________________________________________________________________________________\n",
      "conv2_block1_2_conv (Conv2D)    (None, 16, 16, 64)   36928       conv2_block1_1_relu[0][0]        \n",
      "__________________________________________________________________________________________________\n",
      "conv2_block1_2_bn (BatchNormali (None, 16, 16, 64)   256         conv2_block1_2_conv[0][0]        \n",
      "__________________________________________________________________________________________________\n",
      "conv2_block1_2_relu (Activation (None, 16, 16, 64)   0           conv2_block1_2_bn[0][0]          \n",
      "__________________________________________________________________________________________________\n",
      "conv2_block1_0_conv (Conv2D)    (None, 16, 16, 256)  16640       pool1_pool[0][0]                 \n",
      "__________________________________________________________________________________________________\n",
      "conv2_block1_3_conv (Conv2D)    (None, 16, 16, 256)  16640       conv2_block1_2_relu[0][0]        \n",
      "__________________________________________________________________________________________________\n",
      "conv2_block1_0_bn (BatchNormali (None, 16, 16, 256)  1024        conv2_block1_0_conv[0][0]        \n",
      "__________________________________________________________________________________________________\n",
      "conv2_block1_3_bn (BatchNormali (None, 16, 16, 256)  1024        conv2_block1_3_conv[0][0]        \n",
      "__________________________________________________________________________________________________\n",
      "conv2_block1_add (Add)          (None, 16, 16, 256)  0           conv2_block1_0_bn[0][0]          \n",
      "                                                                 conv2_block1_3_bn[0][0]          \n",
      "__________________________________________________________________________________________________\n",
      "conv2_block1_out (Activation)   (None, 16, 16, 256)  0           conv2_block1_add[0][0]           \n",
      "__________________________________________________________________________________________________\n",
      "conv2_block2_1_conv (Conv2D)    (None, 16, 16, 64)   16448       conv2_block1_out[0][0]           \n",
      "__________________________________________________________________________________________________\n",
      "conv2_block2_1_bn (BatchNormali (None, 16, 16, 64)   256         conv2_block2_1_conv[0][0]        \n",
      "__________________________________________________________________________________________________\n",
      "conv2_block2_1_relu (Activation (None, 16, 16, 64)   0           conv2_block2_1_bn[0][0]          \n",
      "__________________________________________________________________________________________________\n",
      "conv2_block2_2_conv (Conv2D)    (None, 16, 16, 64)   36928       conv2_block2_1_relu[0][0]        \n",
      "__________________________________________________________________________________________________\n",
      "conv2_block2_2_bn (BatchNormali (None, 16, 16, 64)   256         conv2_block2_2_conv[0][0]        \n",
      "__________________________________________________________________________________________________\n",
      "conv2_block2_2_relu (Activation (None, 16, 16, 64)   0           conv2_block2_2_bn[0][0]          \n",
      "__________________________________________________________________________________________________\n",
      "conv2_block2_3_conv (Conv2D)    (None, 16, 16, 256)  16640       conv2_block2_2_relu[0][0]        \n",
      "__________________________________________________________________________________________________\n",
      "conv2_block2_3_bn (BatchNormali (None, 16, 16, 256)  1024        conv2_block2_3_conv[0][0]        \n",
      "__________________________________________________________________________________________________\n",
      "conv2_block2_add (Add)          (None, 16, 16, 256)  0           conv2_block1_out[0][0]           \n",
      "                                                                 conv2_block2_3_bn[0][0]          \n",
      "__________________________________________________________________________________________________\n",
      "conv2_block2_out (Activation)   (None, 16, 16, 256)  0           conv2_block2_add[0][0]           \n",
      "__________________________________________________________________________________________________\n",
      "conv2_block3_1_conv (Conv2D)    (None, 16, 16, 64)   16448       conv2_block2_out[0][0]           \n",
      "__________________________________________________________________________________________________\n",
      "conv2_block3_1_bn (BatchNormali (None, 16, 16, 64)   256         conv2_block3_1_conv[0][0]        \n",
      "__________________________________________________________________________________________________\n",
      "conv2_block3_1_relu (Activation (None, 16, 16, 64)   0           conv2_block3_1_bn[0][0]          \n",
      "__________________________________________________________________________________________________\n",
      "conv2_block3_2_conv (Conv2D)    (None, 16, 16, 64)   36928       conv2_block3_1_relu[0][0]        \n",
      "__________________________________________________________________________________________________\n",
      "conv2_block3_2_bn (BatchNormali (None, 16, 16, 64)   256         conv2_block3_2_conv[0][0]        \n",
      "__________________________________________________________________________________________________\n",
      "conv2_block3_2_relu (Activation (None, 16, 16, 64)   0           conv2_block3_2_bn[0][0]          \n",
      "__________________________________________________________________________________________________\n",
      "conv2_block3_3_conv (Conv2D)    (None, 16, 16, 256)  16640       conv2_block3_2_relu[0][0]        \n",
      "__________________________________________________________________________________________________\n",
      "conv2_block3_3_bn (BatchNormali (None, 16, 16, 256)  1024        conv2_block3_3_conv[0][0]        \n",
      "__________________________________________________________________________________________________\n",
      "conv2_block3_add (Add)          (None, 16, 16, 256)  0           conv2_block2_out[0][0]           \n",
      "                                                                 conv2_block3_3_bn[0][0]          \n",
      "__________________________________________________________________________________________________\n",
      "conv2_block3_out (Activation)   (None, 16, 16, 256)  0           conv2_block3_add[0][0]           \n",
      "__________________________________________________________________________________________________\n",
      "conv3_block1_1_conv (Conv2D)    (None, 8, 8, 128)    32896       conv2_block3_out[0][0]           \n",
      "__________________________________________________________________________________________________\n",
      "conv3_block1_1_bn (BatchNormali (None, 8, 8, 128)    512         conv3_block1_1_conv[0][0]        \n",
      "__________________________________________________________________________________________________\n",
      "conv3_block1_1_relu (Activation (None, 8, 8, 128)    0           conv3_block1_1_bn[0][0]          \n",
      "__________________________________________________________________________________________________\n",
      "conv3_block1_2_conv (Conv2D)    (None, 8, 8, 128)    147584      conv3_block1_1_relu[0][0]        \n",
      "__________________________________________________________________________________________________\n",
      "conv3_block1_2_bn (BatchNormali (None, 8, 8, 128)    512         conv3_block1_2_conv[0][0]        \n",
      "__________________________________________________________________________________________________\n",
      "conv3_block1_2_relu (Activation (None, 8, 8, 128)    0           conv3_block1_2_bn[0][0]          \n",
      "__________________________________________________________________________________________________\n",
      "conv3_block1_0_conv (Conv2D)    (None, 8, 8, 512)    131584      conv2_block3_out[0][0]           \n",
      "__________________________________________________________________________________________________\n",
      "conv3_block1_3_conv (Conv2D)    (None, 8, 8, 512)    66048       conv3_block1_2_relu[0][0]        \n",
      "__________________________________________________________________________________________________\n",
      "conv3_block1_0_bn (BatchNormali (None, 8, 8, 512)    2048        conv3_block1_0_conv[0][0]        \n",
      "__________________________________________________________________________________________________\n",
      "conv3_block1_3_bn (BatchNormali (None, 8, 8, 512)    2048        conv3_block1_3_conv[0][0]        \n",
      "__________________________________________________________________________________________________\n",
      "conv3_block1_add (Add)          (None, 8, 8, 512)    0           conv3_block1_0_bn[0][0]          \n",
      "                                                                 conv3_block1_3_bn[0][0]          \n",
      "__________________________________________________________________________________________________\n",
      "conv3_block1_out (Activation)   (None, 8, 8, 512)    0           conv3_block1_add[0][0]           \n",
      "__________________________________________________________________________________________________\n",
      "conv3_block2_1_conv (Conv2D)    (None, 8, 8, 128)    65664       conv3_block1_out[0][0]           \n",
      "__________________________________________________________________________________________________\n",
      "conv3_block2_1_bn (BatchNormali (None, 8, 8, 128)    512         conv3_block2_1_conv[0][0]        \n",
      "__________________________________________________________________________________________________\n",
      "conv3_block2_1_relu (Activation (None, 8, 8, 128)    0           conv3_block2_1_bn[0][0]          \n",
      "__________________________________________________________________________________________________\n",
      "conv3_block2_2_conv (Conv2D)    (None, 8, 8, 128)    147584      conv3_block2_1_relu[0][0]        \n",
      "__________________________________________________________________________________________________\n",
      "conv3_block2_2_bn (BatchNormali (None, 8, 8, 128)    512         conv3_block2_2_conv[0][0]        \n",
      "__________________________________________________________________________________________________\n",
      "conv3_block2_2_relu (Activation (None, 8, 8, 128)    0           conv3_block2_2_bn[0][0]          \n",
      "__________________________________________________________________________________________________\n",
      "conv3_block2_3_conv (Conv2D)    (None, 8, 8, 512)    66048       conv3_block2_2_relu[0][0]        \n",
      "__________________________________________________________________________________________________\n",
      "conv3_block2_3_bn (BatchNormali (None, 8, 8, 512)    2048        conv3_block2_3_conv[0][0]        \n",
      "__________________________________________________________________________________________________\n",
      "conv3_block2_add (Add)          (None, 8, 8, 512)    0           conv3_block1_out[0][0]           \n",
      "                                                                 conv3_block2_3_bn[0][0]          \n",
      "__________________________________________________________________________________________________\n",
      "conv3_block2_out (Activation)   (None, 8, 8, 512)    0           conv3_block2_add[0][0]           \n",
      "__________________________________________________________________________________________________\n",
      "conv3_block3_1_conv (Conv2D)    (None, 8, 8, 128)    65664       conv3_block2_out[0][0]           \n",
      "__________________________________________________________________________________________________\n",
      "conv3_block3_1_bn (BatchNormali (None, 8, 8, 128)    512         conv3_block3_1_conv[0][0]        \n",
      "__________________________________________________________________________________________________\n",
      "conv3_block3_1_relu (Activation (None, 8, 8, 128)    0           conv3_block3_1_bn[0][0]          \n",
      "__________________________________________________________________________________________________\n",
      "conv3_block3_2_conv (Conv2D)    (None, 8, 8, 128)    147584      conv3_block3_1_relu[0][0]        \n",
      "__________________________________________________________________________________________________\n",
      "conv3_block3_2_bn (BatchNormali (None, 8, 8, 128)    512         conv3_block3_2_conv[0][0]        \n",
      "__________________________________________________________________________________________________\n",
      "conv3_block3_2_relu (Activation (None, 8, 8, 128)    0           conv3_block3_2_bn[0][0]          \n",
      "__________________________________________________________________________________________________\n",
      "conv3_block3_3_conv (Conv2D)    (None, 8, 8, 512)    66048       conv3_block3_2_relu[0][0]        \n",
      "__________________________________________________________________________________________________\n",
      "conv3_block3_3_bn (BatchNormali (None, 8, 8, 512)    2048        conv3_block3_3_conv[0][0]        \n",
      "__________________________________________________________________________________________________\n",
      "conv3_block3_add (Add)          (None, 8, 8, 512)    0           conv3_block2_out[0][0]           \n",
      "                                                                 conv3_block3_3_bn[0][0]          \n",
      "__________________________________________________________________________________________________\n",
      "conv3_block3_out (Activation)   (None, 8, 8, 512)    0           conv3_block3_add[0][0]           \n",
      "__________________________________________________________________________________________________\n",
      "conv3_block4_1_conv (Conv2D)    (None, 8, 8, 128)    65664       conv3_block3_out[0][0]           \n",
      "__________________________________________________________________________________________________\n",
      "conv3_block4_1_bn (BatchNormali (None, 8, 8, 128)    512         conv3_block4_1_conv[0][0]        \n",
      "__________________________________________________________________________________________________\n",
      "conv3_block4_1_relu (Activation (None, 8, 8, 128)    0           conv3_block4_1_bn[0][0]          \n",
      "__________________________________________________________________________________________________\n",
      "conv3_block4_2_conv (Conv2D)    (None, 8, 8, 128)    147584      conv3_block4_1_relu[0][0]        \n",
      "__________________________________________________________________________________________________\n",
      "conv3_block4_2_bn (BatchNormali (None, 8, 8, 128)    512         conv3_block4_2_conv[0][0]        \n",
      "__________________________________________________________________________________________________\n",
      "conv3_block4_2_relu (Activation (None, 8, 8, 128)    0           conv3_block4_2_bn[0][0]          \n",
      "__________________________________________________________________________________________________\n",
      "conv3_block4_3_conv (Conv2D)    (None, 8, 8, 512)    66048       conv3_block4_2_relu[0][0]        \n",
      "__________________________________________________________________________________________________\n",
      "conv3_block4_3_bn (BatchNormali (None, 8, 8, 512)    2048        conv3_block4_3_conv[0][0]        \n",
      "__________________________________________________________________________________________________\n",
      "conv3_block4_add (Add)          (None, 8, 8, 512)    0           conv3_block3_out[0][0]           \n",
      "                                                                 conv3_block4_3_bn[0][0]          \n",
      "__________________________________________________________________________________________________\n",
      "conv3_block4_out (Activation)   (None, 8, 8, 512)    0           conv3_block4_add[0][0]           \n",
      "__________________________________________________________________________________________________\n",
      "conv4_block1_1_conv (Conv2D)    (None, 4, 4, 256)    131328      conv3_block4_out[0][0]           \n",
      "__________________________________________________________________________________________________\n",
      "conv4_block1_1_bn (BatchNormali (None, 4, 4, 256)    1024        conv4_block1_1_conv[0][0]        \n",
      "__________________________________________________________________________________________________\n",
      "conv4_block1_1_relu (Activation (None, 4, 4, 256)    0           conv4_block1_1_bn[0][0]          \n",
      "__________________________________________________________________________________________________\n",
      "conv4_block1_2_conv (Conv2D)    (None, 4, 4, 256)    590080      conv4_block1_1_relu[0][0]        \n",
      "__________________________________________________________________________________________________\n",
      "conv4_block1_2_bn (BatchNormali (None, 4, 4, 256)    1024        conv4_block1_2_conv[0][0]        \n",
      "__________________________________________________________________________________________________\n",
      "conv4_block1_2_relu (Activation (None, 4, 4, 256)    0           conv4_block1_2_bn[0][0]          \n",
      "__________________________________________________________________________________________________\n",
      "conv4_block1_0_conv (Conv2D)    (None, 4, 4, 1024)   525312      conv3_block4_out[0][0]           \n",
      "__________________________________________________________________________________________________\n",
      "conv4_block1_3_conv (Conv2D)    (None, 4, 4, 1024)   263168      conv4_block1_2_relu[0][0]        \n",
      "__________________________________________________________________________________________________\n",
      "conv4_block1_0_bn (BatchNormali (None, 4, 4, 1024)   4096        conv4_block1_0_conv[0][0]        \n",
      "__________________________________________________________________________________________________\n",
      "conv4_block1_3_bn (BatchNormali (None, 4, 4, 1024)   4096        conv4_block1_3_conv[0][0]        \n",
      "__________________________________________________________________________________________________\n",
      "conv4_block1_add (Add)          (None, 4, 4, 1024)   0           conv4_block1_0_bn[0][0]          \n",
      "                                                                 conv4_block1_3_bn[0][0]          \n",
      "__________________________________________________________________________________________________\n",
      "conv4_block1_out (Activation)   (None, 4, 4, 1024)   0           conv4_block1_add[0][0]           \n",
      "__________________________________________________________________________________________________\n",
      "conv4_block2_1_conv (Conv2D)    (None, 4, 4, 256)    262400      conv4_block1_out[0][0]           \n",
      "__________________________________________________________________________________________________\n",
      "conv4_block2_1_bn (BatchNormali (None, 4, 4, 256)    1024        conv4_block2_1_conv[0][0]        \n",
      "__________________________________________________________________________________________________\n",
      "conv4_block2_1_relu (Activation (None, 4, 4, 256)    0           conv4_block2_1_bn[0][0]          \n",
      "__________________________________________________________________________________________________\n",
      "conv4_block2_2_conv (Conv2D)    (None, 4, 4, 256)    590080      conv4_block2_1_relu[0][0]        \n",
      "__________________________________________________________________________________________________\n",
      "conv4_block2_2_bn (BatchNormali (None, 4, 4, 256)    1024        conv4_block2_2_conv[0][0]        \n",
      "__________________________________________________________________________________________________\n",
      "conv4_block2_2_relu (Activation (None, 4, 4, 256)    0           conv4_block2_2_bn[0][0]          \n",
      "__________________________________________________________________________________________________\n",
      "conv4_block2_3_conv (Conv2D)    (None, 4, 4, 1024)   263168      conv4_block2_2_relu[0][0]        \n",
      "__________________________________________________________________________________________________\n",
      "conv4_block2_3_bn (BatchNormali (None, 4, 4, 1024)   4096        conv4_block2_3_conv[0][0]        \n",
      "__________________________________________________________________________________________________\n",
      "conv4_block2_add (Add)          (None, 4, 4, 1024)   0           conv4_block1_out[0][0]           \n",
      "                                                                 conv4_block2_3_bn[0][0]          \n",
      "__________________________________________________________________________________________________\n",
      "conv4_block2_out (Activation)   (None, 4, 4, 1024)   0           conv4_block2_add[0][0]           \n",
      "__________________________________________________________________________________________________\n",
      "conv4_block3_1_conv (Conv2D)    (None, 4, 4, 256)    262400      conv4_block2_out[0][0]           \n",
      "__________________________________________________________________________________________________\n",
      "conv4_block3_1_bn (BatchNormali (None, 4, 4, 256)    1024        conv4_block3_1_conv[0][0]        \n",
      "__________________________________________________________________________________________________\n",
      "conv4_block3_1_relu (Activation (None, 4, 4, 256)    0           conv4_block3_1_bn[0][0]          \n",
      "__________________________________________________________________________________________________\n",
      "conv4_block3_2_conv (Conv2D)    (None, 4, 4, 256)    590080      conv4_block3_1_relu[0][0]        \n",
      "__________________________________________________________________________________________________\n",
      "conv4_block3_2_bn (BatchNormali (None, 4, 4, 256)    1024        conv4_block3_2_conv[0][0]        \n",
      "__________________________________________________________________________________________________\n",
      "conv4_block3_2_relu (Activation (None, 4, 4, 256)    0           conv4_block3_2_bn[0][0]          \n",
      "__________________________________________________________________________________________________\n",
      "conv4_block3_3_conv (Conv2D)    (None, 4, 4, 1024)   263168      conv4_block3_2_relu[0][0]        \n",
      "__________________________________________________________________________________________________\n",
      "conv4_block3_3_bn (BatchNormali (None, 4, 4, 1024)   4096        conv4_block3_3_conv[0][0]        \n",
      "__________________________________________________________________________________________________\n",
      "conv4_block3_add (Add)          (None, 4, 4, 1024)   0           conv4_block2_out[0][0]           \n",
      "                                                                 conv4_block3_3_bn[0][0]          \n",
      "__________________________________________________________________________________________________\n",
      "conv4_block3_out (Activation)   (None, 4, 4, 1024)   0           conv4_block3_add[0][0]           \n",
      "__________________________________________________________________________________________________\n",
      "conv4_block4_1_conv (Conv2D)    (None, 4, 4, 256)    262400      conv4_block3_out[0][0]           \n",
      "__________________________________________________________________________________________________\n",
      "conv4_block4_1_bn (BatchNormali (None, 4, 4, 256)    1024        conv4_block4_1_conv[0][0]        \n",
      "__________________________________________________________________________________________________\n",
      "conv4_block4_1_relu (Activation (None, 4, 4, 256)    0           conv4_block4_1_bn[0][0]          \n",
      "__________________________________________________________________________________________________\n",
      "conv4_block4_2_conv (Conv2D)    (None, 4, 4, 256)    590080      conv4_block4_1_relu[0][0]        \n",
      "__________________________________________________________________________________________________\n",
      "conv4_block4_2_bn (BatchNormali (None, 4, 4, 256)    1024        conv4_block4_2_conv[0][0]        \n",
      "__________________________________________________________________________________________________\n",
      "conv4_block4_2_relu (Activation (None, 4, 4, 256)    0           conv4_block4_2_bn[0][0]          \n",
      "__________________________________________________________________________________________________\n",
      "conv4_block4_3_conv (Conv2D)    (None, 4, 4, 1024)   263168      conv4_block4_2_relu[0][0]        \n",
      "__________________________________________________________________________________________________\n",
      "conv4_block4_3_bn (BatchNormali (None, 4, 4, 1024)   4096        conv4_block4_3_conv[0][0]        \n",
      "__________________________________________________________________________________________________\n",
      "conv4_block4_add (Add)          (None, 4, 4, 1024)   0           conv4_block3_out[0][0]           \n",
      "                                                                 conv4_block4_3_bn[0][0]          \n",
      "__________________________________________________________________________________________________\n",
      "conv4_block4_out (Activation)   (None, 4, 4, 1024)   0           conv4_block4_add[0][0]           \n",
      "__________________________________________________________________________________________________\n",
      "conv4_block5_1_conv (Conv2D)    (None, 4, 4, 256)    262400      conv4_block4_out[0][0]           \n",
      "__________________________________________________________________________________________________\n",
      "conv4_block5_1_bn (BatchNormali (None, 4, 4, 256)    1024        conv4_block5_1_conv[0][0]        \n",
      "__________________________________________________________________________________________________\n",
      "conv4_block5_1_relu (Activation (None, 4, 4, 256)    0           conv4_block5_1_bn[0][0]          \n",
      "__________________________________________________________________________________________________\n",
      "conv4_block5_2_conv (Conv2D)    (None, 4, 4, 256)    590080      conv4_block5_1_relu[0][0]        \n",
      "__________________________________________________________________________________________________\n",
      "conv4_block5_2_bn (BatchNormali (None, 4, 4, 256)    1024        conv4_block5_2_conv[0][0]        \n",
      "__________________________________________________________________________________________________\n",
      "conv4_block5_2_relu (Activation (None, 4, 4, 256)    0           conv4_block5_2_bn[0][0]          \n",
      "__________________________________________________________________________________________________\n",
      "conv4_block5_3_conv (Conv2D)    (None, 4, 4, 1024)   263168      conv4_block5_2_relu[0][0]        \n",
      "__________________________________________________________________________________________________\n",
      "conv4_block5_3_bn (BatchNormali (None, 4, 4, 1024)   4096        conv4_block5_3_conv[0][0]        \n",
      "__________________________________________________________________________________________________\n",
      "conv4_block5_add (Add)          (None, 4, 4, 1024)   0           conv4_block4_out[0][0]           \n",
      "                                                                 conv4_block5_3_bn[0][0]          \n",
      "__________________________________________________________________________________________________\n",
      "conv4_block5_out (Activation)   (None, 4, 4, 1024)   0           conv4_block5_add[0][0]           \n",
      "__________________________________________________________________________________________________\n",
      "conv4_block6_1_conv (Conv2D)    (None, 4, 4, 256)    262400      conv4_block5_out[0][0]           \n",
      "__________________________________________________________________________________________________\n",
      "conv4_block6_1_bn (BatchNormali (None, 4, 4, 256)    1024        conv4_block6_1_conv[0][0]        \n",
      "__________________________________________________________________________________________________\n",
      "conv4_block6_1_relu (Activation (None, 4, 4, 256)    0           conv4_block6_1_bn[0][0]          \n",
      "__________________________________________________________________________________________________\n",
      "conv4_block6_2_conv (Conv2D)    (None, 4, 4, 256)    590080      conv4_block6_1_relu[0][0]        \n",
      "__________________________________________________________________________________________________\n",
      "conv4_block6_2_bn (BatchNormali (None, 4, 4, 256)    1024        conv4_block6_2_conv[0][0]        \n",
      "__________________________________________________________________________________________________\n",
      "conv4_block6_2_relu (Activation (None, 4, 4, 256)    0           conv4_block6_2_bn[0][0]          \n",
      "__________________________________________________________________________________________________\n",
      "conv4_block6_3_conv (Conv2D)    (None, 4, 4, 1024)   263168      conv4_block6_2_relu[0][0]        \n",
      "__________________________________________________________________________________________________\n",
      "conv4_block6_3_bn (BatchNormali (None, 4, 4, 1024)   4096        conv4_block6_3_conv[0][0]        \n",
      "__________________________________________________________________________________________________\n",
      "conv4_block6_add (Add)          (None, 4, 4, 1024)   0           conv4_block5_out[0][0]           \n",
      "                                                                 conv4_block6_3_bn[0][0]          \n",
      "__________________________________________________________________________________________________\n",
      "conv4_block6_out (Activation)   (None, 4, 4, 1024)   0           conv4_block6_add[0][0]           \n",
      "__________________________________________________________________________________________________\n",
      "conv5_block1_1_conv (Conv2D)    (None, 2, 2, 512)    524800      conv4_block6_out[0][0]           \n",
      "__________________________________________________________________________________________________\n",
      "conv5_block1_1_bn (BatchNormali (None, 2, 2, 512)    2048        conv5_block1_1_conv[0][0]        \n",
      "__________________________________________________________________________________________________\n",
      "conv5_block1_1_relu (Activation (None, 2, 2, 512)    0           conv5_block1_1_bn[0][0]          \n",
      "__________________________________________________________________________________________________\n",
      "conv5_block1_2_conv (Conv2D)    (None, 2, 2, 512)    2359808     conv5_block1_1_relu[0][0]        \n",
      "__________________________________________________________________________________________________\n",
      "conv5_block1_2_bn (BatchNormali (None, 2, 2, 512)    2048        conv5_block1_2_conv[0][0]        \n",
      "__________________________________________________________________________________________________\n",
      "conv5_block1_2_relu (Activation (None, 2, 2, 512)    0           conv5_block1_2_bn[0][0]          \n",
      "__________________________________________________________________________________________________\n",
      "conv5_block1_0_conv (Conv2D)    (None, 2, 2, 2048)   2099200     conv4_block6_out[0][0]           \n",
      "__________________________________________________________________________________________________\n",
      "conv5_block1_3_conv (Conv2D)    (None, 2, 2, 2048)   1050624     conv5_block1_2_relu[0][0]        \n",
      "__________________________________________________________________________________________________\n",
      "conv5_block1_0_bn (BatchNormali (None, 2, 2, 2048)   8192        conv5_block1_0_conv[0][0]        \n",
      "__________________________________________________________________________________________________\n",
      "conv5_block1_3_bn (BatchNormali (None, 2, 2, 2048)   8192        conv5_block1_3_conv[0][0]        \n",
      "__________________________________________________________________________________________________\n",
      "conv5_block1_add (Add)          (None, 2, 2, 2048)   0           conv5_block1_0_bn[0][0]          \n",
      "                                                                 conv5_block1_3_bn[0][0]          \n",
      "__________________________________________________________________________________________________\n",
      "conv5_block1_out (Activation)   (None, 2, 2, 2048)   0           conv5_block1_add[0][0]           \n",
      "__________________________________________________________________________________________________\n",
      "conv5_block2_1_conv (Conv2D)    (None, 2, 2, 512)    1049088     conv5_block1_out[0][0]           \n",
      "__________________________________________________________________________________________________\n",
      "conv5_block2_1_bn (BatchNormali (None, 2, 2, 512)    2048        conv5_block2_1_conv[0][0]        \n",
      "__________________________________________________________________________________________________\n",
      "conv5_block2_1_relu (Activation (None, 2, 2, 512)    0           conv5_block2_1_bn[0][0]          \n",
      "__________________________________________________________________________________________________\n",
      "conv5_block2_2_conv (Conv2D)    (None, 2, 2, 512)    2359808     conv5_block2_1_relu[0][0]        \n",
      "__________________________________________________________________________________________________\n",
      "conv5_block2_2_bn (BatchNormali (None, 2, 2, 512)    2048        conv5_block2_2_conv[0][0]        \n",
      "__________________________________________________________________________________________________\n",
      "conv5_block2_2_relu (Activation (None, 2, 2, 512)    0           conv5_block2_2_bn[0][0]          \n",
      "__________________________________________________________________________________________________\n",
      "conv5_block2_3_conv (Conv2D)    (None, 2, 2, 2048)   1050624     conv5_block2_2_relu[0][0]        \n",
      "__________________________________________________________________________________________________\n",
      "conv5_block2_3_bn (BatchNormali (None, 2, 2, 2048)   8192        conv5_block2_3_conv[0][0]        \n",
      "__________________________________________________________________________________________________\n",
      "conv5_block2_add (Add)          (None, 2, 2, 2048)   0           conv5_block1_out[0][0]           \n",
      "                                                                 conv5_block2_3_bn[0][0]          \n",
      "__________________________________________________________________________________________________\n",
      "conv5_block2_out (Activation)   (None, 2, 2, 2048)   0           conv5_block2_add[0][0]           \n",
      "__________________________________________________________________________________________________\n",
      "conv5_block3_1_conv (Conv2D)    (None, 2, 2, 512)    1049088     conv5_block2_out[0][0]           \n",
      "__________________________________________________________________________________________________\n",
      "conv5_block3_1_bn (BatchNormali (None, 2, 2, 512)    2048        conv5_block3_1_conv[0][0]        \n",
      "__________________________________________________________________________________________________\n",
      "conv5_block3_1_relu (Activation (None, 2, 2, 512)    0           conv5_block3_1_bn[0][0]          \n",
      "__________________________________________________________________________________________________\n",
      "conv5_block3_2_conv (Conv2D)    (None, 2, 2, 512)    2359808     conv5_block3_1_relu[0][0]        \n",
      "__________________________________________________________________________________________________\n",
      "conv5_block3_2_bn (BatchNormali (None, 2, 2, 512)    2048        conv5_block3_2_conv[0][0]        \n",
      "__________________________________________________________________________________________________\n",
      "conv5_block3_2_relu (Activation (None, 2, 2, 512)    0           conv5_block3_2_bn[0][0]          \n",
      "__________________________________________________________________________________________________\n",
      "conv5_block3_3_conv (Conv2D)    (None, 2, 2, 2048)   1050624     conv5_block3_2_relu[0][0]        \n",
      "__________________________________________________________________________________________________\n",
      "conv5_block3_3_bn (BatchNormali (None, 2, 2, 2048)   8192        conv5_block3_3_conv[0][0]        \n",
      "__________________________________________________________________________________________________\n",
      "conv5_block3_add (Add)          (None, 2, 2, 2048)   0           conv5_block2_out[0][0]           \n",
      "                                                                 conv5_block3_3_bn[0][0]          \n",
      "__________________________________________________________________________________________________\n",
      "conv5_block3_out (Activation)   (None, 2, 2, 2048)   0           conv5_block3_add[0][0]           \n",
      "==================================================================================================\n",
      "Total params: 23,587,712\n",
      "Trainable params: 23,534,592\n",
      "Non-trainable params: 53,120\n",
      "__________________________________________________________________________________________________\n"
     ]
    }
   ],
   "source": [
    "resnet.summary()"
   ]
  },
  {
   "cell_type": "code",
   "execution_count": 17,
   "metadata": {
    "id": "ue8M-y5ogkCR"
   },
   "outputs": [],
   "source": [
    "resnet.trainable = False"
   ]
  },
  {
   "cell_type": "code",
   "execution_count": 18,
   "metadata": {
    "colab": {
     "base_uri": "https://localhost:8080/"
    },
    "id": "VRcu4i9jgw5L",
    "outputId": "9d2dd671-a030-4c94-9a22-65ca356ba1e7"
   },
   "outputs": [
    {
     "name": "stdout",
     "output_type": "stream",
     "text": [
      "Model: \"resnet50\"\n",
      "__________________________________________________________________________________________________\n",
      "Layer (type)                    Output Shape         Param #     Connected to                     \n",
      "==================================================================================================\n",
      "input_1 (InputLayer)            [(None, 64, 64, 3)]  0                                            \n",
      "__________________________________________________________________________________________________\n",
      "conv1_pad (ZeroPadding2D)       (None, 70, 70, 3)    0           input_1[0][0]                    \n",
      "__________________________________________________________________________________________________\n",
      "conv1_conv (Conv2D)             (None, 32, 32, 64)   9472        conv1_pad[0][0]                  \n",
      "__________________________________________________________________________________________________\n",
      "conv1_bn (BatchNormalization)   (None, 32, 32, 64)   256         conv1_conv[0][0]                 \n",
      "__________________________________________________________________________________________________\n",
      "conv1_relu (Activation)         (None, 32, 32, 64)   0           conv1_bn[0][0]                   \n",
      "__________________________________________________________________________________________________\n",
      "pool1_pad (ZeroPadding2D)       (None, 34, 34, 64)   0           conv1_relu[0][0]                 \n",
      "__________________________________________________________________________________________________\n",
      "pool1_pool (MaxPooling2D)       (None, 16, 16, 64)   0           pool1_pad[0][0]                  \n",
      "__________________________________________________________________________________________________\n",
      "conv2_block1_1_conv (Conv2D)    (None, 16, 16, 64)   4160        pool1_pool[0][0]                 \n",
      "__________________________________________________________________________________________________\n",
      "conv2_block1_1_bn (BatchNormali (None, 16, 16, 64)   256         conv2_block1_1_conv[0][0]        \n",
      "__________________________________________________________________________________________________\n",
      "conv2_block1_1_relu (Activation (None, 16, 16, 64)   0           conv2_block1_1_bn[0][0]          \n",
      "__________________________________________________________________________________________________\n",
      "conv2_block1_2_conv (Conv2D)    (None, 16, 16, 64)   36928       conv2_block1_1_relu[0][0]        \n",
      "__________________________________________________________________________________________________\n",
      "conv2_block1_2_bn (BatchNormali (None, 16, 16, 64)   256         conv2_block1_2_conv[0][0]        \n",
      "__________________________________________________________________________________________________\n",
      "conv2_block1_2_relu (Activation (None, 16, 16, 64)   0           conv2_block1_2_bn[0][0]          \n",
      "__________________________________________________________________________________________________\n",
      "conv2_block1_0_conv (Conv2D)    (None, 16, 16, 256)  16640       pool1_pool[0][0]                 \n",
      "__________________________________________________________________________________________________\n",
      "conv2_block1_3_conv (Conv2D)    (None, 16, 16, 256)  16640       conv2_block1_2_relu[0][0]        \n",
      "__________________________________________________________________________________________________\n",
      "conv2_block1_0_bn (BatchNormali (None, 16, 16, 256)  1024        conv2_block1_0_conv[0][0]        \n",
      "__________________________________________________________________________________________________\n",
      "conv2_block1_3_bn (BatchNormali (None, 16, 16, 256)  1024        conv2_block1_3_conv[0][0]        \n",
      "__________________________________________________________________________________________________\n",
      "conv2_block1_add (Add)          (None, 16, 16, 256)  0           conv2_block1_0_bn[0][0]          \n",
      "                                                                 conv2_block1_3_bn[0][0]          \n",
      "__________________________________________________________________________________________________\n",
      "conv2_block1_out (Activation)   (None, 16, 16, 256)  0           conv2_block1_add[0][0]           \n",
      "__________________________________________________________________________________________________\n",
      "conv2_block2_1_conv (Conv2D)    (None, 16, 16, 64)   16448       conv2_block1_out[0][0]           \n",
      "__________________________________________________________________________________________________\n",
      "conv2_block2_1_bn (BatchNormali (None, 16, 16, 64)   256         conv2_block2_1_conv[0][0]        \n",
      "__________________________________________________________________________________________________\n",
      "conv2_block2_1_relu (Activation (None, 16, 16, 64)   0           conv2_block2_1_bn[0][0]          \n",
      "__________________________________________________________________________________________________\n",
      "conv2_block2_2_conv (Conv2D)    (None, 16, 16, 64)   36928       conv2_block2_1_relu[0][0]        \n",
      "__________________________________________________________________________________________________\n",
      "conv2_block2_2_bn (BatchNormali (None, 16, 16, 64)   256         conv2_block2_2_conv[0][0]        \n",
      "__________________________________________________________________________________________________\n",
      "conv2_block2_2_relu (Activation (None, 16, 16, 64)   0           conv2_block2_2_bn[0][0]          \n",
      "__________________________________________________________________________________________________\n",
      "conv2_block2_3_conv (Conv2D)    (None, 16, 16, 256)  16640       conv2_block2_2_relu[0][0]        \n",
      "__________________________________________________________________________________________________\n",
      "conv2_block2_3_bn (BatchNormali (None, 16, 16, 256)  1024        conv2_block2_3_conv[0][0]        \n",
      "__________________________________________________________________________________________________\n",
      "conv2_block2_add (Add)          (None, 16, 16, 256)  0           conv2_block1_out[0][0]           \n",
      "                                                                 conv2_block2_3_bn[0][0]          \n",
      "__________________________________________________________________________________________________\n",
      "conv2_block2_out (Activation)   (None, 16, 16, 256)  0           conv2_block2_add[0][0]           \n",
      "__________________________________________________________________________________________________\n",
      "conv2_block3_1_conv (Conv2D)    (None, 16, 16, 64)   16448       conv2_block2_out[0][0]           \n",
      "__________________________________________________________________________________________________\n",
      "conv2_block3_1_bn (BatchNormali (None, 16, 16, 64)   256         conv2_block3_1_conv[0][0]        \n",
      "__________________________________________________________________________________________________\n",
      "conv2_block3_1_relu (Activation (None, 16, 16, 64)   0           conv2_block3_1_bn[0][0]          \n",
      "__________________________________________________________________________________________________\n",
      "conv2_block3_2_conv (Conv2D)    (None, 16, 16, 64)   36928       conv2_block3_1_relu[0][0]        \n",
      "__________________________________________________________________________________________________\n",
      "conv2_block3_2_bn (BatchNormali (None, 16, 16, 64)   256         conv2_block3_2_conv[0][0]        \n",
      "__________________________________________________________________________________________________\n",
      "conv2_block3_2_relu (Activation (None, 16, 16, 64)   0           conv2_block3_2_bn[0][0]          \n",
      "__________________________________________________________________________________________________\n",
      "conv2_block3_3_conv (Conv2D)    (None, 16, 16, 256)  16640       conv2_block3_2_relu[0][0]        \n",
      "__________________________________________________________________________________________________\n",
      "conv2_block3_3_bn (BatchNormali (None, 16, 16, 256)  1024        conv2_block3_3_conv[0][0]        \n",
      "__________________________________________________________________________________________________\n",
      "conv2_block3_add (Add)          (None, 16, 16, 256)  0           conv2_block2_out[0][0]           \n",
      "                                                                 conv2_block3_3_bn[0][0]          \n",
      "__________________________________________________________________________________________________\n",
      "conv2_block3_out (Activation)   (None, 16, 16, 256)  0           conv2_block3_add[0][0]           \n",
      "__________________________________________________________________________________________________\n",
      "conv3_block1_1_conv (Conv2D)    (None, 8, 8, 128)    32896       conv2_block3_out[0][0]           \n",
      "__________________________________________________________________________________________________\n",
      "conv3_block1_1_bn (BatchNormali (None, 8, 8, 128)    512         conv3_block1_1_conv[0][0]        \n",
      "__________________________________________________________________________________________________\n",
      "conv3_block1_1_relu (Activation (None, 8, 8, 128)    0           conv3_block1_1_bn[0][0]          \n",
      "__________________________________________________________________________________________________\n",
      "conv3_block1_2_conv (Conv2D)    (None, 8, 8, 128)    147584      conv3_block1_1_relu[0][0]        \n",
      "__________________________________________________________________________________________________\n",
      "conv3_block1_2_bn (BatchNormali (None, 8, 8, 128)    512         conv3_block1_2_conv[0][0]        \n",
      "__________________________________________________________________________________________________\n",
      "conv3_block1_2_relu (Activation (None, 8, 8, 128)    0           conv3_block1_2_bn[0][0]          \n",
      "__________________________________________________________________________________________________\n",
      "conv3_block1_0_conv (Conv2D)    (None, 8, 8, 512)    131584      conv2_block3_out[0][0]           \n",
      "__________________________________________________________________________________________________\n",
      "conv3_block1_3_conv (Conv2D)    (None, 8, 8, 512)    66048       conv3_block1_2_relu[0][0]        \n",
      "__________________________________________________________________________________________________\n",
      "conv3_block1_0_bn (BatchNormali (None, 8, 8, 512)    2048        conv3_block1_0_conv[0][0]        \n",
      "__________________________________________________________________________________________________\n",
      "conv3_block1_3_bn (BatchNormali (None, 8, 8, 512)    2048        conv3_block1_3_conv[0][0]        \n",
      "__________________________________________________________________________________________________\n",
      "conv3_block1_add (Add)          (None, 8, 8, 512)    0           conv3_block1_0_bn[0][0]          \n",
      "                                                                 conv3_block1_3_bn[0][0]          \n",
      "__________________________________________________________________________________________________\n",
      "conv3_block1_out (Activation)   (None, 8, 8, 512)    0           conv3_block1_add[0][0]           \n",
      "__________________________________________________________________________________________________\n",
      "conv3_block2_1_conv (Conv2D)    (None, 8, 8, 128)    65664       conv3_block1_out[0][0]           \n",
      "__________________________________________________________________________________________________\n",
      "conv3_block2_1_bn (BatchNormali (None, 8, 8, 128)    512         conv3_block2_1_conv[0][0]        \n",
      "__________________________________________________________________________________________________\n",
      "conv3_block2_1_relu (Activation (None, 8, 8, 128)    0           conv3_block2_1_bn[0][0]          \n",
      "__________________________________________________________________________________________________\n",
      "conv3_block2_2_conv (Conv2D)    (None, 8, 8, 128)    147584      conv3_block2_1_relu[0][0]        \n",
      "__________________________________________________________________________________________________\n",
      "conv3_block2_2_bn (BatchNormali (None, 8, 8, 128)    512         conv3_block2_2_conv[0][0]        \n",
      "__________________________________________________________________________________________________\n",
      "conv3_block2_2_relu (Activation (None, 8, 8, 128)    0           conv3_block2_2_bn[0][0]          \n",
      "__________________________________________________________________________________________________\n",
      "conv3_block2_3_conv (Conv2D)    (None, 8, 8, 512)    66048       conv3_block2_2_relu[0][0]        \n",
      "__________________________________________________________________________________________________\n",
      "conv3_block2_3_bn (BatchNormali (None, 8, 8, 512)    2048        conv3_block2_3_conv[0][0]        \n",
      "__________________________________________________________________________________________________\n",
      "conv3_block2_add (Add)          (None, 8, 8, 512)    0           conv3_block1_out[0][0]           \n",
      "                                                                 conv3_block2_3_bn[0][0]          \n",
      "__________________________________________________________________________________________________\n",
      "conv3_block2_out (Activation)   (None, 8, 8, 512)    0           conv3_block2_add[0][0]           \n",
      "__________________________________________________________________________________________________\n",
      "conv3_block3_1_conv (Conv2D)    (None, 8, 8, 128)    65664       conv3_block2_out[0][0]           \n",
      "__________________________________________________________________________________________________\n",
      "conv3_block3_1_bn (BatchNormali (None, 8, 8, 128)    512         conv3_block3_1_conv[0][0]        \n",
      "__________________________________________________________________________________________________\n",
      "conv3_block3_1_relu (Activation (None, 8, 8, 128)    0           conv3_block3_1_bn[0][0]          \n",
      "__________________________________________________________________________________________________\n",
      "conv3_block3_2_conv (Conv2D)    (None, 8, 8, 128)    147584      conv3_block3_1_relu[0][0]        \n",
      "__________________________________________________________________________________________________\n",
      "conv3_block3_2_bn (BatchNormali (None, 8, 8, 128)    512         conv3_block3_2_conv[0][0]        \n",
      "__________________________________________________________________________________________________\n",
      "conv3_block3_2_relu (Activation (None, 8, 8, 128)    0           conv3_block3_2_bn[0][0]          \n",
      "__________________________________________________________________________________________________\n",
      "conv3_block3_3_conv (Conv2D)    (None, 8, 8, 512)    66048       conv3_block3_2_relu[0][0]        \n",
      "__________________________________________________________________________________________________\n",
      "conv3_block3_3_bn (BatchNormali (None, 8, 8, 512)    2048        conv3_block3_3_conv[0][0]        \n",
      "__________________________________________________________________________________________________\n",
      "conv3_block3_add (Add)          (None, 8, 8, 512)    0           conv3_block2_out[0][0]           \n",
      "                                                                 conv3_block3_3_bn[0][0]          \n",
      "__________________________________________________________________________________________________\n",
      "conv3_block3_out (Activation)   (None, 8, 8, 512)    0           conv3_block3_add[0][0]           \n",
      "__________________________________________________________________________________________________\n",
      "conv3_block4_1_conv (Conv2D)    (None, 8, 8, 128)    65664       conv3_block3_out[0][0]           \n",
      "__________________________________________________________________________________________________\n",
      "conv3_block4_1_bn (BatchNormali (None, 8, 8, 128)    512         conv3_block4_1_conv[0][0]        \n",
      "__________________________________________________________________________________________________\n",
      "conv3_block4_1_relu (Activation (None, 8, 8, 128)    0           conv3_block4_1_bn[0][0]          \n",
      "__________________________________________________________________________________________________\n",
      "conv3_block4_2_conv (Conv2D)    (None, 8, 8, 128)    147584      conv3_block4_1_relu[0][0]        \n",
      "__________________________________________________________________________________________________\n",
      "conv3_block4_2_bn (BatchNormali (None, 8, 8, 128)    512         conv3_block4_2_conv[0][0]        \n",
      "__________________________________________________________________________________________________\n",
      "conv3_block4_2_relu (Activation (None, 8, 8, 128)    0           conv3_block4_2_bn[0][0]          \n",
      "__________________________________________________________________________________________________\n",
      "conv3_block4_3_conv (Conv2D)    (None, 8, 8, 512)    66048       conv3_block4_2_relu[0][0]        \n",
      "__________________________________________________________________________________________________\n",
      "conv3_block4_3_bn (BatchNormali (None, 8, 8, 512)    2048        conv3_block4_3_conv[0][0]        \n",
      "__________________________________________________________________________________________________\n",
      "conv3_block4_add (Add)          (None, 8, 8, 512)    0           conv3_block3_out[0][0]           \n",
      "                                                                 conv3_block4_3_bn[0][0]          \n",
      "__________________________________________________________________________________________________\n",
      "conv3_block4_out (Activation)   (None, 8, 8, 512)    0           conv3_block4_add[0][0]           \n",
      "__________________________________________________________________________________________________\n",
      "conv4_block1_1_conv (Conv2D)    (None, 4, 4, 256)    131328      conv3_block4_out[0][0]           \n",
      "__________________________________________________________________________________________________\n",
      "conv4_block1_1_bn (BatchNormali (None, 4, 4, 256)    1024        conv4_block1_1_conv[0][0]        \n",
      "__________________________________________________________________________________________________\n",
      "conv4_block1_1_relu (Activation (None, 4, 4, 256)    0           conv4_block1_1_bn[0][0]          \n",
      "__________________________________________________________________________________________________\n",
      "conv4_block1_2_conv (Conv2D)    (None, 4, 4, 256)    590080      conv4_block1_1_relu[0][0]        \n",
      "__________________________________________________________________________________________________\n",
      "conv4_block1_2_bn (BatchNormali (None, 4, 4, 256)    1024        conv4_block1_2_conv[0][0]        \n",
      "__________________________________________________________________________________________________\n",
      "conv4_block1_2_relu (Activation (None, 4, 4, 256)    0           conv4_block1_2_bn[0][0]          \n",
      "__________________________________________________________________________________________________\n",
      "conv4_block1_0_conv (Conv2D)    (None, 4, 4, 1024)   525312      conv3_block4_out[0][0]           \n",
      "__________________________________________________________________________________________________\n",
      "conv4_block1_3_conv (Conv2D)    (None, 4, 4, 1024)   263168      conv4_block1_2_relu[0][0]        \n",
      "__________________________________________________________________________________________________\n",
      "conv4_block1_0_bn (BatchNormali (None, 4, 4, 1024)   4096        conv4_block1_0_conv[0][0]        \n",
      "__________________________________________________________________________________________________\n",
      "conv4_block1_3_bn (BatchNormali (None, 4, 4, 1024)   4096        conv4_block1_3_conv[0][0]        \n",
      "__________________________________________________________________________________________________\n",
      "conv4_block1_add (Add)          (None, 4, 4, 1024)   0           conv4_block1_0_bn[0][0]          \n",
      "                                                                 conv4_block1_3_bn[0][0]          \n",
      "__________________________________________________________________________________________________\n",
      "conv4_block1_out (Activation)   (None, 4, 4, 1024)   0           conv4_block1_add[0][0]           \n",
      "__________________________________________________________________________________________________\n",
      "conv4_block2_1_conv (Conv2D)    (None, 4, 4, 256)    262400      conv4_block1_out[0][0]           \n",
      "__________________________________________________________________________________________________\n",
      "conv4_block2_1_bn (BatchNormali (None, 4, 4, 256)    1024        conv4_block2_1_conv[0][0]        \n",
      "__________________________________________________________________________________________________\n",
      "conv4_block2_1_relu (Activation (None, 4, 4, 256)    0           conv4_block2_1_bn[0][0]          \n",
      "__________________________________________________________________________________________________\n",
      "conv4_block2_2_conv (Conv2D)    (None, 4, 4, 256)    590080      conv4_block2_1_relu[0][0]        \n",
      "__________________________________________________________________________________________________\n",
      "conv4_block2_2_bn (BatchNormali (None, 4, 4, 256)    1024        conv4_block2_2_conv[0][0]        \n",
      "__________________________________________________________________________________________________\n",
      "conv4_block2_2_relu (Activation (None, 4, 4, 256)    0           conv4_block2_2_bn[0][0]          \n",
      "__________________________________________________________________________________________________\n",
      "conv4_block2_3_conv (Conv2D)    (None, 4, 4, 1024)   263168      conv4_block2_2_relu[0][0]        \n",
      "__________________________________________________________________________________________________\n",
      "conv4_block2_3_bn (BatchNormali (None, 4, 4, 1024)   4096        conv4_block2_3_conv[0][0]        \n",
      "__________________________________________________________________________________________________\n",
      "conv4_block2_add (Add)          (None, 4, 4, 1024)   0           conv4_block1_out[0][0]           \n",
      "                                                                 conv4_block2_3_bn[0][0]          \n",
      "__________________________________________________________________________________________________\n",
      "conv4_block2_out (Activation)   (None, 4, 4, 1024)   0           conv4_block2_add[0][0]           \n",
      "__________________________________________________________________________________________________\n",
      "conv4_block3_1_conv (Conv2D)    (None, 4, 4, 256)    262400      conv4_block2_out[0][0]           \n",
      "__________________________________________________________________________________________________\n",
      "conv4_block3_1_bn (BatchNormali (None, 4, 4, 256)    1024        conv4_block3_1_conv[0][0]        \n",
      "__________________________________________________________________________________________________\n",
      "conv4_block3_1_relu (Activation (None, 4, 4, 256)    0           conv4_block3_1_bn[0][0]          \n",
      "__________________________________________________________________________________________________\n",
      "conv4_block3_2_conv (Conv2D)    (None, 4, 4, 256)    590080      conv4_block3_1_relu[0][0]        \n",
      "__________________________________________________________________________________________________\n",
      "conv4_block3_2_bn (BatchNormali (None, 4, 4, 256)    1024        conv4_block3_2_conv[0][0]        \n",
      "__________________________________________________________________________________________________\n",
      "conv4_block3_2_relu (Activation (None, 4, 4, 256)    0           conv4_block3_2_bn[0][0]          \n",
      "__________________________________________________________________________________________________\n",
      "conv4_block3_3_conv (Conv2D)    (None, 4, 4, 1024)   263168      conv4_block3_2_relu[0][0]        \n",
      "__________________________________________________________________________________________________\n",
      "conv4_block3_3_bn (BatchNormali (None, 4, 4, 1024)   4096        conv4_block3_3_conv[0][0]        \n",
      "__________________________________________________________________________________________________\n",
      "conv4_block3_add (Add)          (None, 4, 4, 1024)   0           conv4_block2_out[0][0]           \n",
      "                                                                 conv4_block3_3_bn[0][0]          \n",
      "__________________________________________________________________________________________________\n",
      "conv4_block3_out (Activation)   (None, 4, 4, 1024)   0           conv4_block3_add[0][0]           \n",
      "__________________________________________________________________________________________________\n",
      "conv4_block4_1_conv (Conv2D)    (None, 4, 4, 256)    262400      conv4_block3_out[0][0]           \n",
      "__________________________________________________________________________________________________\n",
      "conv4_block4_1_bn (BatchNormali (None, 4, 4, 256)    1024        conv4_block4_1_conv[0][0]        \n",
      "__________________________________________________________________________________________________\n",
      "conv4_block4_1_relu (Activation (None, 4, 4, 256)    0           conv4_block4_1_bn[0][0]          \n",
      "__________________________________________________________________________________________________\n",
      "conv4_block4_2_conv (Conv2D)    (None, 4, 4, 256)    590080      conv4_block4_1_relu[0][0]        \n",
      "__________________________________________________________________________________________________\n",
      "conv4_block4_2_bn (BatchNormali (None, 4, 4, 256)    1024        conv4_block4_2_conv[0][0]        \n",
      "__________________________________________________________________________________________________\n",
      "conv4_block4_2_relu (Activation (None, 4, 4, 256)    0           conv4_block4_2_bn[0][0]          \n",
      "__________________________________________________________________________________________________\n",
      "conv4_block4_3_conv (Conv2D)    (None, 4, 4, 1024)   263168      conv4_block4_2_relu[0][0]        \n",
      "__________________________________________________________________________________________________\n",
      "conv4_block4_3_bn (BatchNormali (None, 4, 4, 1024)   4096        conv4_block4_3_conv[0][0]        \n",
      "__________________________________________________________________________________________________\n",
      "conv4_block4_add (Add)          (None, 4, 4, 1024)   0           conv4_block3_out[0][0]           \n",
      "                                                                 conv4_block4_3_bn[0][0]          \n",
      "__________________________________________________________________________________________________\n",
      "conv4_block4_out (Activation)   (None, 4, 4, 1024)   0           conv4_block4_add[0][0]           \n",
      "__________________________________________________________________________________________________\n",
      "conv4_block5_1_conv (Conv2D)    (None, 4, 4, 256)    262400      conv4_block4_out[0][0]           \n",
      "__________________________________________________________________________________________________\n",
      "conv4_block5_1_bn (BatchNormali (None, 4, 4, 256)    1024        conv4_block5_1_conv[0][0]        \n",
      "__________________________________________________________________________________________________\n",
      "conv4_block5_1_relu (Activation (None, 4, 4, 256)    0           conv4_block5_1_bn[0][0]          \n",
      "__________________________________________________________________________________________________\n",
      "conv4_block5_2_conv (Conv2D)    (None, 4, 4, 256)    590080      conv4_block5_1_relu[0][0]        \n",
      "__________________________________________________________________________________________________\n",
      "conv4_block5_2_bn (BatchNormali (None, 4, 4, 256)    1024        conv4_block5_2_conv[0][0]        \n",
      "__________________________________________________________________________________________________\n",
      "conv4_block5_2_relu (Activation (None, 4, 4, 256)    0           conv4_block5_2_bn[0][0]          \n",
      "__________________________________________________________________________________________________\n",
      "conv4_block5_3_conv (Conv2D)    (None, 4, 4, 1024)   263168      conv4_block5_2_relu[0][0]        \n",
      "__________________________________________________________________________________________________\n",
      "conv4_block5_3_bn (BatchNormali (None, 4, 4, 1024)   4096        conv4_block5_3_conv[0][0]        \n",
      "__________________________________________________________________________________________________\n",
      "conv4_block5_add (Add)          (None, 4, 4, 1024)   0           conv4_block4_out[0][0]           \n",
      "                                                                 conv4_block5_3_bn[0][0]          \n",
      "__________________________________________________________________________________________________\n",
      "conv4_block5_out (Activation)   (None, 4, 4, 1024)   0           conv4_block5_add[0][0]           \n",
      "__________________________________________________________________________________________________\n",
      "conv4_block6_1_conv (Conv2D)    (None, 4, 4, 256)    262400      conv4_block5_out[0][0]           \n",
      "__________________________________________________________________________________________________\n",
      "conv4_block6_1_bn (BatchNormali (None, 4, 4, 256)    1024        conv4_block6_1_conv[0][0]        \n",
      "__________________________________________________________________________________________________\n",
      "conv4_block6_1_relu (Activation (None, 4, 4, 256)    0           conv4_block6_1_bn[0][0]          \n",
      "__________________________________________________________________________________________________\n",
      "conv4_block6_2_conv (Conv2D)    (None, 4, 4, 256)    590080      conv4_block6_1_relu[0][0]        \n",
      "__________________________________________________________________________________________________\n",
      "conv4_block6_2_bn (BatchNormali (None, 4, 4, 256)    1024        conv4_block6_2_conv[0][0]        \n",
      "__________________________________________________________________________________________________\n",
      "conv4_block6_2_relu (Activation (None, 4, 4, 256)    0           conv4_block6_2_bn[0][0]          \n",
      "__________________________________________________________________________________________________\n",
      "conv4_block6_3_conv (Conv2D)    (None, 4, 4, 1024)   263168      conv4_block6_2_relu[0][0]        \n",
      "__________________________________________________________________________________________________\n",
      "conv4_block6_3_bn (BatchNormali (None, 4, 4, 1024)   4096        conv4_block6_3_conv[0][0]        \n",
      "__________________________________________________________________________________________________\n",
      "conv4_block6_add (Add)          (None, 4, 4, 1024)   0           conv4_block5_out[0][0]           \n",
      "                                                                 conv4_block6_3_bn[0][0]          \n",
      "__________________________________________________________________________________________________\n",
      "conv4_block6_out (Activation)   (None, 4, 4, 1024)   0           conv4_block6_add[0][0]           \n",
      "__________________________________________________________________________________________________\n",
      "conv5_block1_1_conv (Conv2D)    (None, 2, 2, 512)    524800      conv4_block6_out[0][0]           \n",
      "__________________________________________________________________________________________________\n",
      "conv5_block1_1_bn (BatchNormali (None, 2, 2, 512)    2048        conv5_block1_1_conv[0][0]        \n",
      "__________________________________________________________________________________________________\n",
      "conv5_block1_1_relu (Activation (None, 2, 2, 512)    0           conv5_block1_1_bn[0][0]          \n",
      "__________________________________________________________________________________________________\n",
      "conv5_block1_2_conv (Conv2D)    (None, 2, 2, 512)    2359808     conv5_block1_1_relu[0][0]        \n",
      "__________________________________________________________________________________________________\n",
      "conv5_block1_2_bn (BatchNormali (None, 2, 2, 512)    2048        conv5_block1_2_conv[0][0]        \n",
      "__________________________________________________________________________________________________\n",
      "conv5_block1_2_relu (Activation (None, 2, 2, 512)    0           conv5_block1_2_bn[0][0]          \n",
      "__________________________________________________________________________________________________\n",
      "conv5_block1_0_conv (Conv2D)    (None, 2, 2, 2048)   2099200     conv4_block6_out[0][0]           \n",
      "__________________________________________________________________________________________________\n",
      "conv5_block1_3_conv (Conv2D)    (None, 2, 2, 2048)   1050624     conv5_block1_2_relu[0][0]        \n",
      "__________________________________________________________________________________________________\n",
      "conv5_block1_0_bn (BatchNormali (None, 2, 2, 2048)   8192        conv5_block1_0_conv[0][0]        \n",
      "__________________________________________________________________________________________________\n",
      "conv5_block1_3_bn (BatchNormali (None, 2, 2, 2048)   8192        conv5_block1_3_conv[0][0]        \n",
      "__________________________________________________________________________________________________\n",
      "conv5_block1_add (Add)          (None, 2, 2, 2048)   0           conv5_block1_0_bn[0][0]          \n",
      "                                                                 conv5_block1_3_bn[0][0]          \n",
      "__________________________________________________________________________________________________\n",
      "conv5_block1_out (Activation)   (None, 2, 2, 2048)   0           conv5_block1_add[0][0]           \n",
      "__________________________________________________________________________________________________\n",
      "conv5_block2_1_conv (Conv2D)    (None, 2, 2, 512)    1049088     conv5_block1_out[0][0]           \n",
      "__________________________________________________________________________________________________\n",
      "conv5_block2_1_bn (BatchNormali (None, 2, 2, 512)    2048        conv5_block2_1_conv[0][0]        \n",
      "__________________________________________________________________________________________________\n",
      "conv5_block2_1_relu (Activation (None, 2, 2, 512)    0           conv5_block2_1_bn[0][0]          \n",
      "__________________________________________________________________________________________________\n",
      "conv5_block2_2_conv (Conv2D)    (None, 2, 2, 512)    2359808     conv5_block2_1_relu[0][0]        \n",
      "__________________________________________________________________________________________________\n",
      "conv5_block2_2_bn (BatchNormali (None, 2, 2, 512)    2048        conv5_block2_2_conv[0][0]        \n",
      "__________________________________________________________________________________________________\n",
      "conv5_block2_2_relu (Activation (None, 2, 2, 512)    0           conv5_block2_2_bn[0][0]          \n",
      "__________________________________________________________________________________________________\n",
      "conv5_block2_3_conv (Conv2D)    (None, 2, 2, 2048)   1050624     conv5_block2_2_relu[0][0]        \n",
      "__________________________________________________________________________________________________\n",
      "conv5_block2_3_bn (BatchNormali (None, 2, 2, 2048)   8192        conv5_block2_3_conv[0][0]        \n",
      "__________________________________________________________________________________________________\n",
      "conv5_block2_add (Add)          (None, 2, 2, 2048)   0           conv5_block1_out[0][0]           \n",
      "                                                                 conv5_block2_3_bn[0][0]          \n",
      "__________________________________________________________________________________________________\n",
      "conv5_block2_out (Activation)   (None, 2, 2, 2048)   0           conv5_block2_add[0][0]           \n",
      "__________________________________________________________________________________________________\n",
      "conv5_block3_1_conv (Conv2D)    (None, 2, 2, 512)    1049088     conv5_block2_out[0][0]           \n",
      "__________________________________________________________________________________________________\n",
      "conv5_block3_1_bn (BatchNormali (None, 2, 2, 512)    2048        conv5_block3_1_conv[0][0]        \n",
      "__________________________________________________________________________________________________\n",
      "conv5_block3_1_relu (Activation (None, 2, 2, 512)    0           conv5_block3_1_bn[0][0]          \n",
      "__________________________________________________________________________________________________\n",
      "conv5_block3_2_conv (Conv2D)    (None, 2, 2, 512)    2359808     conv5_block3_1_relu[0][0]        \n",
      "__________________________________________________________________________________________________\n",
      "conv5_block3_2_bn (BatchNormali (None, 2, 2, 512)    2048        conv5_block3_2_conv[0][0]        \n",
      "__________________________________________________________________________________________________\n",
      "conv5_block3_2_relu (Activation (None, 2, 2, 512)    0           conv5_block3_2_bn[0][0]          \n",
      "__________________________________________________________________________________________________\n",
      "conv5_block3_3_conv (Conv2D)    (None, 2, 2, 2048)   1050624     conv5_block3_2_relu[0][0]        \n",
      "__________________________________________________________________________________________________\n",
      "conv5_block3_3_bn (BatchNormali (None, 2, 2, 2048)   8192        conv5_block3_3_conv[0][0]        \n",
      "__________________________________________________________________________________________________\n",
      "conv5_block3_add (Add)          (None, 2, 2, 2048)   0           conv5_block2_out[0][0]           \n",
      "                                                                 conv5_block3_3_bn[0][0]          \n",
      "__________________________________________________________________________________________________\n",
      "conv5_block3_out (Activation)   (None, 2, 2, 2048)   0           conv5_block3_add[0][0]           \n",
      "==================================================================================================\n",
      "Total params: 23,587,712\n",
      "Trainable params: 0\n",
      "Non-trainable params: 23,587,712\n",
      "__________________________________________________________________________________________________\n"
     ]
    }
   ],
   "source": [
    "resnet.summary()"
   ]
  },
  {
   "cell_type": "code",
   "execution_count": 42,
   "metadata": {
    "id": "cD6yDfqlhLUc"
   },
   "outputs": [],
   "source": [
    "model = Sequential([\n",
    "                    resnet,\n",
    "                    Flatten(),\n",
    "                    Dense(512, activation=tf.nn.relu),\n",
    "                    Dense(256, activation=tf.nn.relu),\n",
    "                    Dense(10, activation=tf.nn.softmax)\n",
    "], name='Sign_Digits')"
   ]
  },
  {
   "cell_type": "code",
   "execution_count": 43,
   "metadata": {
    "colab": {
     "base_uri": "https://localhost:8080/"
    },
    "id": "wLcRM011iEKE",
    "outputId": "4869b4b9-c929-4330-a5ba-3583f669cfae"
   },
   "outputs": [
    {
     "name": "stdout",
     "output_type": "stream",
     "text": [
      "Model: \"Sign_Digits\"\n",
      "_________________________________________________________________\n",
      "Layer (type)                 Output Shape              Param #   \n",
      "=================================================================\n",
      "resnet50 (Functional)        (None, 2, 2, 2048)        23587712  \n",
      "_________________________________________________________________\n",
      "flatten_2 (Flatten)          (None, 8192)              0         \n",
      "_________________________________________________________________\n",
      "dense_6 (Dense)              (None, 512)               4194816   \n",
      "_________________________________________________________________\n",
      "dense_7 (Dense)              (None, 256)               131328    \n",
      "_________________________________________________________________\n",
      "dense_8 (Dense)              (None, 10)                2570      \n",
      "=================================================================\n",
      "Total params: 27,916,426\n",
      "Trainable params: 14,318,858\n",
      "Non-trainable params: 13,597,568\n",
      "_________________________________________________________________\n"
     ]
    }
   ],
   "source": [
    "model.summary()"
   ]
  },
  {
   "cell_type": "code",
   "execution_count": 45,
   "metadata": {
    "id": "XmfKonV3iIWg"
   },
   "outputs": [],
   "source": [
    "base_learning_rate = 0.0005\n",
    "model.compile(optimizer=tf.keras.optimizers.Adam(lr=base_learning_rate),\n",
    "              loss=tf.keras.losses.categorical_crossentropy,\n",
    "              metrics=['accuracy'])"
   ]
  },
  {
   "cell_type": "code",
   "execution_count": 46,
   "metadata": {
    "colab": {
     "base_uri": "https://localhost:8080/"
    },
    "id": "OiQF2wLcidUV",
    "outputId": "634f35d4-dc3b-4f53-c771-7437d80e4bee"
   },
   "outputs": [
    {
     "name": "stdout",
     "output_type": "stream",
     "text": [
      "Epoch 1/150\n",
      "51/51 [==============================] - 7s 77ms/step - loss: 2.1318 - accuracy: 0.3282 - val_loss: 1.6684 - val_accuracy: 0.4504\n",
      "Epoch 2/150\n",
      "51/51 [==============================] - 3s 59ms/step - loss: 1.2178 - accuracy: 0.5724 - val_loss: 3.7633 - val_accuracy: 0.3148\n",
      "Epoch 3/150\n",
      "51/51 [==============================] - 3s 59ms/step - loss: 1.1890 - accuracy: 0.5812 - val_loss: 1.4767 - val_accuracy: 0.5593\n",
      "Epoch 4/150\n",
      "51/51 [==============================] - 3s 59ms/step - loss: 1.0663 - accuracy: 0.6166 - val_loss: 1.3646 - val_accuracy: 0.5545\n",
      "Epoch 5/150\n",
      "51/51 [==============================] - 3s 57ms/step - loss: 1.0716 - accuracy: 0.6278 - val_loss: 1.2901 - val_accuracy: 0.5811\n",
      "Epoch 6/150\n",
      "51/51 [==============================] - 3s 58ms/step - loss: 0.9163 - accuracy: 0.6771 - val_loss: 0.8581 - val_accuracy: 0.6852\n",
      "Epoch 7/150\n",
      "51/51 [==============================] - 3s 59ms/step - loss: 0.9163 - accuracy: 0.6757 - val_loss: 1.1174 - val_accuracy: 0.6368\n",
      "Epoch 8/150\n",
      "51/51 [==============================] - 3s 59ms/step - loss: 0.8746 - accuracy: 0.7023 - val_loss: 0.9368 - val_accuracy: 0.6901\n",
      "Epoch 9/150\n",
      "51/51 [==============================] - 3s 59ms/step - loss: 0.9063 - accuracy: 0.6810 - val_loss: 0.9656 - val_accuracy: 0.6513\n",
      "Epoch 10/150\n",
      "51/51 [==============================] - 3s 59ms/step - loss: 0.9092 - accuracy: 0.6972 - val_loss: 0.8976 - val_accuracy: 0.7022\n",
      "Epoch 11/150\n",
      "51/51 [==============================] - 3s 60ms/step - loss: 0.7607 - accuracy: 0.7378 - val_loss: 0.9099 - val_accuracy: 0.6538\n",
      "Epoch 12/150\n",
      "51/51 [==============================] - 3s 59ms/step - loss: 0.8689 - accuracy: 0.7017 - val_loss: 0.8933 - val_accuracy: 0.6973\n",
      "Epoch 13/150\n",
      "51/51 [==============================] - 3s 59ms/step - loss: 0.8219 - accuracy: 0.7252 - val_loss: 0.7931 - val_accuracy: 0.7530\n",
      "Epoch 14/150\n",
      "51/51 [==============================] - 3s 58ms/step - loss: 0.7990 - accuracy: 0.7195 - val_loss: 0.8563 - val_accuracy: 0.7094\n",
      "Epoch 15/150\n",
      "51/51 [==============================] - 3s 58ms/step - loss: 0.7860 - accuracy: 0.7491 - val_loss: 0.8107 - val_accuracy: 0.7191\n",
      "Epoch 16/150\n",
      "51/51 [==============================] - 3s 58ms/step - loss: 0.7792 - accuracy: 0.7325 - val_loss: 0.7945 - val_accuracy: 0.7506\n",
      "Epoch 17/150\n",
      "51/51 [==============================] - 3s 58ms/step - loss: 0.6951 - accuracy: 0.7733 - val_loss: 0.6975 - val_accuracy: 0.7579\n",
      "Epoch 18/150\n",
      "51/51 [==============================] - 3s 59ms/step - loss: 0.7798 - accuracy: 0.7160 - val_loss: 0.7243 - val_accuracy: 0.7603\n",
      "Epoch 19/150\n",
      "51/51 [==============================] - 3s 59ms/step - loss: 0.6304 - accuracy: 0.7824 - val_loss: 0.6761 - val_accuracy: 0.7893\n",
      "Epoch 20/150\n",
      "51/51 [==============================] - 3s 59ms/step - loss: 0.6724 - accuracy: 0.7601 - val_loss: 0.7968 - val_accuracy: 0.7167\n",
      "Epoch 21/150\n",
      "51/51 [==============================] - 3s 59ms/step - loss: 0.6744 - accuracy: 0.7718 - val_loss: 0.7318 - val_accuracy: 0.7627\n",
      "Epoch 22/150\n",
      "51/51 [==============================] - 3s 59ms/step - loss: 0.6908 - accuracy: 0.7688 - val_loss: 0.7786 - val_accuracy: 0.7312\n",
      "Epoch 23/150\n",
      "51/51 [==============================] - 3s 59ms/step - loss: 0.6557 - accuracy: 0.7785 - val_loss: 0.6590 - val_accuracy: 0.7748\n",
      "Epoch 24/150\n",
      "51/51 [==============================] - 3s 59ms/step - loss: 0.6330 - accuracy: 0.7847 - val_loss: 0.7159 - val_accuracy: 0.7700\n",
      "Epoch 25/150\n",
      "51/51 [==============================] - 3s 59ms/step - loss: 0.6304 - accuracy: 0.7806 - val_loss: 0.6835 - val_accuracy: 0.7651\n",
      "Epoch 26/150\n",
      "51/51 [==============================] - 3s 60ms/step - loss: 0.6507 - accuracy: 0.7803 - val_loss: 0.7353 - val_accuracy: 0.7506\n",
      "Epoch 27/150\n",
      "51/51 [==============================] - 3s 58ms/step - loss: 0.6102 - accuracy: 0.7983 - val_loss: 0.5406 - val_accuracy: 0.8136\n",
      "Epoch 28/150\n",
      "51/51 [==============================] - 3s 59ms/step - loss: 0.6061 - accuracy: 0.7805 - val_loss: 0.6870 - val_accuracy: 0.7845\n",
      "Epoch 29/150\n",
      "51/51 [==============================] - 3s 58ms/step - loss: 0.5970 - accuracy: 0.7844 - val_loss: 0.7761 - val_accuracy: 0.7530\n",
      "Epoch 30/150\n",
      "51/51 [==============================] - 3s 58ms/step - loss: 0.6236 - accuracy: 0.7953 - val_loss: 0.7275 - val_accuracy: 0.7337\n",
      "Epoch 31/150\n",
      "51/51 [==============================] - 3s 59ms/step - loss: 0.5759 - accuracy: 0.7946 - val_loss: 0.6752 - val_accuracy: 0.7772\n",
      "Epoch 32/150\n",
      "51/51 [==============================] - 3s 58ms/step - loss: 0.6278 - accuracy: 0.7836 - val_loss: 0.6625 - val_accuracy: 0.7918\n",
      "Epoch 33/150\n",
      "51/51 [==============================] - 3s 59ms/step - loss: 0.5772 - accuracy: 0.7995 - val_loss: 0.6115 - val_accuracy: 0.7893\n",
      "Epoch 34/150\n",
      "51/51 [==============================] - 3s 58ms/step - loss: 0.5272 - accuracy: 0.8054 - val_loss: 0.6369 - val_accuracy: 0.7990\n",
      "Epoch 35/150\n",
      "51/51 [==============================] - 3s 59ms/step - loss: 0.5367 - accuracy: 0.8107 - val_loss: 0.5904 - val_accuracy: 0.8039\n",
      "Epoch 36/150\n",
      "51/51 [==============================] - 3s 59ms/step - loss: 0.6456 - accuracy: 0.7822 - val_loss: 0.5857 - val_accuracy: 0.8184\n",
      "Epoch 37/150\n",
      "51/51 [==============================] - 3s 59ms/step - loss: 0.5495 - accuracy: 0.8069 - val_loss: 0.5909 - val_accuracy: 0.7942\n",
      "Epoch 38/150\n",
      "51/51 [==============================] - 3s 59ms/step - loss: 0.5529 - accuracy: 0.8075 - val_loss: 0.6697 - val_accuracy: 0.7700\n",
      "Epoch 39/150\n",
      "51/51 [==============================] - 3s 59ms/step - loss: 0.5505 - accuracy: 0.8141 - val_loss: 0.5093 - val_accuracy: 0.8378\n",
      "Epoch 40/150\n",
      "51/51 [==============================] - 3s 60ms/step - loss: 0.5259 - accuracy: 0.8179 - val_loss: 0.5554 - val_accuracy: 0.8184\n",
      "Epoch 41/150\n",
      "51/51 [==============================] - 3s 59ms/step - loss: 0.6078 - accuracy: 0.7885 - val_loss: 0.6077 - val_accuracy: 0.7990\n",
      "Epoch 42/150\n",
      "51/51 [==============================] - 3s 60ms/step - loss: 0.5290 - accuracy: 0.8075 - val_loss: 0.6018 - val_accuracy: 0.7893\n",
      "Epoch 43/150\n",
      "51/51 [==============================] - 3s 59ms/step - loss: 0.5202 - accuracy: 0.8275 - val_loss: 0.5661 - val_accuracy: 0.8354\n",
      "Epoch 44/150\n",
      "51/51 [==============================] - 3s 60ms/step - loss: 0.5314 - accuracy: 0.8272 - val_loss: 0.5263 - val_accuracy: 0.8136\n",
      "Epoch 45/150\n",
      "51/51 [==============================] - 3s 58ms/step - loss: 0.5497 - accuracy: 0.7993 - val_loss: 0.6191 - val_accuracy: 0.8087\n",
      "Epoch 46/150\n",
      "51/51 [==============================] - 3s 59ms/step - loss: 0.5558 - accuracy: 0.8167 - val_loss: 0.5641 - val_accuracy: 0.8184\n",
      "Epoch 47/150\n",
      "51/51 [==============================] - 3s 59ms/step - loss: 0.5133 - accuracy: 0.8178 - val_loss: 0.5493 - val_accuracy: 0.8257\n",
      "Epoch 48/150\n",
      "51/51 [==============================] - 3s 59ms/step - loss: 0.5254 - accuracy: 0.8183 - val_loss: 0.5355 - val_accuracy: 0.8257\n",
      "Epoch 49/150\n",
      "51/51 [==============================] - 3s 58ms/step - loss: 0.4936 - accuracy: 0.8416 - val_loss: 0.5088 - val_accuracy: 0.8378\n",
      "Epoch 50/150\n",
      "51/51 [==============================] - 3s 58ms/step - loss: 0.5035 - accuracy: 0.8317 - val_loss: 0.5929 - val_accuracy: 0.8087\n",
      "Epoch 51/150\n",
      "51/51 [==============================] - 3s 58ms/step - loss: 0.4857 - accuracy: 0.8338 - val_loss: 0.5521 - val_accuracy: 0.8160\n",
      "Epoch 52/150\n",
      "51/51 [==============================] - 3s 58ms/step - loss: 0.4939 - accuracy: 0.8452 - val_loss: 0.4933 - val_accuracy: 0.8571\n",
      "Epoch 53/150\n",
      "51/51 [==============================] - 3s 59ms/step - loss: 0.4687 - accuracy: 0.8429 - val_loss: 0.5452 - val_accuracy: 0.8039\n",
      "Epoch 54/150\n",
      "51/51 [==============================] - 3s 59ms/step - loss: 0.5126 - accuracy: 0.8286 - val_loss: 0.5472 - val_accuracy: 0.8136\n",
      "Epoch 55/150\n",
      "51/51 [==============================] - 3s 61ms/step - loss: 0.4460 - accuracy: 0.8510 - val_loss: 0.5452 - val_accuracy: 0.8232\n",
      "Epoch 56/150\n",
      "51/51 [==============================] - 3s 59ms/step - loss: 0.4588 - accuracy: 0.8306 - val_loss: 0.4825 - val_accuracy: 0.8547\n",
      "Epoch 57/150\n",
      "51/51 [==============================] - 3s 60ms/step - loss: 0.4843 - accuracy: 0.8477 - val_loss: 0.5268 - val_accuracy: 0.8354\n",
      "Epoch 58/150\n",
      "51/51 [==============================] - 3s 61ms/step - loss: 0.4941 - accuracy: 0.8283 - val_loss: 0.5912 - val_accuracy: 0.7893\n",
      "Epoch 59/150\n",
      "51/51 [==============================] - 3s 59ms/step - loss: 0.4859 - accuracy: 0.8287 - val_loss: 0.5018 - val_accuracy: 0.8232\n",
      "Epoch 60/150\n",
      "51/51 [==============================] - 3s 58ms/step - loss: 0.4160 - accuracy: 0.8505 - val_loss: 0.5968 - val_accuracy: 0.8232\n",
      "Epoch 61/150\n",
      "51/51 [==============================] - 3s 59ms/step - loss: 0.4412 - accuracy: 0.8468 - val_loss: 0.5508 - val_accuracy: 0.8184\n",
      "Epoch 62/150\n",
      "51/51 [==============================] - 3s 59ms/step - loss: 0.4803 - accuracy: 0.8408 - val_loss: 0.4761 - val_accuracy: 0.8475\n",
      "Epoch 63/150\n",
      "51/51 [==============================] - 3s 59ms/step - loss: 0.4489 - accuracy: 0.8432 - val_loss: 0.5498 - val_accuracy: 0.8208\n",
      "Epoch 64/150\n",
      "51/51 [==============================] - 3s 61ms/step - loss: 0.4396 - accuracy: 0.8551 - val_loss: 0.5460 - val_accuracy: 0.8208\n",
      "Epoch 65/150\n",
      "51/51 [==============================] - 3s 60ms/step - loss: 0.4269 - accuracy: 0.8411 - val_loss: 0.4988 - val_accuracy: 0.8668\n",
      "Epoch 66/150\n",
      "51/51 [==============================] - 3s 60ms/step - loss: 0.4199 - accuracy: 0.8557 - val_loss: 0.5301 - val_accuracy: 0.8475\n",
      "Epoch 67/150\n",
      "51/51 [==============================] - 3s 59ms/step - loss: 0.4797 - accuracy: 0.8304 - val_loss: 0.4499 - val_accuracy: 0.8620\n",
      "Epoch 68/150\n",
      "51/51 [==============================] - 3s 59ms/step - loss: 0.4185 - accuracy: 0.8545 - val_loss: 0.5366 - val_accuracy: 0.8329\n",
      "Epoch 69/150\n",
      "51/51 [==============================] - 3s 59ms/step - loss: 0.3950 - accuracy: 0.8674 - val_loss: 0.5024 - val_accuracy: 0.8402\n",
      "Epoch 70/150\n",
      "51/51 [==============================] - 3s 59ms/step - loss: 0.4377 - accuracy: 0.8527 - val_loss: 0.4906 - val_accuracy: 0.8426\n",
      "Epoch 71/150\n",
      "51/51 [==============================] - 3s 59ms/step - loss: 0.4279 - accuracy: 0.8445 - val_loss: 0.5215 - val_accuracy: 0.8499\n",
      "Epoch 72/150\n",
      "51/51 [==============================] - 3s 61ms/step - loss: 0.4098 - accuracy: 0.8671 - val_loss: 0.5280 - val_accuracy: 0.8354\n",
      "Epoch 73/150\n",
      "51/51 [==============================] - 3s 59ms/step - loss: 0.4004 - accuracy: 0.8612 - val_loss: 0.4579 - val_accuracy: 0.8475\n",
      "Epoch 74/150\n",
      "51/51 [==============================] - 3s 59ms/step - loss: 0.4404 - accuracy: 0.8351 - val_loss: 0.5548 - val_accuracy: 0.8499\n",
      "Epoch 75/150\n",
      "51/51 [==============================] - 3s 60ms/step - loss: 0.4144 - accuracy: 0.8498 - val_loss: 0.5437 - val_accuracy: 0.8378\n",
      "Epoch 76/150\n",
      "51/51 [==============================] - 3s 60ms/step - loss: 0.4217 - accuracy: 0.8493 - val_loss: 0.4944 - val_accuracy: 0.8354\n",
      "Epoch 77/150\n",
      "51/51 [==============================] - 3s 58ms/step - loss: 0.4166 - accuracy: 0.8567 - val_loss: 0.4528 - val_accuracy: 0.8402\n",
      "Epoch 78/150\n",
      "51/51 [==============================] - 3s 58ms/step - loss: 0.4427 - accuracy: 0.8447 - val_loss: 0.5534 - val_accuracy: 0.8257\n",
      "Epoch 79/150\n",
      "51/51 [==============================] - 3s 58ms/step - loss: 0.3805 - accuracy: 0.8746 - val_loss: 0.5518 - val_accuracy: 0.8329\n",
      "Epoch 80/150\n",
      "51/51 [==============================] - 3s 59ms/step - loss: 0.4430 - accuracy: 0.8521 - val_loss: 0.4643 - val_accuracy: 0.8596\n",
      "Epoch 81/150\n",
      "51/51 [==============================] - 3s 58ms/step - loss: 0.4120 - accuracy: 0.8577 - val_loss: 0.4415 - val_accuracy: 0.8571\n",
      "Epoch 82/150\n",
      "51/51 [==============================] - 3s 58ms/step - loss: 0.3485 - accuracy: 0.8807 - val_loss: 0.4734 - val_accuracy: 0.8668\n",
      "Epoch 83/150\n",
      "51/51 [==============================] - 3s 58ms/step - loss: 0.4086 - accuracy: 0.8504 - val_loss: 0.4032 - val_accuracy: 0.8741\n",
      "Epoch 84/150\n",
      "51/51 [==============================] - 3s 58ms/step - loss: 0.4171 - accuracy: 0.8572 - val_loss: 0.4663 - val_accuracy: 0.8620\n",
      "Epoch 85/150\n",
      "51/51 [==============================] - 3s 58ms/step - loss: 0.4243 - accuracy: 0.8522 - val_loss: 0.5352 - val_accuracy: 0.8329\n",
      "Epoch 86/150\n",
      "51/51 [==============================] - 3s 58ms/step - loss: 0.3916 - accuracy: 0.8793 - val_loss: 0.5298 - val_accuracy: 0.8402\n",
      "Epoch 87/150\n",
      "51/51 [==============================] - 3s 59ms/step - loss: 0.3919 - accuracy: 0.8661 - val_loss: 0.5120 - val_accuracy: 0.8499\n",
      "Epoch 88/150\n",
      "51/51 [==============================] - 3s 58ms/step - loss: 0.3226 - accuracy: 0.8900 - val_loss: 0.4396 - val_accuracy: 0.8571\n",
      "Epoch 89/150\n",
      "51/51 [==============================] - 3s 58ms/step - loss: 0.3796 - accuracy: 0.8660 - val_loss: 0.5058 - val_accuracy: 0.8475\n",
      "Epoch 90/150\n",
      "51/51 [==============================] - 3s 59ms/step - loss: 0.4232 - accuracy: 0.8741 - val_loss: 0.5390 - val_accuracy: 0.8329\n",
      "Epoch 91/150\n",
      "51/51 [==============================] - 3s 58ms/step - loss: 0.3547 - accuracy: 0.8731 - val_loss: 0.4645 - val_accuracy: 0.8596\n",
      "Epoch 92/150\n",
      "51/51 [==============================] - 3s 58ms/step - loss: 0.3714 - accuracy: 0.8777 - val_loss: 0.4929 - val_accuracy: 0.8450\n",
      "Epoch 93/150\n",
      "51/51 [==============================] - 3s 58ms/step - loss: 0.3585 - accuracy: 0.8774 - val_loss: 0.4985 - val_accuracy: 0.8547\n",
      "Epoch 94/150\n",
      "51/51 [==============================] - 3s 58ms/step - loss: 0.3735 - accuracy: 0.8684 - val_loss: 0.4783 - val_accuracy: 0.8475\n",
      "Epoch 95/150\n",
      "51/51 [==============================] - 3s 58ms/step - loss: 0.3933 - accuracy: 0.8615 - val_loss: 0.5012 - val_accuracy: 0.8523\n",
      "Epoch 96/150\n",
      "51/51 [==============================] - 3s 58ms/step - loss: 0.4025 - accuracy: 0.8660 - val_loss: 0.4902 - val_accuracy: 0.8426\n",
      "Epoch 97/150\n",
      "51/51 [==============================] - 3s 58ms/step - loss: 0.4235 - accuracy: 0.8498 - val_loss: 0.5620 - val_accuracy: 0.8354\n",
      "Epoch 98/150\n",
      "51/51 [==============================] - 3s 58ms/step - loss: 0.4083 - accuracy: 0.8629 - val_loss: 0.4870 - val_accuracy: 0.8668\n",
      "Epoch 99/150\n",
      "51/51 [==============================] - 3s 58ms/step - loss: 0.3435 - accuracy: 0.8718 - val_loss: 0.4435 - val_accuracy: 0.8644\n",
      "Epoch 100/150\n",
      "51/51 [==============================] - 3s 58ms/step - loss: 0.3759 - accuracy: 0.8782 - val_loss: 0.5622 - val_accuracy: 0.8378\n",
      "Epoch 101/150\n",
      "51/51 [==============================] - 3s 57ms/step - loss: 0.4095 - accuracy: 0.8612 - val_loss: 0.4802 - val_accuracy: 0.8596\n",
      "Epoch 102/150\n",
      "51/51 [==============================] - 3s 58ms/step - loss: 0.3853 - accuracy: 0.8697 - val_loss: 0.4803 - val_accuracy: 0.8499\n",
      "Epoch 103/150\n",
      "51/51 [==============================] - 3s 57ms/step - loss: 0.3402 - accuracy: 0.8906 - val_loss: 0.4632 - val_accuracy: 0.8741\n",
      "Epoch 104/150\n",
      "51/51 [==============================] - 3s 58ms/step - loss: 0.3397 - accuracy: 0.8807 - val_loss: 0.5431 - val_accuracy: 0.8378\n",
      "Epoch 105/150\n",
      "51/51 [==============================] - 3s 58ms/step - loss: 0.3586 - accuracy: 0.8703 - val_loss: 0.4630 - val_accuracy: 0.8499\n",
      "Epoch 106/150\n",
      "51/51 [==============================] - 3s 58ms/step - loss: 0.3306 - accuracy: 0.9010 - val_loss: 0.4679 - val_accuracy: 0.8571\n",
      "Epoch 107/150\n",
      "51/51 [==============================] - 3s 60ms/step - loss: 0.4311 - accuracy: 0.8496 - val_loss: 0.5051 - val_accuracy: 0.8329\n",
      "Epoch 108/150\n",
      "51/51 [==============================] - 3s 58ms/step - loss: 0.3919 - accuracy: 0.8674 - val_loss: 0.5423 - val_accuracy: 0.8402\n",
      "Epoch 109/150\n",
      "51/51 [==============================] - 3s 58ms/step - loss: 0.3235 - accuracy: 0.8831 - val_loss: 0.4806 - val_accuracy: 0.8620\n",
      "Epoch 110/150\n",
      "51/51 [==============================] - 3s 58ms/step - loss: 0.3547 - accuracy: 0.8826 - val_loss: 0.4810 - val_accuracy: 0.8571\n",
      "Epoch 111/150\n",
      "51/51 [==============================] - 3s 57ms/step - loss: 0.3267 - accuracy: 0.8922 - val_loss: 0.4807 - val_accuracy: 0.8596\n",
      "Epoch 112/150\n",
      "51/51 [==============================] - 3s 58ms/step - loss: 0.3579 - accuracy: 0.8751 - val_loss: 0.4916 - val_accuracy: 0.8547\n",
      "Epoch 113/150\n",
      "51/51 [==============================] - 3s 58ms/step - loss: 0.3362 - accuracy: 0.8860 - val_loss: 0.4720 - val_accuracy: 0.8523\n",
      "Epoch 114/150\n",
      "51/51 [==============================] - 3s 58ms/step - loss: 0.3475 - accuracy: 0.8690 - val_loss: 0.5296 - val_accuracy: 0.8354\n",
      "Epoch 115/150\n",
      "51/51 [==============================] - 3s 58ms/step - loss: 0.2765 - accuracy: 0.9091 - val_loss: 0.4637 - val_accuracy: 0.8692\n",
      "Epoch 116/150\n",
      "51/51 [==============================] - 3s 58ms/step - loss: 0.3251 - accuracy: 0.8886 - val_loss: 0.4626 - val_accuracy: 0.8596\n",
      "Epoch 117/150\n",
      "51/51 [==============================] - 3s 59ms/step - loss: 0.3650 - accuracy: 0.8821 - val_loss: 0.3901 - val_accuracy: 0.8692\n",
      "Epoch 118/150\n",
      "51/51 [==============================] - 3s 59ms/step - loss: 0.2962 - accuracy: 0.9035 - val_loss: 0.5344 - val_accuracy: 0.8257\n",
      "Epoch 119/150\n",
      "51/51 [==============================] - 3s 59ms/step - loss: 0.3495 - accuracy: 0.8781 - val_loss: 0.4583 - val_accuracy: 0.8717\n",
      "Epoch 120/150\n",
      "51/51 [==============================] - 3s 60ms/step - loss: 0.3697 - accuracy: 0.8777 - val_loss: 0.4643 - val_accuracy: 0.8644\n",
      "Epoch 121/150\n",
      "51/51 [==============================] - 3s 58ms/step - loss: 0.2982 - accuracy: 0.9109 - val_loss: 0.5036 - val_accuracy: 0.8571\n",
      "Epoch 122/150\n",
      "51/51 [==============================] - 3s 58ms/step - loss: 0.2961 - accuracy: 0.8976 - val_loss: 0.5155 - val_accuracy: 0.8596\n",
      "Epoch 123/150\n",
      "51/51 [==============================] - 3s 58ms/step - loss: 0.3363 - accuracy: 0.8860 - val_loss: 0.4370 - val_accuracy: 0.8571\n",
      "Epoch 124/150\n",
      "51/51 [==============================] - 3s 57ms/step - loss: 0.2803 - accuracy: 0.9017 - val_loss: 0.4474 - val_accuracy: 0.8571\n",
      "Epoch 125/150\n",
      "51/51 [==============================] - 3s 58ms/step - loss: 0.3354 - accuracy: 0.8852 - val_loss: 0.4683 - val_accuracy: 0.8668\n",
      "Epoch 126/150\n",
      "51/51 [==============================] - 3s 58ms/step - loss: 0.3161 - accuracy: 0.8957 - val_loss: 0.4475 - val_accuracy: 0.8668\n",
      "Epoch 127/150\n",
      "51/51 [==============================] - 3s 58ms/step - loss: 0.3065 - accuracy: 0.9005 - val_loss: 0.4104 - val_accuracy: 0.8765\n",
      "Epoch 128/150\n",
      "51/51 [==============================] - 3s 58ms/step - loss: 0.3163 - accuracy: 0.8890 - val_loss: 0.4440 - val_accuracy: 0.8620\n",
      "Epoch 129/150\n",
      "51/51 [==============================] - 3s 58ms/step - loss: 0.3601 - accuracy: 0.8694 - val_loss: 0.4876 - val_accuracy: 0.8547\n",
      "Epoch 130/150\n",
      "51/51 [==============================] - 3s 57ms/step - loss: 0.3294 - accuracy: 0.8821 - val_loss: 0.4965 - val_accuracy: 0.8547\n",
      "Epoch 131/150\n",
      "51/51 [==============================] - 3s 59ms/step - loss: 0.3091 - accuracy: 0.8932 - val_loss: 0.4210 - val_accuracy: 0.8886\n",
      "Epoch 132/150\n",
      "51/51 [==============================] - 3s 58ms/step - loss: 0.3350 - accuracy: 0.8869 - val_loss: 0.4844 - val_accuracy: 0.8523\n",
      "Epoch 133/150\n",
      "51/51 [==============================] - 3s 58ms/step - loss: 0.3749 - accuracy: 0.8715 - val_loss: 0.4151 - val_accuracy: 0.8717\n",
      "Epoch 134/150\n",
      "51/51 [==============================] - 3s 57ms/step - loss: 0.3257 - accuracy: 0.8736 - val_loss: 0.3845 - val_accuracy: 0.8935\n",
      "Epoch 135/150\n",
      "51/51 [==============================] - 3s 58ms/step - loss: 0.3048 - accuracy: 0.9021 - val_loss: 0.4627 - val_accuracy: 0.8644\n",
      "Epoch 136/150\n",
      "51/51 [==============================] - 3s 58ms/step - loss: 0.3286 - accuracy: 0.8772 - val_loss: 0.4808 - val_accuracy: 0.8692\n",
      "Epoch 137/150\n",
      "51/51 [==============================] - 3s 58ms/step - loss: 0.2989 - accuracy: 0.8976 - val_loss: 0.4430 - val_accuracy: 0.8717\n",
      "Epoch 138/150\n",
      "51/51 [==============================] - 3s 57ms/step - loss: 0.3445 - accuracy: 0.8904 - val_loss: 0.4481 - val_accuracy: 0.8765\n",
      "Epoch 139/150\n",
      "51/51 [==============================] - 3s 58ms/step - loss: 0.3231 - accuracy: 0.8924 - val_loss: 0.4682 - val_accuracy: 0.8886\n",
      "Epoch 140/150\n",
      "51/51 [==============================] - 3s 59ms/step - loss: 0.2944 - accuracy: 0.9014 - val_loss: 0.4791 - val_accuracy: 0.8838\n",
      "Epoch 141/150\n",
      "51/51 [==============================] - 3s 58ms/step - loss: 0.3158 - accuracy: 0.8902 - val_loss: 0.4333 - val_accuracy: 0.8789\n",
      "Epoch 142/150\n",
      "51/51 [==============================] - 3s 60ms/step - loss: 0.3219 - accuracy: 0.8946 - val_loss: 0.3834 - val_accuracy: 0.8935\n",
      "Epoch 143/150\n",
      "51/51 [==============================] - 3s 58ms/step - loss: 0.3178 - accuracy: 0.8894 - val_loss: 0.4128 - val_accuracy: 0.8741\n",
      "Epoch 144/150\n",
      "51/51 [==============================] - 3s 59ms/step - loss: 0.3099 - accuracy: 0.8896 - val_loss: 0.4409 - val_accuracy: 0.8644\n",
      "Epoch 145/150\n",
      "51/51 [==============================] - 3s 58ms/step - loss: 0.3020 - accuracy: 0.9037 - val_loss: 0.4900 - val_accuracy: 0.8547\n",
      "Epoch 146/150\n",
      "51/51 [==============================] - 3s 59ms/step - loss: 0.2859 - accuracy: 0.9032 - val_loss: 0.4063 - val_accuracy: 0.8789\n",
      "Epoch 147/150\n",
      "51/51 [==============================] - 3s 58ms/step - loss: 0.2447 - accuracy: 0.9121 - val_loss: 0.3728 - val_accuracy: 0.8838\n",
      "Epoch 148/150\n",
      "51/51 [==============================] - 3s 58ms/step - loss: 0.2300 - accuracy: 0.9250 - val_loss: 0.4559 - val_accuracy: 0.8644\n",
      "Epoch 149/150\n",
      "51/51 [==============================] - 3s 58ms/step - loss: 0.3125 - accuracy: 0.8885 - val_loss: 0.4036 - val_accuracy: 0.8668\n",
      "Epoch 150/150\n",
      "51/51 [==============================] - 3s 58ms/step - loss: 0.2987 - accuracy: 0.8961 - val_loss: 0.3478 - val_accuracy: 0.8910\n"
     ]
    }
   ],
   "source": [
    "train_gen = datagen.flow(rgb_train, y_train)\n",
    "test_gen = datagen.flow(rgb_test, y_test)\n",
    "initial_epochs = 150\n",
    "\n",
    "history = model.fit(\n",
    "    train_gen,\n",
    "    steps_per_epoch=len(rgb_train)/32,\n",
    "    epochs=initial_epochs,\n",
    "    validation_data=test_gen\n",
    ")"
   ]
  },
  {
   "cell_type": "code",
   "execution_count": 47,
   "metadata": {
    "colab": {
     "base_uri": "https://localhost:8080/",
     "height": 298
    },
    "id": "3RhnvUCyAOgs",
    "outputId": "fca08fc1-2e6a-4548-8f90-c5d3f144d987"
   },
   "outputs": [
    {
     "data": {
      "text/plain": [
       "<matplotlib.legend.Legend at 0x7f3b9c5c66d0>"
      ]
     },
     "execution_count": 47,
     "metadata": {
      "tags": []
     },
     "output_type": "execute_result"
    },
    {
     "data": {
      "image/png": "[encoded data removed]",
      "text/plain": [
       "<Figure size 432x288 with 2 Axes>"
      ]
     },
     "metadata": {
      "needs_background": "light",
      "tags": []
     },
     "output_type": "display_data"
    }
   ],
   "source": [
    "loss = history.history['loss']\n",
    "acc = history.history['accuracy']\n",
    "val_loss = history.history['val_loss']\n",
    "val_acc = history.history['val_accuracy']\n",
    "epochs = range(1,initial_epochs+1)\n",
    "\n",
    "fig, ax = plt.subplots(2,1, sharex=True)\n",
    "\n",
    "ax[0].plot(epochs, loss, label='Training')\n",
    "ax[0].plot(epochs, val_loss, label='Validation')\n",
    "ax[0].set_ylabel('Loss')\n",
    "ax[0].legend()\n",
    "\n",
    "ax[1].plot(epochs, acc, label='Training')\n",
    "ax[1].plot(epochs, val_acc, label='Validation')\n",
    "ax[1].set_ylabel('Accuracy')\n",
    "ax[1].set_xlabel('Epochs')\n",
    "ax[1].legend()"
   ]
  },
  {
   "cell_type": "code",
   "execution_count": 48,
   "metadata": {
    "id": "8wjayGHOp0_L"
   },
   "outputs": [],
   "source": [
    "model.save('hand_digits.h5')"
   ]
  },
  {
   "cell_type": "code",
   "execution_count": 50,
   "metadata": {
    "colab": {
     "base_uri": "https://localhost:8080/"
    },
    "id": "kReQlfHEr6Xz",
    "outputId": "c8be5201-eba0-4e4c-f884-d4263ccf8eb0"
   },
   "outputs": [
    {
     "name": "stdout",
     "output_type": "stream",
     "text": [
      "Number of layers: 175\n"
     ]
    }
   ],
   "source": [
    "print(f'Number of layers: {len(resnet.layers)}')\n",
    "resnet.trainable = True\n",
    "fine_tune_at = 155\n",
    "\n",
    "for layer in resnet.layers[:fine_tune_at]:\n",
    "  layer.trainable = False"
   ]
  },
  {
   "cell_type": "code",
   "execution_count": 51,
   "metadata": {
    "id": "uJjQqxMcsa0j"
   },
   "outputs": [],
   "source": [
    "# base_learning_rate = 0.0005\n",
    "model.compile(optimizer=tf.keras.optimizers.Adam(lr=base_learning_rate/30),\n",
    "              loss=tf.keras.losses.categorical_crossentropy,\n",
    "              metrics=['accuracy'])"
   ]
  },
  {
   "cell_type": "code",
   "execution_count": 52,
   "metadata": {
    "colab": {
     "base_uri": "https://localhost:8080/"
    },
    "id": "puAwyPSDAdGC",
    "outputId": "83c1fa62-8315-4185-c68d-4432a39e9bf5"
   },
   "outputs": [
    {
     "name": "stdout",
     "output_type": "stream",
     "text": [
      "Model: \"Sign_Digits\"\n",
      "_________________________________________________________________\n",
      "Layer (type)                 Output Shape              Param #   \n",
      "=================================================================\n",
      "resnet50 (Functional)        (None, 2, 2, 2048)        23587712  \n",
      "_________________________________________________________________\n",
      "flatten_2 (Flatten)          (None, 8192)              0         \n",
      "_________________________________________________________________\n",
      "dense_6 (Dense)              (None, 512)               4194816   \n",
      "_________________________________________________________________\n",
      "dense_7 (Dense)              (None, 256)               131328    \n",
      "_________________________________________________________________\n",
      "dense_8 (Dense)              (None, 10)                2570      \n",
      "=================================================================\n",
      "Total params: 27,916,426\n",
      "Trainable params: 13,260,042\n",
      "Non-trainable params: 14,656,384\n",
      "_________________________________________________________________\n"
     ]
    }
   ],
   "source": [
    "model.summary()"
   ]
  },
  {
   "cell_type": "code",
   "execution_count": 53,
   "metadata": {
    "colab": {
     "base_uri": "https://localhost:8080/"
    },
    "id": "xB1n-aL9AyuX",
    "outputId": "8c573164-68b5-4a26-c1af-c974adb8e418"
   },
   "outputs": [
    {
     "data": {
      "text/plain": [
       "30"
      ]
     },
     "execution_count": 53,
     "metadata": {
      "tags": []
     },
     "output_type": "execute_result"
    }
   ],
   "source": [
    "len(model.trainable_variables)"
   ]
  },
  {
   "cell_type": "code",
   "execution_count": 54,
   "metadata": {
    "colab": {
     "base_uri": "https://localhost:8080/"
    },
    "id": "tIDeMKacBM88",
    "outputId": "93d40fb7-620c-46c3-fb14-2f22e2d449ce"
   },
   "outputs": [
    {
     "name": "stdout",
     "output_type": "stream",
     "text": [
      "Epoch 151/300\n",
      "52/52 [==============================] - 7s 74ms/step - loss: 0.2559 - accuracy: 0.9138 - val_loss: 0.4044 - val_accuracy: 0.8862\n",
      "Epoch 152/300\n",
      "52/52 [==============================] - 3s 57ms/step - loss: 0.1913 - accuracy: 0.9368 - val_loss: 0.3357 - val_accuracy: 0.8935\n",
      "Epoch 153/300\n",
      "52/52 [==============================] - 3s 57ms/step - loss: 0.2139 - accuracy: 0.9318 - val_loss: 0.3820 - val_accuracy: 0.8814\n",
      "Epoch 154/300\n",
      "52/52 [==============================] - 3s 57ms/step - loss: 0.2354 - accuracy: 0.9218 - val_loss: 0.4290 - val_accuracy: 0.8838\n",
      "Epoch 155/300\n",
      "52/52 [==============================] - 3s 56ms/step - loss: 0.1945 - accuracy: 0.9358 - val_loss: 0.3494 - val_accuracy: 0.9080\n",
      "Epoch 156/300\n",
      "52/52 [==============================] - 3s 56ms/step - loss: 0.2158 - accuracy: 0.9173 - val_loss: 0.3722 - val_accuracy: 0.8765\n",
      "Epoch 157/300\n",
      "52/52 [==============================] - 3s 56ms/step - loss: 0.2123 - accuracy: 0.9222 - val_loss: 0.3787 - val_accuracy: 0.8741\n",
      "Epoch 158/300\n",
      "52/52 [==============================] - 3s 56ms/step - loss: 0.1959 - accuracy: 0.9328 - val_loss: 0.3565 - val_accuracy: 0.8935\n",
      "Epoch 159/300\n",
      "52/52 [==============================] - 3s 56ms/step - loss: 0.1859 - accuracy: 0.9392 - val_loss: 0.3789 - val_accuracy: 0.8910\n",
      "Epoch 160/300\n",
      "52/52 [==============================] - 3s 57ms/step - loss: 0.2233 - accuracy: 0.9256 - val_loss: 0.3754 - val_accuracy: 0.9007\n",
      "Epoch 161/300\n",
      "52/52 [==============================] - 3s 57ms/step - loss: 0.2022 - accuracy: 0.9297 - val_loss: 0.4123 - val_accuracy: 0.8838\n",
      "Epoch 162/300\n",
      "52/52 [==============================] - 3s 57ms/step - loss: 0.2049 - accuracy: 0.9256 - val_loss: 0.4155 - val_accuracy: 0.8765\n",
      "Epoch 163/300\n",
      "52/52 [==============================] - 3s 58ms/step - loss: 0.2148 - accuracy: 0.9276 - val_loss: 0.3662 - val_accuracy: 0.8959\n",
      "Epoch 164/300\n",
      "52/52 [==============================] - 3s 56ms/step - loss: 0.2117 - accuracy: 0.9306 - val_loss: 0.3866 - val_accuracy: 0.8886\n",
      "Epoch 165/300\n",
      "52/52 [==============================] - 3s 57ms/step - loss: 0.2077 - accuracy: 0.9349 - val_loss: 0.3808 - val_accuracy: 0.8935\n",
      "Epoch 166/300\n",
      "52/52 [==============================] - 3s 56ms/step - loss: 0.1959 - accuracy: 0.9337 - val_loss: 0.3805 - val_accuracy: 0.9104\n",
      "Epoch 167/300\n",
      "52/52 [==============================] - 3s 57ms/step - loss: 0.1896 - accuracy: 0.9411 - val_loss: 0.3866 - val_accuracy: 0.8983\n",
      "Epoch 168/300\n",
      "52/52 [==============================] - 3s 56ms/step - loss: 0.2033 - accuracy: 0.9285 - val_loss: 0.3943 - val_accuracy: 0.8862\n",
      "Epoch 169/300\n",
      "52/52 [==============================] - 3s 57ms/step - loss: 0.2051 - accuracy: 0.9284 - val_loss: 0.3417 - val_accuracy: 0.9128\n",
      "Epoch 170/300\n",
      "52/52 [==============================] - 3s 57ms/step - loss: 0.1749 - accuracy: 0.9414 - val_loss: 0.3328 - val_accuracy: 0.9153\n",
      "Epoch 171/300\n",
      "52/52 [==============================] - 3s 57ms/step - loss: 0.2285 - accuracy: 0.9222 - val_loss: 0.3731 - val_accuracy: 0.8765\n",
      "Epoch 172/300\n",
      "52/52 [==============================] - 3s 57ms/step - loss: 0.1906 - accuracy: 0.9412 - val_loss: 0.3689 - val_accuracy: 0.9007\n",
      "Epoch 173/300\n",
      "52/52 [==============================] - 3s 56ms/step - loss: 0.1836 - accuracy: 0.9405 - val_loss: 0.3932 - val_accuracy: 0.8959\n",
      "Epoch 174/300\n",
      "52/52 [==============================] - 3s 57ms/step - loss: 0.1681 - accuracy: 0.9445 - val_loss: 0.3656 - val_accuracy: 0.8959\n",
      "Epoch 175/300\n",
      "52/52 [==============================] - 3s 56ms/step - loss: 0.2158 - accuracy: 0.9312 - val_loss: 0.3901 - val_accuracy: 0.8983\n",
      "Epoch 176/300\n",
      "52/52 [==============================] - 3s 56ms/step - loss: 0.2169 - accuracy: 0.9244 - val_loss: 0.4192 - val_accuracy: 0.8862\n",
      "Epoch 177/300\n",
      "52/52 [==============================] - 3s 56ms/step - loss: 0.1819 - accuracy: 0.9430 - val_loss: 0.3279 - val_accuracy: 0.9153\n",
      "Epoch 178/300\n",
      "52/52 [==============================] - 3s 56ms/step - loss: 0.1873 - accuracy: 0.9453 - val_loss: 0.3864 - val_accuracy: 0.9031\n",
      "Epoch 179/300\n",
      "52/52 [==============================] - 3s 56ms/step - loss: 0.1608 - accuracy: 0.9457 - val_loss: 0.3384 - val_accuracy: 0.9201\n",
      "Epoch 180/300\n",
      "52/52 [==============================] - 3s 57ms/step - loss: 0.2244 - accuracy: 0.9173 - val_loss: 0.3909 - val_accuracy: 0.8983\n",
      "Epoch 181/300\n",
      "52/52 [==============================] - 3s 57ms/step - loss: 0.2317 - accuracy: 0.9143 - val_loss: 0.3898 - val_accuracy: 0.9080\n",
      "Epoch 182/300\n",
      "52/52 [==============================] - 3s 56ms/step - loss: 0.1777 - accuracy: 0.9343 - val_loss: 0.3191 - val_accuracy: 0.9201\n",
      "Epoch 183/300\n",
      "52/52 [==============================] - 3s 56ms/step - loss: 0.1758 - accuracy: 0.9376 - val_loss: 0.4145 - val_accuracy: 0.9056\n",
      "Epoch 184/300\n",
      "52/52 [==============================] - 3s 56ms/step - loss: 0.1701 - accuracy: 0.9513 - val_loss: 0.3428 - val_accuracy: 0.9080\n",
      "Epoch 185/300\n",
      "52/52 [==============================] - 3s 57ms/step - loss: 0.1420 - accuracy: 0.9611 - val_loss: 0.3744 - val_accuracy: 0.8959\n",
      "Epoch 186/300\n",
      "52/52 [==============================] - 3s 56ms/step - loss: 0.1901 - accuracy: 0.9305 - val_loss: 0.4063 - val_accuracy: 0.8935\n",
      "Epoch 187/300\n",
      "52/52 [==============================] - 3s 56ms/step - loss: 0.1632 - accuracy: 0.9464 - val_loss: 0.3717 - val_accuracy: 0.8983\n",
      "Epoch 188/300\n",
      "52/52 [==============================] - 3s 57ms/step - loss: 0.2245 - accuracy: 0.9242 - val_loss: 0.3815 - val_accuracy: 0.8910\n",
      "Epoch 189/300\n",
      "52/52 [==============================] - 3s 57ms/step - loss: 0.1674 - accuracy: 0.9395 - val_loss: 0.4046 - val_accuracy: 0.9104\n",
      "Epoch 190/300\n",
      "52/52 [==============================] - 3s 56ms/step - loss: 0.1969 - accuracy: 0.9402 - val_loss: 0.3960 - val_accuracy: 0.8838\n",
      "Epoch 191/300\n",
      "52/52 [==============================] - 3s 57ms/step - loss: 0.1522 - accuracy: 0.9532 - val_loss: 0.4117 - val_accuracy: 0.8983\n",
      "Epoch 192/300\n",
      "52/52 [==============================] - 3s 56ms/step - loss: 0.1523 - accuracy: 0.9490 - val_loss: 0.3796 - val_accuracy: 0.8983\n",
      "Epoch 193/300\n",
      "52/52 [==============================] - 3s 57ms/step - loss: 0.1360 - accuracy: 0.9599 - val_loss: 0.3408 - val_accuracy: 0.9056\n",
      "Epoch 194/300\n",
      "52/52 [==============================] - 3s 57ms/step - loss: 0.1738 - accuracy: 0.9383 - val_loss: 0.3588 - val_accuracy: 0.9080\n",
      "Epoch 195/300\n",
      "52/52 [==============================] - 3s 57ms/step - loss: 0.1849 - accuracy: 0.9372 - val_loss: 0.3972 - val_accuracy: 0.8983\n",
      "Epoch 196/300\n",
      "52/52 [==============================] - 3s 57ms/step - loss: 0.2049 - accuracy: 0.9340 - val_loss: 0.3564 - val_accuracy: 0.9031\n",
      "Epoch 197/300\n",
      "52/52 [==============================] - 3s 56ms/step - loss: 0.1741 - accuracy: 0.9428 - val_loss: 0.3349 - val_accuracy: 0.9007\n",
      "Epoch 198/300\n",
      "52/52 [==============================] - 3s 57ms/step - loss: 0.1692 - accuracy: 0.9404 - val_loss: 0.4142 - val_accuracy: 0.8935\n",
      "Epoch 199/300\n",
      "52/52 [==============================] - 3s 57ms/step - loss: 0.1619 - accuracy: 0.9475 - val_loss: 0.3875 - val_accuracy: 0.9128\n",
      "Epoch 200/300\n",
      "52/52 [==============================] - 3s 56ms/step - loss: 0.1856 - accuracy: 0.9347 - val_loss: 0.3253 - val_accuracy: 0.9225\n",
      "Epoch 201/300\n",
      "52/52 [==============================] - 3s 57ms/step - loss: 0.1790 - accuracy: 0.9388 - val_loss: 0.3836 - val_accuracy: 0.9104\n",
      "Epoch 202/300\n",
      "52/52 [==============================] - 3s 56ms/step - loss: 0.1632 - accuracy: 0.9536 - val_loss: 0.3742 - val_accuracy: 0.9104\n",
      "Epoch 203/300\n",
      "52/52 [==============================] - 3s 56ms/step - loss: 0.1322 - accuracy: 0.9544 - val_loss: 0.3988 - val_accuracy: 0.8862\n",
      "Epoch 204/300\n",
      "52/52 [==============================] - 3s 57ms/step - loss: 0.1469 - accuracy: 0.9480 - val_loss: 0.4149 - val_accuracy: 0.8983\n",
      "Epoch 205/300\n",
      "52/52 [==============================] - 3s 57ms/step - loss: 0.1759 - accuracy: 0.9442 - val_loss: 0.4052 - val_accuracy: 0.8862\n",
      "Epoch 206/300\n",
      "52/52 [==============================] - 3s 57ms/step - loss: 0.1959 - accuracy: 0.9364 - val_loss: 0.3790 - val_accuracy: 0.9128\n",
      "Epoch 207/300\n",
      "52/52 [==============================] - 3s 57ms/step - loss: 0.1579 - accuracy: 0.9481 - val_loss: 0.3090 - val_accuracy: 0.9128\n",
      "Epoch 208/300\n",
      "52/52 [==============================] - 3s 57ms/step - loss: 0.1555 - accuracy: 0.9418 - val_loss: 0.3028 - val_accuracy: 0.9249\n",
      "Epoch 209/300\n",
      "52/52 [==============================] - 3s 57ms/step - loss: 0.1750 - accuracy: 0.9454 - val_loss: 0.3714 - val_accuracy: 0.8862\n",
      "Epoch 210/300\n",
      "52/52 [==============================] - 3s 56ms/step - loss: 0.1830 - accuracy: 0.9433 - val_loss: 0.3787 - val_accuracy: 0.9031\n",
      "Epoch 211/300\n",
      "52/52 [==============================] - 3s 57ms/step - loss: 0.1646 - accuracy: 0.9435 - val_loss: 0.3378 - val_accuracy: 0.9128\n",
      "Epoch 212/300\n",
      "52/52 [==============================] - 3s 57ms/step - loss: 0.1665 - accuracy: 0.9500 - val_loss: 0.3315 - val_accuracy: 0.9225\n",
      "Epoch 213/300\n",
      "52/52 [==============================] - 3s 57ms/step - loss: 0.1800 - accuracy: 0.9422 - val_loss: 0.4164 - val_accuracy: 0.8935\n",
      "Epoch 214/300\n",
      "52/52 [==============================] - 3s 56ms/step - loss: 0.1749 - accuracy: 0.9394 - val_loss: 0.3609 - val_accuracy: 0.9080\n",
      "Epoch 215/300\n",
      "52/52 [==============================] - 3s 56ms/step - loss: 0.1688 - accuracy: 0.9410 - val_loss: 0.3721 - val_accuracy: 0.8935\n",
      "Epoch 216/300\n",
      "52/52 [==============================] - 3s 56ms/step - loss: 0.1859 - accuracy: 0.9351 - val_loss: 0.3243 - val_accuracy: 0.9274\n",
      "Epoch 217/300\n",
      "52/52 [==============================] - 3s 57ms/step - loss: 0.1493 - accuracy: 0.9556 - val_loss: 0.3881 - val_accuracy: 0.8862\n",
      "Epoch 218/300\n",
      "52/52 [==============================] - 3s 56ms/step - loss: 0.1970 - accuracy: 0.9368 - val_loss: 0.3652 - val_accuracy: 0.8983\n",
      "Epoch 219/300\n",
      "52/52 [==============================] - 3s 57ms/step - loss: 0.1750 - accuracy: 0.9415 - val_loss: 0.4049 - val_accuracy: 0.9007\n",
      "Epoch 220/300\n",
      "52/52 [==============================] - 3s 56ms/step - loss: 0.1817 - accuracy: 0.9437 - val_loss: 0.3622 - val_accuracy: 0.9056\n",
      "Epoch 221/300\n",
      "52/52 [==============================] - 3s 57ms/step - loss: 0.1536 - accuracy: 0.9497 - val_loss: 0.4230 - val_accuracy: 0.9007\n",
      "Epoch 222/300\n",
      "52/52 [==============================] - 3s 57ms/step - loss: 0.1877 - accuracy: 0.9345 - val_loss: 0.3127 - val_accuracy: 0.9249\n",
      "Epoch 223/300\n",
      "52/52 [==============================] - 3s 57ms/step - loss: 0.1666 - accuracy: 0.9502 - val_loss: 0.3667 - val_accuracy: 0.9104\n",
      "Epoch 224/300\n",
      "52/52 [==============================] - 3s 58ms/step - loss: 0.1468 - accuracy: 0.9492 - val_loss: 0.3565 - val_accuracy: 0.9128\n",
      "Epoch 225/300\n",
      "52/52 [==============================] - 3s 57ms/step - loss: 0.1743 - accuracy: 0.9427 - val_loss: 0.4030 - val_accuracy: 0.9031\n",
      "Epoch 226/300\n",
      "52/52 [==============================] - 3s 57ms/step - loss: 0.1707 - accuracy: 0.9363 - val_loss: 0.3862 - val_accuracy: 0.8959\n",
      "Epoch 227/300\n",
      "52/52 [==============================] - 3s 57ms/step - loss: 0.1800 - accuracy: 0.9394 - val_loss: 0.3315 - val_accuracy: 0.9153\n",
      "Epoch 228/300\n",
      "52/52 [==============================] - 3s 56ms/step - loss: 0.1720 - accuracy: 0.9492 - val_loss: 0.4018 - val_accuracy: 0.8862\n",
      "Epoch 229/300\n",
      "52/52 [==============================] - 3s 57ms/step - loss: 0.1746 - accuracy: 0.9350 - val_loss: 0.3599 - val_accuracy: 0.8983\n",
      "Epoch 230/300\n",
      "52/52 [==============================] - 3s 57ms/step - loss: 0.1607 - accuracy: 0.9388 - val_loss: 0.4312 - val_accuracy: 0.9007\n",
      "Epoch 231/300\n",
      "52/52 [==============================] - 3s 57ms/step - loss: 0.1872 - accuracy: 0.9337 - val_loss: 0.3506 - val_accuracy: 0.9153\n",
      "Epoch 232/300\n",
      "52/52 [==============================] - 3s 57ms/step - loss: 0.1801 - accuracy: 0.9345 - val_loss: 0.3904 - val_accuracy: 0.8935\n",
      "Epoch 233/300\n",
      "52/52 [==============================] - 3s 56ms/step - loss: 0.1595 - accuracy: 0.9441 - val_loss: 0.3788 - val_accuracy: 0.9128\n",
      "Epoch 234/300\n",
      "52/52 [==============================] - 3s 56ms/step - loss: 0.1435 - accuracy: 0.9481 - val_loss: 0.3761 - val_accuracy: 0.8886\n",
      "Epoch 235/300\n",
      "52/52 [==============================] - 3s 56ms/step - loss: 0.1660 - accuracy: 0.9389 - val_loss: 0.3779 - val_accuracy: 0.8983\n",
      "Epoch 236/300\n",
      "52/52 [==============================] - 3s 57ms/step - loss: 0.1700 - accuracy: 0.9427 - val_loss: 0.3662 - val_accuracy: 0.8959\n",
      "Epoch 237/300\n",
      "52/52 [==============================] - 3s 57ms/step - loss: 0.1553 - accuracy: 0.9473 - val_loss: 0.4230 - val_accuracy: 0.8862\n",
      "Epoch 238/300\n",
      "52/52 [==============================] - 3s 57ms/step - loss: 0.1686 - accuracy: 0.9465 - val_loss: 0.3523 - val_accuracy: 0.9104\n",
      "Epoch 239/300\n",
      "52/52 [==============================] - 3s 57ms/step - loss: 0.1359 - accuracy: 0.9508 - val_loss: 0.3150 - val_accuracy: 0.9153\n",
      "Epoch 240/300\n",
      "52/52 [==============================] - 3s 56ms/step - loss: 0.1857 - accuracy: 0.9385 - val_loss: 0.4293 - val_accuracy: 0.8886\n",
      "Epoch 241/300\n",
      "52/52 [==============================] - 3s 57ms/step - loss: 0.1735 - accuracy: 0.9424 - val_loss: 0.3216 - val_accuracy: 0.9274\n",
      "Epoch 242/300\n",
      "52/52 [==============================] - 3s 57ms/step - loss: 0.1533 - accuracy: 0.9492 - val_loss: 0.3619 - val_accuracy: 0.9128\n",
      "Epoch 243/300\n",
      "52/52 [==============================] - 3s 57ms/step - loss: 0.1508 - accuracy: 0.9442 - val_loss: 0.3304 - val_accuracy: 0.9080\n",
      "Epoch 244/300\n",
      "52/52 [==============================] - 3s 56ms/step - loss: 0.1503 - accuracy: 0.9537 - val_loss: 0.3565 - val_accuracy: 0.9056\n",
      "Epoch 245/300\n",
      "52/52 [==============================] - 3s 57ms/step - loss: 0.1310 - accuracy: 0.9596 - val_loss: 0.3424 - val_accuracy: 0.9056\n",
      "Epoch 246/300\n",
      "52/52 [==============================] - 3s 57ms/step - loss: 0.1701 - accuracy: 0.9413 - val_loss: 0.3659 - val_accuracy: 0.9031\n",
      "Epoch 247/300\n",
      "52/52 [==============================] - 3s 57ms/step - loss: 0.1911 - accuracy: 0.9276 - val_loss: 0.3264 - val_accuracy: 0.9128\n",
      "Epoch 248/300\n",
      "52/52 [==============================] - 3s 57ms/step - loss: 0.1474 - accuracy: 0.9451 - val_loss: 0.3905 - val_accuracy: 0.9104\n",
      "Epoch 249/300\n",
      "52/52 [==============================] - 3s 57ms/step - loss: 0.1544 - accuracy: 0.9484 - val_loss: 0.4400 - val_accuracy: 0.8959\n",
      "Epoch 250/300\n",
      "52/52 [==============================] - 3s 58ms/step - loss: 0.1732 - accuracy: 0.9453 - val_loss: 0.3524 - val_accuracy: 0.9225\n",
      "Epoch 251/300\n",
      "52/52 [==============================] - 3s 59ms/step - loss: 0.1713 - accuracy: 0.9403 - val_loss: 0.3147 - val_accuracy: 0.9274\n",
      "Epoch 252/300\n",
      "52/52 [==============================] - 3s 58ms/step - loss: 0.1691 - accuracy: 0.9439 - val_loss: 0.3690 - val_accuracy: 0.8959\n",
      "Epoch 253/300\n",
      "52/52 [==============================] - 3s 57ms/step - loss: 0.1615 - accuracy: 0.9448 - val_loss: 0.3421 - val_accuracy: 0.9104\n",
      "Epoch 254/300\n",
      "52/52 [==============================] - 3s 57ms/step - loss: 0.1426 - accuracy: 0.9531 - val_loss: 0.4108 - val_accuracy: 0.9056\n",
      "Epoch 255/300\n",
      "52/52 [==============================] - 3s 56ms/step - loss: 0.2067 - accuracy: 0.9335 - val_loss: 0.3076 - val_accuracy: 0.9298\n",
      "Epoch 256/300\n",
      "52/52 [==============================] - 3s 57ms/step - loss: 0.1965 - accuracy: 0.9360 - val_loss: 0.3330 - val_accuracy: 0.9249\n",
      "Epoch 257/300\n",
      "52/52 [==============================] - 3s 57ms/step - loss: 0.1613 - accuracy: 0.9425 - val_loss: 0.3392 - val_accuracy: 0.9153\n",
      "Epoch 258/300\n",
      "52/52 [==============================] - 3s 56ms/step - loss: 0.1441 - accuracy: 0.9574 - val_loss: 0.3888 - val_accuracy: 0.9056\n",
      "Epoch 259/300\n",
      "52/52 [==============================] - 3s 57ms/step - loss: 0.1472 - accuracy: 0.9512 - val_loss: 0.3484 - val_accuracy: 0.9153\n",
      "Epoch 260/300\n",
      "52/52 [==============================] - 3s 57ms/step - loss: 0.2020 - accuracy: 0.9283 - val_loss: 0.3736 - val_accuracy: 0.9104\n",
      "Epoch 261/300\n",
      "52/52 [==============================] - 3s 57ms/step - loss: 0.1557 - accuracy: 0.9381 - val_loss: 0.3587 - val_accuracy: 0.9056\n",
      "Epoch 262/300\n",
      "52/52 [==============================] - 3s 57ms/step - loss: 0.1465 - accuracy: 0.9434 - val_loss: 0.3389 - val_accuracy: 0.9128\n",
      "Epoch 263/300\n",
      "52/52 [==============================] - 3s 57ms/step - loss: 0.1685 - accuracy: 0.9481 - val_loss: 0.3919 - val_accuracy: 0.9007\n",
      "Epoch 264/300\n",
      "52/52 [==============================] - 3s 58ms/step - loss: 0.1351 - accuracy: 0.9468 - val_loss: 0.3701 - val_accuracy: 0.9104\n",
      "Epoch 265/300\n",
      "52/52 [==============================] - 3s 57ms/step - loss: 0.1618 - accuracy: 0.9512 - val_loss: 0.3126 - val_accuracy: 0.9225\n",
      "Epoch 266/300\n",
      "52/52 [==============================] - 3s 57ms/step - loss: 0.1593 - accuracy: 0.9435 - val_loss: 0.3130 - val_accuracy: 0.9056\n",
      "Epoch 267/300\n",
      "52/52 [==============================] - 3s 57ms/step - loss: 0.1718 - accuracy: 0.9333 - val_loss: 0.3825 - val_accuracy: 0.9177\n",
      "Epoch 268/300\n",
      "52/52 [==============================] - 3s 57ms/step - loss: 0.1622 - accuracy: 0.9539 - val_loss: 0.4110 - val_accuracy: 0.9128\n",
      "Epoch 269/300\n",
      "52/52 [==============================] - 3s 57ms/step - loss: 0.1683 - accuracy: 0.9426 - val_loss: 0.3513 - val_accuracy: 0.9104\n",
      "Epoch 270/300\n",
      "52/52 [==============================] - 3s 58ms/step - loss: 0.1512 - accuracy: 0.9545 - val_loss: 0.3013 - val_accuracy: 0.9298\n",
      "Epoch 271/300\n",
      "52/52 [==============================] - 3s 58ms/step - loss: 0.1570 - accuracy: 0.9430 - val_loss: 0.3619 - val_accuracy: 0.8935\n",
      "Epoch 272/300\n",
      "52/52 [==============================] - 3s 57ms/step - loss: 0.1385 - accuracy: 0.9569 - val_loss: 0.4082 - val_accuracy: 0.8862\n",
      "Epoch 273/300\n",
      "52/52 [==============================] - 3s 56ms/step - loss: 0.1442 - accuracy: 0.9570 - val_loss: 0.3398 - val_accuracy: 0.9177\n",
      "Epoch 274/300\n",
      "52/52 [==============================] - 3s 58ms/step - loss: 0.1448 - accuracy: 0.9505 - val_loss: 0.3517 - val_accuracy: 0.9104\n",
      "Epoch 275/300\n",
      "52/52 [==============================] - 3s 57ms/step - loss: 0.1604 - accuracy: 0.9470 - val_loss: 0.4114 - val_accuracy: 0.8814\n",
      "Epoch 276/300\n",
      "52/52 [==============================] - 3s 57ms/step - loss: 0.1461 - accuracy: 0.9513 - val_loss: 0.3392 - val_accuracy: 0.9056\n",
      "Epoch 277/300\n",
      "52/52 [==============================] - 3s 57ms/step - loss: 0.1336 - accuracy: 0.9523 - val_loss: 0.3137 - val_accuracy: 0.9104\n",
      "Epoch 278/300\n",
      "52/52 [==============================] - 3s 56ms/step - loss: 0.1445 - accuracy: 0.9492 - val_loss: 0.3297 - val_accuracy: 0.9128\n",
      "Epoch 279/300\n",
      "52/52 [==============================] - 3s 57ms/step - loss: 0.1421 - accuracy: 0.9501 - val_loss: 0.3926 - val_accuracy: 0.9007\n",
      "Epoch 280/300\n",
      "52/52 [==============================] - 3s 57ms/step - loss: 0.1627 - accuracy: 0.9461 - val_loss: 0.3348 - val_accuracy: 0.9225\n",
      "Epoch 281/300\n",
      "52/52 [==============================] - 3s 57ms/step - loss: 0.1518 - accuracy: 0.9411 - val_loss: 0.4275 - val_accuracy: 0.9031\n",
      "Epoch 282/300\n",
      "52/52 [==============================] - 3s 57ms/step - loss: 0.1495 - accuracy: 0.9509 - val_loss: 0.3167 - val_accuracy: 0.9322\n",
      "Epoch 283/300\n",
      "52/52 [==============================] - 3s 57ms/step - loss: 0.1339 - accuracy: 0.9506 - val_loss: 0.3443 - val_accuracy: 0.9056\n",
      "Epoch 284/300\n",
      "52/52 [==============================] - 3s 57ms/step - loss: 0.1458 - accuracy: 0.9512 - val_loss: 0.3792 - val_accuracy: 0.9201\n",
      "Epoch 285/300\n",
      "52/52 [==============================] - 3s 58ms/step - loss: 0.1351 - accuracy: 0.9546 - val_loss: 0.3928 - val_accuracy: 0.9080\n",
      "Epoch 286/300\n",
      "52/52 [==============================] - 3s 56ms/step - loss: 0.1711 - accuracy: 0.9423 - val_loss: 0.3313 - val_accuracy: 0.9080\n",
      "Epoch 287/300\n",
      "52/52 [==============================] - 3s 57ms/step - loss: 0.1297 - accuracy: 0.9580 - val_loss: 0.3440 - val_accuracy: 0.9225\n",
      "Epoch 288/300\n",
      "52/52 [==============================] - 3s 57ms/step - loss: 0.1642 - accuracy: 0.9451 - val_loss: 0.3821 - val_accuracy: 0.9225\n",
      "Epoch 289/300\n",
      "52/52 [==============================] - 3s 57ms/step - loss: 0.1505 - accuracy: 0.9442 - val_loss: 0.4285 - val_accuracy: 0.8910\n",
      "Epoch 290/300\n",
      "52/52 [==============================] - 3s 57ms/step - loss: 0.1620 - accuracy: 0.9305 - val_loss: 0.3305 - val_accuracy: 0.9153\n",
      "Epoch 291/300\n",
      "52/52 [==============================] - 3s 57ms/step - loss: 0.1356 - accuracy: 0.9541 - val_loss: 0.3495 - val_accuracy: 0.9249\n",
      "Epoch 292/300\n",
      "52/52 [==============================] - 3s 57ms/step - loss: 0.1487 - accuracy: 0.9486 - val_loss: 0.3368 - val_accuracy: 0.9177\n",
      "Epoch 293/300\n",
      "52/52 [==============================] - 3s 56ms/step - loss: 0.2002 - accuracy: 0.9373 - val_loss: 0.3190 - val_accuracy: 0.9104\n",
      "Epoch 294/300\n",
      "52/52 [==============================] - 3s 57ms/step - loss: 0.1321 - accuracy: 0.9518 - val_loss: 0.3602 - val_accuracy: 0.8935\n",
      "Epoch 295/300\n",
      "52/52 [==============================] - 3s 57ms/step - loss: 0.1483 - accuracy: 0.9568 - val_loss: 0.3827 - val_accuracy: 0.8959\n",
      "Epoch 296/300\n",
      "52/52 [==============================] - 3s 57ms/step - loss: 0.1608 - accuracy: 0.9478 - val_loss: 0.3629 - val_accuracy: 0.9153\n",
      "Epoch 297/300\n",
      "52/52 [==============================] - 3s 57ms/step - loss: 0.1490 - accuracy: 0.9477 - val_loss: 0.3681 - val_accuracy: 0.9031\n",
      "Epoch 298/300\n",
      "52/52 [==============================] - 3s 57ms/step - loss: 0.1448 - accuracy: 0.9443 - val_loss: 0.3194 - val_accuracy: 0.9274\n",
      "Epoch 299/300\n",
      "52/52 [==============================] - 3s 57ms/step - loss: 0.1543 - accuracy: 0.9468 - val_loss: 0.4257 - val_accuracy: 0.8959\n",
      "Epoch 300/300\n",
      "52/52 [==============================] - 3s 57ms/step - loss: 0.1207 - accuracy: 0.9637 - val_loss: 0.2995 - val_accuracy: 0.9395\n"
     ]
    }
   ],
   "source": [
    "fine_tune_epochs = 150\n",
    "total_epochs = len(history.epoch) + fine_tune_epochs\n",
    "\n",
    "history_fine = model.fit(train_gen,\n",
    "                         epochs=total_epochs,\n",
    "                         initial_epoch=history.epoch[-1]+1,\n",
    "                         validation_data=test_gen)\n"
   ]
  },
  {
   "cell_type": "code",
   "execution_count": 55,
   "metadata": {
    "colab": {
     "base_uri": "https://localhost:8080/",
     "height": 298
    },
    "id": "iBvcJBrgEqDq",
    "outputId": "13bcc251-6999-4b1a-dbbb-51fd91b6bdf1"
   },
   "outputs": [
    {
     "data": {
      "text/plain": [
       "<matplotlib.legend.Legend at 0x7f3b920fb710>"
      ]
     },
     "execution_count": 55,
     "metadata": {
      "tags": []
     },
     "output_type": "execute_result"
    },
    {
     "data": {
      "image/png": "[encoded data removed]",
      "text/plain": [
       "<Figure size 432x288 with 2 Axes>"
      ]
     },
     "metadata": {
      "needs_background": "light",
      "tags": []
     },
     "output_type": "display_data"
    }
   ],
   "source": [
    "loss = history_fine.history['loss']\n",
    "acc = history_fine.history['accuracy']\n",
    "val_loss = history_fine.history['val_loss']\n",
    "val_acc = history_fine.history['val_accuracy']\n",
    "epochs = range(fine_tune_epochs,fine_tune_epochs+len(history_fine.epoch))\n",
    "\n",
    "fig, ax = plt.subplots(2,1, sharex=True)\n",
    "\n",
    "ax[0].plot(epochs, loss, label='Training')\n",
    "ax[0].plot(epochs, val_loss, label='Validation')\n",
    "ax[0].set_ylabel('Loss')\n",
    "ax[0].legend()\n",
    "\n",
    "ax[1].plot(epochs, acc, label='Training')\n",
    "ax[1].plot(epochs, val_acc, label='Validation')\n",
    "ax[1].set_ylabel('Accuracy')\n",
    "ax[1].set_xlabel('Epochs')\n",
    "ax[1].legend()"
   ]
  },
  {
   "cell_type": "code",
   "execution_count": 56,
   "metadata": {
    "id": "YKypFnOzBfXw"
   },
   "outputs": [],
   "source": [
    "model.save('hand_digits.h5')"
   ]
  },
  {
   "cell_type": "markdown",
   "metadata": {},
   "source": [
    "Test Code"
   ]
  },
  {
   "cell_type": "code",
   "execution_count": 57,
   "metadata": {
    "id": "3hPk6s0MzQwm"
   },
   "outputs": [],
   "source": [
    "loaded_model = load_model('/content/drive/MyDrive/Datasets/Hand-Digits/hand_digits.h5')"
   ]
  },
  {
   "cell_type": "code",
   "execution_count": 58,
   "metadata": {
    "colab": {
     "base_uri": "https://localhost:8080/"
    },
    "id": "0Ny3zWve0RP3",
    "outputId": "a34708c5-95d6-4163-ec9f-defd431f0d6e"
   },
   "outputs": [
    {
     "name": "stdout",
     "output_type": "stream",
     "text": [
      "Model: \"Sign_Digits\"\n",
      "_________________________________________________________________\n",
      "Layer (type)                 Output Shape              Param #   \n",
      "=================================================================\n",
      "resnet50 (Functional)        (None, 2, 2, 2048)        23587712  \n",
      "_________________________________________________________________\n",
      "flatten_2 (Flatten)          (None, 8192)              0         \n",
      "_________________________________________________________________\n",
      "dense_6 (Dense)              (None, 512)               4194816   \n",
      "_________________________________________________________________\n",
      "dense_7 (Dense)              (None, 256)               131328    \n",
      "_________________________________________________________________\n",
      "dense_8 (Dense)              (None, 10)                2570      \n",
      "=================================================================\n",
      "Total params: 27,916,426\n",
      "Trainable params: 13,260,042\n",
      "Non-trainable params: 14,656,384\n",
      "_________________________________________________________________\n"
     ]
    }
   ],
   "source": [
    "loaded_model.summary()"
   ]
  },
  {
   "cell_type": "code",
   "execution_count": 70,
   "metadata": {
    "colab": {
     "base_uri": "https://localhost:8080/",
     "height": 296
    },
    "id": "g3Gxdp0x00_E",
    "outputId": "9e941b73-3771-44d8-a53c-e81f64968234"
   },
   "outputs": [
    {
     "data": {
      "image/png": "[encoded data removed]",
      "text/plain": [
       "<Figure size 432x288 with 1 Axes>"
      ]
     },
     "metadata": {
      "needs_background": "light",
      "tags": []
     },
     "output_type": "display_data"
    }
   ],
   "source": [
    "x = random.randint(0,len(rgb_test))\n",
    "\n",
    "y_pred = model.predict(rgb_test[x].reshape(1,64,64,3))\n",
    "actual_label = np.argmax(y_test[x])\n",
    "pred_label = np.argmax(y_pred)\n",
    "plt.imshow(rgb_test[x])\n",
    "plt.title(f'Actual: {actual_label}\\nPredicted: {pred_label}');"
   ]
  },
  {
   "cell_type": "code",
   "execution_count": null,
   "metadata": {
    "id": "2aTNNMtD1Z7D"
   },
   "outputs": [],
   "source": []
  }
 ],
 "metadata": {
  "accelerator": "GPU",
  "colab": {
   "collapsed_sections": [],
   "name": "Hand-digits.ipynb",
   "provenance": []
  },
  "kernelspec": {
   "display_name": "Python 3",
   "language": "python",
   "name": "python3"
  },
  "language_info": {
   "codemirror_mode": {
    "name": "ipython",
    "version": 3
   },
   "file_extension": ".py",
   "mimetype": "text/x-python",
   "name": "python",
   "nbconvert_exporter": "python",
   "pygments_lexer": "ipython3",
   "version": "3.8.5"
  }
 },
 "nbformat": 4,
 "nbformat_minor": 1
}
